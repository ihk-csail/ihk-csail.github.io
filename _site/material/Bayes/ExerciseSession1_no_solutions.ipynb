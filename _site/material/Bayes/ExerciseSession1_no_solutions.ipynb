{
 "cells": [
  {
   "cell_type": "code",
   "execution_count": null,
   "metadata": {
    "tags": []
   },
   "outputs": [],
   "source": [
    "%autosave 120\n",
    "import numpy as np\n",
    "import pandas as pd\n",
    "%matplotlib notebook\n",
    "import matplotlib.pyplot as plt\n",
    "from IPython.display import display, Markdown, clear_output\n",
    "import ipywidgets as widgets"
   ]
  },
  {
   "cell_type": "markdown",
   "metadata": {},
   "source": [
    "# Bayesian reasoning\n",
    "\n",
    "Through these exercices, we will see how we can make probabilistic statements using the Bayes' rule. These examples will allow us to work on the concepts of prior, likelihood and posterior probabilities."
   ]
  },
  {
   "cell_type": "markdown",
   "metadata": {},
   "source": [
    "## Exercise 1 (Bayesian Data Analysis, Gelman et al, Chapter 1)\n",
    "\n",
    "Humans male have one X-chromosome and one Y-chromosome, whereas females have two X-chromosomes, each chromosome being inherited from one parent. Hemophilia is a disease that exhibits X-chromosome-linked recessive inheritance, meaning that a male who inherits the gene that causes the disease on the X-chromosome is affected, while a female carrying the gene on only one of her two X-chromosomes is not affected.\n",
    "\n",
    "Let's consider a woman who has an affected brother and an unaffected father. This implies that her mother carries the hemophilias gene with one \"good\" and one \"bad\" gene. Let's consider the random variable $\\theta$ describing the state of the woman (carrier or not carrier). \n",
    "\n",
    "**1) Give the prior distribution of $\\theta$.**\n",
    "\n",
    "**2)** We are told that the woman has two sons, neither of whom is affected. We consider the random variable $y_i = 1, 0$ which denotes if the son number i is affected or not. The outcomes of the two sons are exchangeable, and conditional on the unknown $\\theta$ are indepedent. We'll denote the data $(y_1, y_2)$ as $y$.\n",
    "\n",
    "**Relying on this information, derive the posterior probability of the woman being affected.**\n",
    "\n",
    "**3)** Let's suppose that the woman has a third son who is also unaffected. \n",
    "\n",
    "**What is the new posterior probability $Pr(\\theta=1|y_1, y_2, y_3)$ ?**\n",
    "\n",
    "Through this example, we saw that one of the advantages of Bayesian reasoning is that it allows to perform analysis on sequential data. In this case, we didn't need to redo all the calculation, but we rather used the posterior distribution as our new prior."
   ]
  },
  {
   "cell_type": "markdown",
   "metadata": {},
   "source": [
    "## Exercise 2 (Bayesian Data Analysis, Gelman et al, Chapter 1)\n",
    "\n",
    "Approximately 1/125 of all births are fraternal twins and 1/300 of all births are identical twins. Elvis Presley had a twin brother (who died at birth). \n",
    "\n",
    "**What is the probability that Elvis was an identical twin ? We will approximate the probability of a boy or a girl birth as 1/2.**\n",
    "\n"
   ]
  },
  {
   "cell_type": "markdown",
   "metadata": {},
   "source": [
    "## Exercise 3 (Bayesian Data Analysis, Gelman et al, Chapter 2)"
   ]
  },
  {
   "cell_type": "markdown",
   "metadata": {},
   "source": [
    "An early study on *placenta previa*, a condition of pregnancy, found that on a sample of 980 births, 437 were females. We also know that the proportion of female births in the general population is of 0.485. We will denote by $\\theta$ the probability of a female birth when the mother is suffering from *placenta previa*. We will assume a prior distribution p($\\theta$) = Beta($\\alpha$, $\\beta$). \n",
    "\n",
    "**1) Write the data likelihood.**\n",
    "\n",
    "**2) Give the posterior probability of the number of births $\\theta$ (up to a constant).**\n",
    "\n",
    "**3) How much evidence this data provide for the claim that the proportion of female births is below 0.485, the proportion of females in the general population ? You'll be summarizing information about the posterior distribution using statistics such as the median or posterior intervals.**"
   ]
  },
  {
   "cell_type": "code",
   "execution_count": null,
   "metadata": {},
   "outputs": [],
   "source": [
    "n = 980\n",
    "k = 437\n",
    "\n",
    "N = 500\n",
    "\n",
    "alpha_prior = [1,5,10,50]\n",
    "beta_prior = [1,5,10,50]\n",
    "\n",
    "pairs = [[a,b] for a in alpha_prior for b in beta_prior]\n",
    "\n",
    "results = []\n",
    "\n",
    "for a,b in pairs:\n",
    "    alpha_post = \n",
    "    beta_post = \n",
    "    sample_posterior = \n",
    "    sample_stats = np.quantile(sample_posterior, [0.5, 0.05, 0.95])\n",
    "    results.append([])\n",
    "    \n",
    "print(pd.DataFrame(results, columns = ['alpha', 'beta', 'prior mean', 'prior var', 'post median','95% post CI']))"
   ]
  },
  {
   "cell_type": "markdown",
   "metadata": {},
   "source": [
    "# Probability assignment (Bayesian Data Analysis, Gelman et al, Chapter 1)\n",
    "\n",
    "This exercise aims at showing how probabilities can be assigned starting from a set of subjective assessments.\n",
    "We will see how this can be done by first relying only on observed data. Then we will see how we can build a simple parametric model based on this empirical evidence."
   ]
  },
  {
   "cell_type": "code",
   "execution_count": null,
   "metadata": {},
   "outputs": [],
   "source": [
    "data = pd.read_csv('football_dataset.txt', index_col=False, header=0, sep=\",\")"
   ]
  },
  {
   "cell_type": "markdown",
   "metadata": {},
   "source": [
    "Football experts provide a *point spread* for every football game as a measure of the difference in ability between two teams. For instance, team A might be a 4-point favorite to defeat team B. This means that $p(team \\ A \\ wins \\ by \\ more \\ than \\ 4 \\ points) = \\frac{1}{2}$. The football dataset provides the point spread and actual game outcome for professional football games played between 1981 and 1984."
   ]
  },
  {
   "cell_type": "code",
   "execution_count": null,
   "metadata": {},
   "outputs": [],
   "source": [
    "%matplotlib inline\n",
    "outcome = np.array(data['favorite'] - data['underdog']) \n",
    "point_spread = np.array(data['spread'])\n",
    "\n",
    "plt.figure(figsize=(6,4))\n",
    "plt.scatter(point_spread +  0.2*np.random.rand((point_spread.shape[0])) - 0.1,\n",
    "            outcome + 0.4*np.random.rand((outcome.shape[0])) - 0.2, s=3)\n",
    "plt.xlabel('Point spread')\n",
    "plt.ylabel('Outcome')\n",
    "plt.title('Outcome VS Point spread')\n",
    "plt.show()\n",
    "print('Number of games in dataset = ' + str(len(outcome)))"
   ]
  },
  {
   "cell_type": "markdown",
   "metadata": {},
   "source": [
    "## Assigning probabilities based on observed frequencies\n",
    "\n",
    "It is of interest to assign probabilities to particular events. A first and natural approach can be to rely on the data that's been gathered to obtain empirical estimates.\n",
    "\n",
    "**1) Compute:**\n",
    "\n",
    "- **P1 = Pr(Favorite wins)**\n",
    "- **P2 = Pr(Favorite wins | point spread = 3.5)**\n",
    "- **P3 = Pr(Favorite wins by more than the point spread)**\n",
    "- **P4 = Pr(Favorite wins by more than the point spread | point spread = 3.5)**\n",
    "\n",
    "We will consider a tied game as one-half win and one-half loss. We will also ignore games without any favorite (point spread = 0)"
   ]
  },
  {
   "cell_type": "code",
   "execution_count": null,
   "metadata": {},
   "outputs": [],
   "source": [
    "# P1\n",
    "\n",
    "n_favorite_wins = 0\n",
    "for out,ps in zip(outcome,point_spread):\n",
    "    if ps != 0 and out>0:\n",
    "        n_favorite_wins += 1\n",
    "\n",
    "P1 = n_favorite_wins/np.count_nonzero(point_spread)\n",
    "\n",
    "print('P1 = ' + str(P1))\n",
    "\n",
    "# P2\n",
    "i=0\n",
    "j=0\n",
    "\n",
    "for out, ps in zip(outcome, point_spread):\n",
    "    if ps==3.5 and out>0:\n",
    "        # Update i\n",
    "    if ps==3.5:\n",
    "        # Update j\n",
    "        \n",
    "P2 = \n",
    "print('P2 = ' + str(P2))\n",
    "\n",
    "# P3\n",
    "\n",
    "\n",
    "\n",
    "\n",
    "# P4\n",
    "\n",
    "\n",
    "\n",
    "\n"
   ]
  },
  {
   "cell_type": "markdown",
   "metadata": {},
   "source": [
    "**2) Compute the following probabilities and comment the results: **\n",
    "\n",
    "- **P5 = Pr(Favorite wins | point spread = 8.5)**\n",
    "- **P6 = Pr(Favorite wins | point spread = 9)**"
   ]
  },
  {
   "cell_type": "code",
   "execution_count": null,
   "metadata": {},
   "outputs": [],
   "source": [
    "# P5\n",
    "\n",
    "\n",
    "\n",
    "\n",
    "\n",
    "\n",
    "print('Number of wins of 8.5-point favorite: ' + str(i))\n",
    "print('Number of games with 8.5-point  favorite: ' +str(j))\n",
    "print('P5 = ' + str(P5))\n",
    "\n",
    "# P6\n",
    "\n",
    "\n",
    "\n",
    "\n",
    "\n",
    "print('Number of wins of 9-point favorite: ' + str(i))\n",
    "print('Number of games with 9-point favorite: ' +str(j))\n",
    "print('P6 = ' + str(P6))"
   ]
  },
  {
   "cell_type": "markdown",
   "metadata": {},
   "source": [
    "## A parametric model for the difference between outcome and point spread\n",
    "\n",
    "The graph below shows the difference between a game outcome and the point spread, plotted against the point spread.\n",
    "Let's denote by y the outcome of a game and x its point spread."
   ]
  },
  {
   "cell_type": "code",
   "execution_count": null,
   "metadata": {},
   "outputs": [],
   "source": [
    "y = np.array(data['favorite'] - data['underdog'])\n",
    "x = np.array(data['spread'])\n",
    "z = y - x\n",
    "plt.figure(figsize=(6,4))\n",
    "plt.scatter(x +  0.2*np.random.rand((x.shape[0])) - 0.1, \n",
    "            z + 0.4*np.random.rand((z.shape[0])) - 0.2, s=3)\n",
    "\n",
    "plt.xlabel('x')\n",
    "plt.ylabel('z = y - x')\n",
    "plt.title('z vs x')\n",
    "plt.show()"
   ]
  },
  {
   "cell_type": "markdown",
   "metadata": {},
   "source": [
    "**3) Plot the histogram of z, and the approximated Gaussian distribution of z|x.**"
   ]
  },
  {
   "cell_type": "code",
   "execution_count": null,
   "metadata": {},
   "outputs": [],
   "source": [
    "import seaborn as sns\n",
    "import matplotlib.pyplot as plt\n",
    "plt.style.use('ggplot')\n",
    "\n",
    "# Use norm from scipy.stats\n",
    "\n",
    "# Determine sample's mean and variance\n",
    "sample_mean = \n",
    "sample_std_dev = \n",
    "print(\"Sample mean = \" + str(sample_mean))\n",
    "print(\"Sample std dev = \" + str(sample_std_dev))\n",
    "\n",
    "# Provide the distribution\n",
    "dist = \n",
    "\n",
    "# Plot the histogram and approximated Gaussian pdf\n"
   ]
  },
  {
   "cell_type": "markdown",
   "metadata": {},
   "source": [
    "The plot of z vs x suggests that it may be reasonable to model the distribution of z as independent of x. The histogram above shows the empirical distribution of z with a fitted normal distribution plotted over it. This graph suggests that it may be acceptable to approximate the distribution of the random variable z as a Normal distribution of mean $\\mu = 0.22$ and standard deviation of $\\sigma = 13.7$. For the rest of this exercise, we will assume z to follow a Gaussian distribution with these sample mean and standard deviation, and to be independent of x. So we can write: $z|x \\sim \\mathcal{N}(\\mu, \\sigma^{2})$. \n",
    "<br>\n",
    "<br>\n",
    "This model is not perfect as it does not exactly fit the data, and describes continuous-valued quantities while game scores or point-spreads are discrete. However, such a model provides an approximation that can be used to assign probabilities to events. Indeed:\n",
    "\n",
    "P(y > 0 | x) = P(z+x > 0 | x) = P(z > -x | x) = 1 - P(z < -x | x)\n",
    "\n",
    "As z follows a Gaussian distribution, we can easily compute its Cumulative Distribution Function (CDF).\n",
    "\n",
    "**4) Making use of the approximated distribution of z|x, compute the following probabilities:**\n",
    "\n",
    "- **P7 = Pr(Favorite wins | point spread = 3.5)**\n",
    "- **P8 = Pr(Favorite wins | point spread = 8.5)**\n",
    "- **P9 = Pr(Favorite wins | point spread = 9)**\n"
   ]
  },
  {
   "cell_type": "markdown",
   "metadata": {},
   "source": []
  },
  {
   "cell_type": "code",
   "execution_count": null,
   "metadata": {},
   "outputs": [],
   "source": [
    "#Use the cdf function from scipy.stats\n",
    "\n",
    "P7 = \n",
    "P8 = \n",
    "P9 = \n",
    "\n",
    "print('P7 = ' + str(P7))\n",
    "print('P8 = ' + str(P6))\n",
    "print('P9 = ' + str(P9))"
   ]
  },
  {
   "cell_type": "markdown",
   "metadata": {},
   "source": [
    "# Posterior inference (Bayesian Data Analysis, Gelman et al, Chapter 2)\n",
    "\n",
    "This exercise illustrates how to do posterior inference using standard probability distributions introduced in the class.\n",
    "\n",
    "Suppose you have a Beta(4,4) prior distribution on the probability $\\theta$ that a coin will yield a \"head\" when spun in a specified manner. The coin is independently spun ten times, and \"heads\" appear fewer than 3 times. You don't know how many heads were seen, but only that their number is less than 3. We will denote by y the random variable giving the number of heads obtained after the 10 throws.\n",
    "\n",
    "**1) Write the prior probability distribution of $\\theta$ and the conditional y|$\\theta$.**"
   ]
  },
  {
   "cell_type": "markdown",
   "metadata": {},
   "source": []
  },
  {
   "cell_type": "markdown",
   "metadata": {},
   "source": [
    "**2) Write the data likelihood.**"
   ]
  },
  {
   "cell_type": "markdown",
   "metadata": {},
   "source": []
  },
  {
   "cell_type": "markdown",
   "metadata": {},
   "source": [
    "**3) Calculate the posterior density of $\\theta$ (up to a constant).**"
   ]
  },
  {
   "cell_type": "markdown",
   "metadata": {},
   "source": []
  },
  {
   "cell_type": "markdown",
   "metadata": {},
   "source": [
    "**4) Plot the posterior distribution of $\\theta$ (up to a constant).**"
   ]
  },
  {
   "cell_type": "markdown",
   "metadata": {},
   "source": []
  },
  {
   "cell_type": "markdown",
   "metadata": {},
   "source": [
    "# Predictive prior distribution (Bayesian Data Analysis, Gelman et al, Chapter 2)\n",
    "\n",
    "In this exercise, we show how we can incorporate all the information we have about the parameters of an experiment, in order to derive a predictive prior over the results of this experiement."
   ]
  },
  {
   "cell_type": "markdown",
   "metadata": {},
   "source": [
    "Let y be the number of 6's in 1000 independent rolls of a particular real die, which may be unfair. Let $\\theta$ be the probability that the die lands on 6. We assume the following prior distribution for $\\theta$:\n",
    "\n",
    "$$\n",
    "\\begin{align}\n",
    "Pr(\\theta = \\frac{1}{12}) & = 0.25 \\\\\n",
    "Pr(\\theta = \\frac{1}{6}) & = 0.5 \\\\\n",
    "Pr(\\theta = \\frac{1}{4}) & = 0.25.\n",
    "\\end{align}\n",
    "$$\n",
    "\n",
    "**1) Using the normal approximation, give the conditional distribution p(y|$\\theta$).**"
   ]
  },
  {
   "cell_type": "markdown",
   "metadata": {},
   "source": []
  },
  {
   "cell_type": "markdown",
   "metadata": {},
   "source": [
    "**2) Give an approximate prior distribution for p(y) and plot it.**"
   ]
  },
  {
   "cell_type": "markdown",
   "metadata": {},
   "source": []
  },
  {
   "cell_type": "code",
   "execution_count": null,
   "metadata": {},
   "outputs": [],
   "source": [
    "y = np.arange(50,300)\n",
    "prob_y = \n",
    "plt.figure()\n",
    "plt.plot(y,prob_y)\n",
    "plt.xlabel('y')\n",
    "plt.ylabel('density')\n",
    "\n",
    "plt.show()"
   ]
  },
  {
   "cell_type": "markdown",
   "metadata": {},
   "source": [
    "**3) Give approximate 5%, 25%, 50%, 75%, 95% points for the distribution of y.**"
   ]
  },
  {
   "cell_type": "code",
   "execution_count": null,
   "metadata": {},
   "outputs": [],
   "source": []
  }
 ],
 "metadata": {
  "kernelspec": {
   "display_name": "Python 3 (ipykernel)",
   "language": "python",
   "name": "python3"
  },
  "language_info": {
   "codemirror_mode": {
    "name": "ipython",
    "version": 3
   },
   "file_extension": ".py",
   "mimetype": "text/x-python",
   "name": "python",
   "nbconvert_exporter": "python",
   "pygments_lexer": "ipython3",
   "version": "3.9.12"
  },
  "widgets": {
   "application/vnd.jupyter.widget-state+json": {
    "state": {},
    "version_major": 1,
    "version_minor": 0
   }
  }
 },
 "nbformat": 4,
 "nbformat_minor": 4
}
