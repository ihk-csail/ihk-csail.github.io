{
 "cells": [
  {
   "cell_type": "markdown",
   "metadata": {},
   "source": [
    "# Random variables: distributions and sampling"
   ]
  },
  {
   "cell_type": "markdown",
   "metadata": {},
   "source": [
    "In this lesson we recall some classical random variables (discrete and continuous) which are typically used in several real application in Bayesian modeling. We give their distributions and derive theoretically some basic characteristics. We will then sample from these distributions and verify empirically the previously obtained quantities."
   ]
  },
  {
   "cell_type": "markdown",
   "metadata": {},
   "source": [
    "## Discrete distributions: \n",
    "\n",
    "Discrete random variables take values over a countable set of possible values."
   ]
  },
  {
   "cell_type": "markdown",
   "metadata": {},
   "source": [
    "### Bernoulli distribution $(\\theta)$:\n",
    "\n",
    "The Bernoully random variable is typically used to describe an experiment in which you could have 2 outputs (success and failure). It depends on one parameter, $\\theta$. Let $X\\sim\\mathcal{B}(\\theta)$, then $X$ takes the value 1 with probability $\\theta$ and the value 0 with probability $1-\\theta$. \n",
    "\n",
    "$p(X=1)=\\theta=1-p(X=0)$.\n",
    "\n",
    "$E(X)=\\theta$, $Var(X)=\\theta(1-\\theta)$."
   ]
  },
  {
   "cell_type": "code",
   "execution_count": 1,
   "metadata": {
    "tags": []
   },
   "outputs": [
    {
     "name": "stdout",
     "output_type": "stream",
     "text": [
      "Frequnce of 1s = 0.301\n",
      "Mean = 0.3\n",
      "Variance = 0.21\n",
      "The sampling mean and variance are respectively 0.30 and 0.21\n"
     ]
    },
    {
     "data": {
      "text/plain": [
       "[Text(0.5, 0, 'Bernoulli'), Text(0, 0.5, 'Frequency')]"
      ]
     },
     "execution_count": 1,
     "metadata": {},
     "output_type": "execute_result"
    },
    {
     "data": {
      "image/png": "[encoded data removed]",
      "text/plain": [
       "<Figure size 432x288 with 1 Axes>"
      ]
     },
     "metadata": {},
     "output_type": "display_data"
    }
   ],
   "source": [
    "from scipy.stats import bernoulli\n",
    "import numpy as np\n",
    "import seaborn as sns\n",
    "import matplotlib.pyplot as plt\n",
    "plt.style.use('ggplot')\n",
    "\n",
    "theta = 0.3\n",
    "N = 1000\n",
    "\n",
    "# Generate N Bernoulli trials \n",
    "x = bernoulli.rvs(p=theta,size=N)\n",
    "\n",
    "# Print frequence of occurrence of 1 in x:\n",
    "occurrences1 = np.count_nonzero(x == 1)\n",
    "\n",
    "print(f'Frequnce of 1s = {occurrences1/N}')\n",
    "\n",
    "# Evaluate mean and variance\n",
    "mean_x = bernoulli.mean(p=theta)\n",
    "var_x = bernoulli.var(p=theta)\n",
    "\n",
    "print(f'Mean = {mean_x}')\n",
    "print(f'Variance = {var_x}')\n",
    "\n",
    "# Sampling mean and variance\n",
    "sample_mean = np.mean(x)\n",
    "sample_var = np.var(x)\n",
    "print('The sampling mean and variance are respectively {0:.2f} and {1:.2f}'.format(sample_mean, sample_var))\n",
    "\n",
    "ax= sns.histplot(x,\n",
    "                 kde=False,\n",
    "                 color=\"skyblue\",\n",
    "                 binwidth=.1,\n",
    "                 alpha = 1)\n",
    "ax.set(xlabel='Bernoulli', ylabel='Frequency')"
   ]
  },
  {
   "cell_type": "markdown",
   "metadata": {},
   "source": [
    "**Exercise.** Derive the expectation and variance for a random variable $X\\sim\\mathcal{B}(\\theta)$."
   ]
  },
  {
   "cell_type": "markdown",
   "metadata": {},
   "source": [
    "#### Expectation and Variance of a Bernoulli random variable\n",
    "\n",
    "Let $X\\sim\\mathcal{B}(\\theta)$. Evaluate $E(X)$ and $Var(X)$."
   ]
  },
  {
   "cell_type": "markdown",
   "metadata": {},
   "source": [
    "$E(X)=\\sum_x xp(X=x)=1*p(X=1)+0*p(X=0)=\\theta$"
   ]
  },
  {
   "cell_type": "markdown",
   "metadata": {},
   "source": [
    "$E(X^2) = \\sum_x x^2p(X=x) = 1^2*p(X=1)+0^2p(X=0) = \\theta$\n",
    "\n",
    "$Var(X) = E(X^2)-(E(X))^2 = \\theta - \\theta^2 = \\theta (1-\\theta)$\n",
    "\n"
   ]
  },
  {
   "cell_type": "markdown",
   "metadata": {},
   "source": [
    "### Binomial distribution $(n,\\theta)$:\n",
    "\n",
    "The Binomial distribution is the random variable resulting from the sum of $n$ independent Bernoulli random variables: it counts the number of success after $n$ independent Bernoulli trials with parameter $\\theta$. Let $X\\sim\\textrm{Binomial}(n,\\theta)$, then $X:=\\sum_{i=1}^nY_i$, where $Y_i$ are iid $\\mathcal{B}(\\theta)$. $X$ can take any value in the set $\\{0,\\dots,n\\}$.\n",
    "\n",
    "For all $k=0,\\dots,n$: $p(X=k)={{n}\\choose{k}}\\theta^k(1-\\theta)^{n-k}$, where ${{n}\\choose{k}}:=\\frac{n!}{k!(n-k)!}$ is the binomial coefficient.\n",
    "\n",
    "$E(X)=n\\theta$, $Var(X)=n\\theta(1-\\theta)$."
   ]
  },
  {
   "cell_type": "markdown",
   "metadata": {},
   "source": [
    "**Exercise.** Generate $N$ Binomial experiments with given $n, \\theta$ and compare the theoretical and the sampling mean and variance. Comment the frequency plot."
   ]
  },
  {
   "cell_type": "code",
   "execution_count": 2,
   "metadata": {
    "tags": []
   },
   "outputs": [
    {
     "name": "stdout",
     "output_type": "stream",
     "text": [
      "Mean = 1.0\n",
      "Variance = 0.95\n",
      "The sampling mean and variance are respectively 1.00 and 0.93\n"
     ]
    },
    {
     "data": {
      "text/plain": [
       "[Text(0.5, 0, 'Binomial'), Text(0, 0.5, 'Frequency')]"
      ]
     },
     "execution_count": 2,
     "metadata": {},
     "output_type": "execute_result"
    },
    {
     "data": {
      "image/png": "[encoded data removed]",
      "text/plain": [
       "<Figure size 432x288 with 1 Axes>"
      ]
     },
     "metadata": {},
     "output_type": "display_data"
    }
   ],
   "source": [
    "from scipy.stats import binom\n",
    "import numpy as np\n",
    "import seaborn as sns\n",
    "import matplotlib.pyplot as plt\n",
    "plt.style.use('ggplot')\n",
    "\n",
    "theta = 0.05\n",
    "n = 20\n",
    "N = 10000\n",
    "\n",
    "# Generate N Binomial experiments \n",
    "x = binom.rvs(n=n,p=theta,size=N)\n",
    "\n",
    "# Evaluate mean and variance\n",
    "mean_x = binom.mean(n=n,p=theta)\n",
    "var_x = binom.var(n=n,p=theta)\n",
    "\n",
    "print(f'Mean = {mean_x}')\n",
    "print(f'Variance = {var_x}')\n",
    "\n",
    "# Sampling mean and variance\n",
    "sample_mean = np.mean(x)\n",
    "sample_var = np.var(x)\n",
    "print('The sampling mean and variance are respectively {0:.2f} and {1:.2f}'.format(sample_mean, sample_var))\n",
    "\n",
    "ax= sns.histplot(x,\n",
    "                 kde=False,\n",
    "                 color=\"skyblue\",\n",
    "                 binwidth=.5,\n",
    "                 alpha = 1)\n",
    "ax.set(xlabel='Binomial', ylabel='Frequency')"
   ]
  },
  {
   "cell_type": "markdown",
   "metadata": {},
   "source": [
    "**Exercise.** Derive the expectation and variance for a random variable $X\\sim\\textrm{Binomial}(n,\\theta)$."
   ]
  },
  {
   "cell_type": "markdown",
   "metadata": {},
   "source": [
    "#### Expectation and variance of a Binomial random variable\n",
    "\n",
    "Let $X\\sim\\textrm{Binomial}(n,\\theta)$. Evaluate $E(X)$ and $Var(X)$."
   ]
  },
  {
   "cell_type": "markdown",
   "metadata": {},
   "source": [
    "In order to evaluate the expectation and variance of $X$ we use the fact that it is defined as the sum of $n$ independent Bernoulli random variables with parameter $\\theta$.\n",
    "\n",
    "$E(X) = \\sum_iE(Y_i) = n\\theta$\n",
    "\n",
    "$Var(X) = \\sum_iVar(Y_i) = n\\theta(1-\\theta)$"
   ]
  },
  {
   "cell_type": "markdown",
   "metadata": {},
   "source": [
    "## Continuous distributions: \n",
    "\n",
    "We introduce some continuous random variables supported on $\\mathbb{R}$ or on intervals of the real line. Continuous random variables are typically characterized through their *probability density function* (pdf), which describes somehow the probability that the random variable falls within a specific interval. Indeed, in the continuous case, the probability that $X$ is equal to a specific point in the real line will be always equal to zero due to the dimension of the considered interval. \n",
    "\n",
    "Let us supposed that $X$ is a continuous random variable defined over $\\mathbb{R}$, $\\textrm{pdf}_X$ its probability density function:\n",
    "\n",
    "$p(a\\leq X\\leq b)=\\int_a^b \\textrm{pdf}_X(x)dx$"
   ]
  },
  {
   "cell_type": "markdown",
   "metadata": {},
   "source": [
    "### Uniform distribution $(a,b)$:\n",
    "\n",
    "Given an interval $[a,b]\\in\\mathbb{R}$, a uniform random variable over $[a,b]$ can takes with equal (uniform) probability any value in the interval $[a,b]$.  \n",
    "\n",
    "Let $X\\sim\\mathcal{U}(a,b)$, then $\\textrm{pdf}_X(x) = \\frac{1}{b-a}\\mathbb{I}_{[a,b]}(x)$,\n",
    "\n",
    "where $\\mathbb{I}_{[a,b]}(x)$ denotes the indicator matrix, $\\mathbb{I}_{[a,b]}(x)=1$ if $x\\in[a,b]$, 0 otherwise.\n",
    "\n",
    "$E(X)=\\frac{1}{2}(a+b)$, $Var(X)=\\frac{1}{12}(b-a)^2$"
   ]
  },
  {
   "cell_type": "code",
   "execution_count": 3,
   "metadata": {
    "tags": []
   },
   "outputs": [
    {
     "name": "stdout",
     "output_type": "stream",
     "text": [
      "Mean = 3.5\n",
      "Variance = 0.75\n",
      "The sampling mean and variance are respectively 3.51 and 0.75\n"
     ]
    },
    {
     "data": {
      "text/plain": [
       "<matplotlib.legend.Legend at 0x7fa8600b50a0>"
      ]
     },
     "execution_count": 3,
     "metadata": {},
     "output_type": "execute_result"
    },
    {
     "data": {
      "image/png": "[encoded data removed]",
      "text/plain": [
       "<Figure size 432x288 with 1 Axes>"
      ]
     },
     "metadata": {},
     "output_type": "display_data"
    }
   ],
   "source": [
    "from scipy.stats import uniform\n",
    "import numpy as np\n",
    "import seaborn as sns\n",
    "import matplotlib.pyplot as plt\n",
    "plt.style.use('ggplot')\n",
    "\n",
    "a = 2\n",
    "b = 5\n",
    "N=1000\n",
    "\n",
    "# Generate N random number from U(a,b) \n",
    "x = uniform.rvs(loc=a, scale=b-a,size=N)\n",
    "\n",
    "# Evaluate mean and variance\n",
    "mean_x = uniform.mean(loc=a, scale=b-a)\n",
    "var_x = uniform.var(loc=a, scale=b-a)\n",
    "\n",
    "print(f'Mean = {mean_x}')\n",
    "print(f'Variance = {var_x}')\n",
    "\n",
    "# Sampling mean and variance\n",
    "sample_mean = np.mean(x)\n",
    "sample_var = np.var(x)\n",
    "print('The sampling mean and variance are respectively {0:.2f} and {1:.2f}'.format(sample_mean, sample_var))\n",
    "\n",
    "x_lin = np.linspace(uniform.ppf(0.01,loc=a, scale=b-a),uniform.ppf(0.99,loc=a, scale=b-a), 100)\n",
    "\n",
    "ax= sns.histplot(x,\n",
    "                 kde=False,\n",
    "                 color=\"skyblue\",\n",
    "                 alpha=1,\n",
    "                 stat='density'\n",
    "                )\n",
    "ax.set_xlim([a-1, b+1])\n",
    "ax.plot(x_lin, uniform.pdf(x_lin,loc=a, scale=b-a),'r-', lw=5, alpha=0.6, label='uniform pdf')\n",
    "ax.set(xlabel='Uniform', ylabel='Frequency')\n",
    "ax.legend(loc='best', frameon=False)\n"
   ]
  },
  {
   "cell_type": "markdown",
   "metadata": {},
   "source": [
    "**Exercise.** Derive the expectation and variance for a random variable $X\\sim\\mathcal{U}(a,b)$."
   ]
  },
  {
   "cell_type": "markdown",
   "metadata": {},
   "source": [
    "#### Expectation and variance of a Uniform random variable\n",
    "\n",
    "Let $X\\sim\\mathcal{U}(a,b)$. Evaluate $E(X)$ and $Var(X)$."
   ]
  },
  {
   "cell_type": "markdown",
   "metadata": {},
   "source": [
    "\\begin{align}\n",
    "E(X) & = \\int_{\\mathbb{R}}x\\textrm{pdf}_X(x)dx = \\int_a^b\\frac{1}{b-a}xdx\\\\\n",
    "& = \\frac{1}{b-a}\\int_a^bxdx = \\frac{1}{b-a}\\left[\\frac{x^2}{2}\\right]_a^b\\\\\n",
    "& = \\frac{1}{b-a}\\left(\\frac{b^2-a^2}{2}\\right) = \\frac{1}{b-a}\\left(\\frac{(b-a)(b+a))}{2}\\right)\\\\\n",
    "& = \\frac{b+a}{2}\n",
    "\\end{align}"
   ]
  },
  {
   "cell_type": "markdown",
   "metadata": {},
   "source": [
    "\\begin{align}\n",
    "E(X^2) & = \\int_{\\mathbb{R}}x^2\\textrm{pdf}_X(x)dx = \\int_a^b\\frac{1}{b-a}x^2dx\\\\\n",
    "& = \\frac{1}{b-a}\\left[\\frac{x^3}{3}\\right]_a^b\\\\\n",
    "& = \\frac{1}{b-a}\\left(\\frac{b^3-a^3}{3}\\right) = \\frac{1}{b-a}\\left(\\frac{(b-a)(b^2+a^2+ab))}{3}\\right)\\\\\n",
    "& = \\frac{b^2+a^2+ab}{3}\n",
    "\\end{align}\n",
    "\n",
    "\\begin{align}\n",
    "Var(X) & = E(X^2)-(E(X))^2 \\\\\n",
    "& = \\frac{b^2+a^2+ab}{3}-\\frac{b^2+a^2+2ab}{4}\\\\\n",
    "& = \\frac{4b^2+4a^2+4ab-3b^2-3a^2-6ab}{12}\\\n",
    "& = \\frac{b^2+a^2-2ab}{12}\\\\\n",
    "& = \\frac{(b-a)^2}{12}\n",
    "\\end{align}"
   ]
  },
  {
   "cell_type": "markdown",
   "metadata": {},
   "source": [
    "### Beta distribution $(\\alpha,\\beta)$:\n",
    "\n",
    "The Beta distribution is defined on the interval $[0,1]$. It is the *conjugate prior probability distribution* for the Bernoulli and Binomial distributions (we will talk later about conjugate prior probability distributions). \n",
    "\n",
    "Let $X\\sim\\textrm{Beta}(\\alpha,\\beta)$, then $\\textrm{pdf}_X(x) = \\frac{x^{\\alpha-1}(1-x)^{\\beta-1}}{B(\\alpha,\\beta)}\\mathbb{I}_{[0,1]}(x)$, \n",
    "\n",
    "where $B(\\alpha,\\beta)=\\frac{\\Gamma(\\alpha)\\Gamma(\\beta)}{\\Gamma(\\alpha+\\beta)}$ is the beta function, \n",
    "\n",
    "and $\\Gamma(z)=\\int_0^\\infty y^{z-1} e^{-y} dy$ is the gamma function. \n",
    "\n",
    "Note that for all positive integer $n$, $\\Gamma(n)=(n-1)!$\n",
    "\n",
    "It holds true that: $\\Gamma(z+1)=z\\Gamma(z)$.\n",
    "\n",
    "We can prove that: $B(\\alpha,\\beta)=\\int_0^1 x^{\\alpha-1}(1-x)^{\\beta-1}\\,dx$\n",
    "\n",
    "$E(X)=\\frac{\\alpha}{\\alpha+\\beta}$, $Var(X)=\\frac{\\alpha\\beta}{(\\alpha+\\beta)^2(\\alpha+\\beta+1)}$"
   ]
  },
  {
   "cell_type": "markdown",
   "metadata": {},
   "source": [
    "**Exercise.** Generate $N$ random numbers from a Beta distribution with given parameters $\\alpha,\\beta$. Verify if the sample and theoretical mean and variance are in line and compare the normalized frequency histogram with the Beta pdf."
   ]
  },
  {
   "cell_type": "code",
   "execution_count": 4,
   "metadata": {
    "tags": []
   },
   "outputs": [
    {
     "name": "stdout",
     "output_type": "stream",
     "text": [
      "Mean = 0.2857142857142857\n",
      "Variance = 0.025510204081632654\n",
      "The sampling mean and variance are respectively 0.28 and 0.02\n"
     ]
    },
    {
     "data": {
      "text/plain": [
       "<matplotlib.legend.Legend at 0x7fa8a36c7a00>"
      ]
     },
     "execution_count": 4,
     "metadata": {},
     "output_type": "execute_result"
    },
    {
     "data": {
      "image/png": "[encoded data removed]",
      "text/plain": [
       "<Figure size 432x288 with 1 Axes>"
      ]
     },
     "metadata": {},
     "output_type": "display_data"
    }
   ],
   "source": [
    "from scipy.stats import beta\n",
    "import numpy as np\n",
    "import seaborn as sns\n",
    "import matplotlib.pyplot as plt\n",
    "plt.style.use('ggplot')\n",
    "\n",
    "a = 2\n",
    "b = 5\n",
    "N=1000\n",
    "\n",
    "# Generate N random number from Beta(a,b) \n",
    "x = beta.rvs(a=a, b=b,size=N)\n",
    "\n",
    "# Evaluate mean and variance\n",
    "mean_x = beta.mean(a=a, b=b)\n",
    "var_x = beta.var(a=a, b=b)\n",
    "\n",
    "print(f'Mean = {mean_x}')\n",
    "print(f'Variance = {var_x}')\n",
    "\n",
    "# Sampling mean and variance\n",
    "sample_mean = np.mean(x)\n",
    "sample_var = np.var(x)\n",
    "print('The sampling mean and variance are respectively {0:.2f} and {1:.2f}'.format(sample_mean, sample_var))\n",
    "\n",
    "x_lin = np.linspace(beta.ppf(0,a=a, b=b),beta.ppf(1,a=a, b=b), 100)\n",
    "\n",
    "ax= sns.histplot(x,\n",
    "                 stat='density',\n",
    "                 kde=False,\n",
    "                 color=\"skyblue\",\n",
    "                 alpha=1)\n",
    "ax.set_xlim([-0.05, 1.05])\n",
    "ax.plot(x_lin, beta.pdf(x_lin,a=a, b=b),'r-', lw=5, alpha=0.6, label='beta pdf')\n",
    "ax.set(xlabel='Beta', ylabel='Frequency')\n",
    "ax.legend(loc='best', frameon=False)"
   ]
  },
  {
   "cell_type": "markdown",
   "metadata": {},
   "source": [
    "**Exercise.** Derive the expectation and variance for a random variable $X\\sim\\textrm{Beta}(\\alpha,\\beta)$."
   ]
  },
  {
   "cell_type": "markdown",
   "metadata": {},
   "source": [
    "#### Expectation and variance of a Beta random variable\n",
    "\n",
    "Let $X\\sim\\textrm{Beta}(\\alpha,\\beta)$. Evaluate $E(X)$ and $Var(X)$."
   ]
  },
  {
   "cell_type": "markdown",
   "metadata": {},
   "source": [
    "\\begin{align}\n",
    "E(X) & = \\int_{\\mathbb{R}}x\\,\\textrm{pdf}_Xdx$ = \\frac{\\int_0^1x^{\\alpha}(1-x)^{\\beta-1}\\,dx}{B(\\alpha,\\beta)} \\\\\n",
    "& = \\frac{B(\\alpha+1,\\beta)}{B(\\alpha,\\beta)} = \\frac{\\Gamma(\\alpha+1)\\Gamma(\\beta)}{\\Gamma(\\alpha+\\beta+1)}\\frac{\\Gamma(\\alpha+\\beta)}{\\Gamma(\\alpha)\\Gamma(\\beta)}\\\\\n",
    "& = \\frac{\\alpha}{\\alpha+\\beta}\n",
    "\\end{align}"
   ]
  },
  {
   "cell_type": "markdown",
   "metadata": {},
   "source": [
    "\\begin{align}\n",
    "E(X^2) & = \\int_{\\mathbb{R}}x^2\\textrm{pdf}_Xdx = \\frac{\\int_0^1x^{\\alpha+1}(1-x)^{\\beta-1}}{B(\\alpha,\\beta)} \\\\\n",
    "& = \\frac{\\Gamma(\\alpha+2)\\Gamma(\\beta)}{\\Gamma(\\alpha+\\beta+2)}\\frac{\\Gamma(\\alpha+\\beta)}{\\Gamma(\\alpha)\\Gamma(\\beta)}\\\\\n",
    "& = \\frac{\\alpha(\\alpha+1)}{(\\alpha+\\beta)(\\alpha+\\beta+1)}\n",
    "\\end{align}\n",
    "\n",
    "\\begin{align}\n",
    "Var(X) = \\frac{\\alpha(\\alpha+1)}{(\\alpha+\\beta)(\\alpha+\\beta+1)}-\\frac{\\alpha^2}{(\\alpha+\\beta)^2} = \\frac{\\alpha\\beta}{(\\alpha+\\beta)^2(\\alpha+\\beta+1)}\n",
    "\\end{align}"
   ]
  },
  {
   "cell_type": "markdown",
   "metadata": {},
   "source": [
    "**Exercise.** What happen when $\\alpha=\\beta=1$?"
   ]
  },
  {
   "cell_type": "markdown",
   "metadata": {},
   "source": [
    "$X\\sim Beta(1,1)\\Rightarrow X\\sim\\mathcal{U}(0,1)$"
   ]
  },
  {
   "cell_type": "markdown",
   "metadata": {},
   "source": [
    "### Normal (or Gaussian) distribution $(\\mu,\\sigma^2)$:\n",
    "\n",
    "The normal or Gaussian distribution is supported on the entire real line. It appears to be vary useful in several real applications. It is an indispensable distribution in statistics, due also to the importance of results such as the *central limit theorem*. \n",
    "\n",
    "Let $X\\sim\\mathcal{N}(\\mu,\\sigma^2)$, then for all $x\\in\\mathbb{R}$, $\\textrm{pdf}_X(x)=\\frac{1}{\\sigma\\sqrt(2\\pi)}e^{-\\frac{1}{2}\\left(\\frac{x-\\mu}{\\sigma}\\right)^2}$.\n",
    "\n",
    "$E(X)=\\mu$, $Var(X)=\\sigma^2$"
   ]
  },
  {
   "cell_type": "code",
   "execution_count": 5,
   "metadata": {
    "tags": []
   },
   "outputs": [
    {
     "name": "stdout",
     "output_type": "stream",
     "text": [
      "Mean = 3.0\n",
      "Variance = 0.25\n",
      "The sampling mean and variance are respectively 3.00 and 0.24\n"
     ]
    },
    {
     "data": {
      "text/plain": [
       "<matplotlib.legend.Legend at 0x7fa860262910>"
      ]
     },
     "execution_count": 5,
     "metadata": {},
     "output_type": "execute_result"
    },
    {
     "data": {
      "image/png": "[encoded data removed]",
      "text/plain": [
       "<Figure size 432x288 with 1 Axes>"
      ]
     },
     "metadata": {},
     "output_type": "display_data"
    }
   ],
   "source": [
    "from scipy.stats import norm\n",
    "import numpy as np\n",
    "import seaborn as sns\n",
    "import matplotlib.pyplot as plt\n",
    "plt.style.use('ggplot')\n",
    "\n",
    "mu = 3\n",
    "sigma = 0.5\n",
    "N=1000\n",
    "\n",
    "# Generate N random number from N(mu,sigma2) \n",
    "x = norm.rvs(loc=mu, scale=sigma,size=N)\n",
    "\n",
    "# Evaluate mean and variance\n",
    "mean_x = norm.mean(loc=mu, scale=sigma)\n",
    "var_x = norm.var(loc=mu, scale=sigma)\n",
    "\n",
    "print(f'Mean = {mean_x}')\n",
    "print(f'Variance = {var_x}')\n",
    "\n",
    "# Sampling mean and variance\n",
    "sample_mean = np.mean(x)\n",
    "sample_var = np.var(x)\n",
    "print('The sampling mean and variance are respectively {0:.2f} and {1:.2f}'.format(sample_mean, sample_var))\n",
    "\n",
    "x_lin = np.linspace(norm.ppf(0.001,loc=mu, scale=sigma),norm.ppf(0.999,loc=mu, scale=sigma), 100)\n",
    "\n",
    "ax= sns.histplot(x,\n",
    "                 stat='density',\n",
    "                 kde=False,\n",
    "                 color=\"skyblue\",\n",
    "                 alpha=1)\n",
    "# ax.set_xlim([-0.05, 1.05])\n",
    "ax.plot(x_lin, norm.pdf(x_lin,loc=mu, scale=sigma),'r-', lw=5, alpha=0.6, label='normal pdf')\n",
    "ax.set(xlabel='Normal', ylabel='Frequency')\n",
    "ax.legend(loc='best', frameon=False)"
   ]
  },
  {
   "cell_type": "markdown",
   "metadata": {},
   "source": [
    "**Exercise.** Derive the expectation and variance for a random variable $X\\sim\\mathcal{N}(\\mu,\\sigma^2)$. \n",
    "\n",
    "*Tip.* Use the moment generating function.\n",
    "\n",
    "*Recall.* The gaussian integral: $\\int_{\\mathbb{R}}exp\\left(-v^2\\right)dv=\\sqrt{\\pi}$"
   ]
  },
  {
   "cell_type": "markdown",
   "metadata": {},
   "source": [
    "### Expectation and variance of a Gaussian random variable\n",
    "\n",
    "Let $X\\sim\\mathcal{N}(\\mu,\\sigma^2)$. Evaluate $E(X)$ and $Var(X)$."
   ]
  },
  {
   "cell_type": "markdown",
   "metadata": {},
   "source": [
    "In order to obtain the expectation and variance of a Gaussian random variable we introduce the moment generating function:\n",
    "\n",
    "$M_X(t) = E(e^{tX})$, for all $x\\in\\mathbb{R}$.\n",
    "\n",
    "If the $k^{\\textrm{th}}$-moment of $X$ exists, then:\n",
    "\n",
    "$E(X^k)=\\frac{d^k}{dt^k}M_X(t)|_{t=0}$\n",
    "\n",
    "Let us derive the moment generating function for a Gaussian random variable:\n",
    "\n",
    "\\begin{align}\n",
    "M_X(t) & = \\frac{1}{\\sigma\\sqrt{(2\\pi)}}\\int_{\\mathbb{R}}exp\\left(tx-\\frac{1}{2}\\left(\\frac{x-\\mu}{\\sigma}\\right)^2\\right)dx\n",
    "\\end{align}\n",
    "\n",
    "We pose:\n",
    "\n",
    "$u=\\frac{x-\\mu}{\\sqrt{2}\\sigma}\\Rightarrow x = \\sqrt{2}\\sigma u+\\mu$, $dx = \\sqrt{2}\\sigma du$\n",
    "\n",
    "Substituting in the previous integral, we get:\n",
    "\n",
    "\\begin{align}\n",
    "M_X(t) & = \\frac{\\sqrt{2}\\sigma}{\\sigma\\sqrt{(2\\pi)}}\\int_{\\mathbb{R}}exp\\left(t(\\sqrt{2}\\sigma u+\\mu)-u^2\\right)du\\\\\n",
    "& = \\frac{exp(\\mu t)}{\\sqrt{\\pi}}\\int_{\\mathbb{R}}exp\\left(-(u^2-\\sqrt{2}\\sigma ut)\\right)du\\\\\n",
    "\\end{align}\n",
    "\n",
    "We conveniently recombine $-(u^2-\\sqrt{2}\\sigma ut)$ as $-\\left(u-\\frac{\\sqrt{2}}{2}\\sigma t\\right)^2+\\frac{1}{2}\\sigma^2t^2$, extract from the integral the term which is not dependent on $u$, and pose $v = u-\\frac{\\sqrt{2}}{2}\\sigma t \\Rightarrow du = dv$:\n",
    "\n",
    "\\begin{align}\n",
    "M_X(t) & = \\frac{exp\\left(\\mu t+\\frac{1}{2}\\sigma^2t^2\\right)}{\\sqrt{\\pi}}\\int_{\\mathbb{R}}exp\\left(-v^2\\right)dv\n",
    "\\end{align}\n",
    "\n",
    "The remaining integral is the well known gaussian integral and it can be shown that $\\int_{\\mathbb{R}}exp\\left(-v^2\\right)dv=\\sqrt{\\pi}$. So finally:\n",
    "\n",
    "\\begin{align}\n",
    "M_X(t) & = exp\\left(\\mu t+\\frac{1}{2}\\sigma^2t^2\\right)\n",
    "\\end{align}\n",
    "\n",
    "We are now able to determine the $k^{\\textrm{th}}$-moment of a Gaussian distribution by simply deriving $M_X(t)$ with respect to $t$ $k$ times and evaluating in 0. We get:\n",
    "\n",
    "$E(X) = \\frac{d}{dt}M_X(t)|_{t=0} = \\mu$\n",
    "\n",
    "$Var(X) = \\frac{d^2}{dt^2}M_X(t)|_{t=0} - \\mu^2 = \\sigma^2$\n"
   ]
  },
  {
   "cell_type": "markdown",
   "metadata": {},
   "source": [
    "**Question.** Without doing any calculation, what can we expect for the mean of $X$?"
   ]
  },
  {
   "cell_type": "markdown",
   "metadata": {},
   "source": [
    "#### Reminder: The central limit theorem\n",
    "\n",
    "Let $(X_n)_{n\\geq 1}$ be iid random variables with mean $E(X)$ and variance $Var(X)$. Then $\\sqrt{n}\\left(\\frac{\\overline{X}_n-E(X)}{\\sqrt{Var(X)}}\\right)$ converges through a standard normal random variable:\n",
    "\n",
    "$$p\\left(a<\\sqrt{n}\\left(\\frac{\\overline{X}_n-E(X)}{\\sqrt{Var(X)}}\\right)<b\\right)\\rightarrow\\int_a^b\\frac{1}{\\sqrt{2\\pi}}e^{-x^2/2}dx$$"
   ]
  },
  {
   "cell_type": "markdown",
   "metadata": {},
   "source": [
    "Examples of Gaussian distributed data can be found everywhere, and in some sense the Gaussian distribution is a natural approximation for many phenomena observable in the realm of data analysis. This is especially the case for measurements that *cumulate*, for example over multiple subjects or probes. This is formally stated by the central limit theorem."
   ]
  },
  {
   "cell_type": "code",
   "execution_count": 6,
   "metadata": {},
   "outputs": [
    {
     "data": {
      "image/png": "[encoded data removed]",
      "text/plain": [
       "<Figure size 432x288 with 1 Axes>"
      ]
     },
     "metadata": {},
     "output_type": "display_data"
    },
    {
     "data": {
      "image/png": "[encoded data removed]",
      "text/plain": [
       "<Figure size 432x288 with 1 Axes>"
      ]
     },
     "metadata": {},
     "output_type": "display_data"
    }
   ],
   "source": [
    "from  scipy.stats import norm\n",
    "from  scipy.stats import bernoulli\n",
    "\n",
    "path_length = 20\n",
    "N_subjects = 50\n",
    "\n",
    "prob_move = 0.5\n",
    "\n",
    "sample = bernoulli.rvs(prob_move, size = path_length * N_subjects)\n",
    "\n",
    "paths = np.cumsum(sample.reshape(N_subjects,path_length),1)\n",
    "\n",
    "[plt.plot(np.arange(path_length), paths[i,:], color = 'blue', lw = 0.1) for i in range(N_subjects)]\n",
    "plt.title('Trajectories')\n",
    "plt.xlabel('step')\n",
    "plt.xlabel('position')\n",
    "plt.show()\n",
    "\n",
    "\n",
    "# Applying central limit theorem\n",
    "bernoulli_mean = prob_move\n",
    "bernoulli_var = prob_move * (1-prob_move)\n",
    "\n",
    "normal_clt_mean = path_length * bernoulli_mean\n",
    "normal_clt_var = path_length * bernoulli_var\n",
    "\n",
    "y = paths[:,path_length-1]\n",
    "\n",
    "plt.hist(y, bins = 14, density = True, label = 'Target distribution')\n",
    "\n",
    "x = np.arange(0,20,0.1)\n",
    "plt.plot(x, norm.pdf(x, normal_clt_mean, np.sqrt(normal_clt_var)), label = 'Gaussian clt approximation')\n",
    "plt.title('Distribution of target positions')\n",
    "plt.legend()\n",
    "plt.show()"
   ]
  },
  {
   "cell_type": "markdown",
   "metadata": {},
   "source": [
    "## Link between the Bernoulli/Binomial distribution and the Beta distribution"
   ]
  },
  {
   "cell_type": "markdown",
   "metadata": {},
   "source": [
    "Let us consider $n$ indipendent Bernoulli trials and the observation $y$ being the number of successes (*e.g.* the observation $y$ corresponds to the number of heads out of $n$ toss coin). We want to estimate the parameter $\\theta$, which represents the probability of success of each coin toss."
   ]
  },
  {
   "cell_type": "markdown",
   "metadata": {},
   "source": [
    "The main idea at the basis of the bayesian approach is that the parameters to be estimated are not fixed (*i.e.* it actually exists a **true** value to be found), but they are instead **random variables** and we dispose of some information on its *prior distribution* (which can be more or less informative depending on our degree of confidence)."
   ]
  },
  {
   "cell_type": "markdown",
   "metadata": {},
   "source": [
    "Following the Bayesian rule, we have\n",
    "\n",
    "$$p(\\theta|y)=\\frac{p(y|\\theta)p(\\theta)}{p(y)}\\propto p(y|\\theta)p(\\theta)$$\n",
    "\n",
    "since $p(y)$ is independent from $\\theta$, hence we could forget about that at least for the moment (it is simply a normalizing factor ensuring that the probability distribution gives 1 when integrated over all possible $\\theta$)."
   ]
  },
  {
   "cell_type": "markdown",
   "metadata": {},
   "source": [
    "$p(y|\\theta)$ is easy to determine, since $y$ follows a Binomial distribution, $\\textrm{Binomial}(n,\\theta)$, hence:\n",
    "\n",
    "$$p(y|\\theta)={{y} \\choose {n}}\\theta^y(1-\\theta)^{n-y}\\propto \\theta^y(1-\\theta)^{n-y}$$"
   ]
  },
  {
   "cell_type": "markdown",
   "metadata": {},
   "source": [
    "We will see that the Beta distribution provide us with an elegant way to specify a prior in Binomial models. \n",
    "\n",
    "By definition, $\\theta$ should be between 0 and 1, so a good prior for $\\theta$ should be a distribution whose support is $[0,1]$."
   ]
  },
  {
   "cell_type": "markdown",
   "metadata": {},
   "source": [
    "**Question.** Which distribution can you propose?"
   ]
  },
  {
   "cell_type": "markdown",
   "metadata": {},
   "source": [
    "Let us choose as prior distribution for $\\theta$, the $\\textrm{Beta}(\\alpha,\\beta)$ distribution (*e.g.* with $\\alpha=\\beta=1$)."
   ]
  },
  {
   "cell_type": "markdown",
   "metadata": {},
   "source": [
    "**Exercise.** Determine the posterior distribution given $p(\\theta)=\\textrm{Beta}(\\alpha,\\beta)$ (up to a costant factor)"
   ]
  },
  {
   "cell_type": "markdown",
   "metadata": {},
   "source": [
    "\\begin{align}\n",
    "p(\\theta|y) \\propto p(y|\\theta)p(\\theta) \\propto \\theta^y(1-\\theta)^{n-y}\\theta^{\\alpha-1}(1-\\theta)^{\\beta-1} = \\theta^{y+\\alpha-1}(1-\\theta)^{n+\\beta-y-1}\n",
    "\\end{align}"
   ]
  },
  {
   "cell_type": "markdown",
   "metadata": {},
   "source": [
    "**Exercise.** Can you see what distribution is this? Determine the right normalizing factor."
   ]
  },
  {
   "cell_type": "markdown",
   "metadata": {},
   "source": [
    "We can see that $\\theta|y$ follows a $\\textrm{Beta}(y+\\alpha,n+\\beta-y)$ distribution. So, the proper normalizing factor is:\n",
    "\n",
    "$$\\frac{1}{B(y+\\alpha,n+\\beta-y)}$$\n",
    "\n",
    "Hence:\n",
    "\n",
    "$$p(\\theta|y) = \\frac{1}{B(y+\\alpha,n+\\beta-y)}\\theta^{y+\\alpha-1}(1-\\theta)^{n+\\beta-y-1}$$\n",
    "\n",
    "This relationship is very important: when the posterior is of the same form of the prior, we say that the prior is *conjugate* of the likelihood. When the prior is conjugate, we can easily compute the posterior in a closed form.\n"
   ]
  },
  {
   "cell_type": "code",
   "execution_count": null,
   "metadata": {},
   "outputs": [],
   "source": []
  }
 ],
 "metadata": {
  "kernelspec": {
   "display_name": "Python 3 (ipykernel)",
   "language": "python",
   "name": "python3"
  },
  "language_info": {
   "codemirror_mode": {
    "name": "ipython",
    "version": 3
   },
   "file_extension": ".py",
   "mimetype": "text/x-python",
   "name": "python",
   "nbconvert_exporter": "python",
   "pygments_lexer": "ipython3",
   "version": "3.9.12"
  }
 },
 "nbformat": 4,
 "nbformat_minor": 4
}
