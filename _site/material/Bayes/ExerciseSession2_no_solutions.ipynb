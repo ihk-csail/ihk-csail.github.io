{
  "nbformat": 4,
  "nbformat_minor": 0,
  "metadata": {
    "kernelspec": {
      "display_name": "Python 3",
      "language": "python",
      "name": "python3"
    },
    "language_info": {
      "codemirror_mode": {
        "name": "ipython",
        "version": 3
      },
      "file_extension": ".py",
      "mimetype": "text/x-python",
      "name": "python",
      "nbconvert_exporter": "python",
      "pygments_lexer": "ipython3",
      "version": "3.6.8"
    },
    "colab": {
      "name": "ExerciseSession2_no-solutions.ipynb",
      "provenance": [],
      "collapsed_sections": [],
      "toc_visible": true
    }
  },
  "cells": [
    {
      "cell_type": "code",
      "metadata": {
        "id": "2V6ogtQ1o0Hf"
      },
      "source": [
        "import numpy as np\n",
        "import pandas as pd\n",
        "import scipy \n",
        "import matplotlib.pyplot as plt \n",
        "from scipy.stats import norm, binom, uniform\n",
        "from scipy.special import logsumexp\n",
        "\n",
        "%run tools.py"
      ],
      "execution_count": null,
      "outputs": []
    },
    {
      "cell_type": "markdown",
      "metadata": {
        "id": "A6gkZy9Go0Hh"
      },
      "source": [
        "# Exercise 1 (Statistical Rethinking, McElreath et al, Chapter 5)\n"
      ]
    },
    {
      "cell_type": "code",
      "metadata": {
        "id": "L9hLgFqoo0Hh"
      },
      "source": [
        "data = pd.read_csv('https://gitlab.inria.fr/epione_ML/bayesian-learning-uca/-/raw/master/milk_clean.csv?inline=false',sep=',')\n",
        "print(data.columns)"
      ],
      "execution_count": null,
      "outputs": []
    },
    {
      "cell_type": "markdown",
      "metadata": {
        "id": "nRY2xlLUo0Hj"
      },
      "source": [
        "\n",
        "**1) Analyze the relationship of milk energy with respect to percentage fat and percentage lactose through two independent linear regressions. Comment.**"
      ]
    },
    {
      "cell_type": "code",
      "metadata": {
        "id": "2UPxBy9lo0Hj"
      },
      "source": [
        "expr = 'kcal.per.g ~ perc.fat'\n",
        "\n"
      ],
      "execution_count": null,
      "outputs": []
    },
    {
      "cell_type": "code",
      "metadata": {
        "id": "fK-DGmEao0Hk"
      },
      "source": [
        ""
      ],
      "execution_count": null,
      "outputs": []
    },
    {
      "cell_type": "markdown",
      "metadata": {
        "id": "_FZGf9nvo0Hk"
      },
      "source": [
        "**2) What happens if we regress kcal.per.g with respect to both perc.fat and perc.lactose ?**"
      ]
    },
    {
      "cell_type": "code",
      "metadata": {
        "id": "DQtOzm87o0Hk"
      },
      "source": [
        "expr = 'kcal.per.g ~ perc.fat + perc.lactose'"
      ],
      "execution_count": null,
      "outputs": []
    },
    {
      "cell_type": "markdown",
      "metadata": {
        "id": "3i118arRo0Hl"
      },
      "source": [
        "**3) Can you explain the differences observed between the results of questions 1 and 2 ?**"
      ]
    },
    {
      "cell_type": "code",
      "metadata": {
        "id": "6QipZ5rOo0Hm"
      },
      "source": [
        "fields = ['kcal.per.g', 'perc.fat', 'perc.lactose']\n",
        "\n",
        "plt.figure(figsize=(8,8))\n",
        "\n",
        "for i, field in enumerate(fields):\n",
        "    \n",
        "    for j in range(len(fields)):\n",
        "    \n",
        "        plt.subplot(len(fields), len(fields), len(fields)*i + j + 1)\n",
        "        \n",
        "        if i==j:\n",
        "            plt.text(0.25,0.5, field, fontsize=15)\n",
        "            plt.xticks([])\n",
        "            plt.yticks([])\n",
        "        else:\n",
        "            plt.scatter(data[fields[j]],data[field])"
      ],
      "execution_count": null,
      "outputs": []
    },
    {
      "cell_type": "code",
      "metadata": {
        "id": "5KWbxp7Yo0Hm"
      },
      "source": [
        "from scipy.stats import pearsonr\n"
      ],
      "execution_count": null,
      "outputs": []
    },
    {
      "cell_type": "markdown",
      "metadata": {
        "id": "gUpGj8Vwo0Hm"
      },
      "source": [
        "**4) Study the effect of correlation between predictors**\n",
        "\n",
        "To answer this question you will create a dummy variable whose correlation with perc.fat varies. Then you will fit many linear regressions (let's say 10) using these two variables and observe the effect on the mean standard deviation of b_fat."
      ]
    },
    {
      "cell_type": "code",
      "metadata": {
        "scrolled": true,
        "id": "UshOzw4Lo0Hm"
      },
      "source": [
        "corr = np.linspace(0., 0.99, 10)\n",
        "print(corr)\n",
        "std_err_list = []\n",
        "\n",
        "for coeff in corr:\n",
        "    data['x'] = \n",
        "\n",
        "    \n",
        "    \n",
        "    temp_list = []\n",
        "    \n",
        "    for i in range(500):\n",
        "    \n",
        "        expr = 'kcal.per.g ~ perc.fat + x'\n",
        "\n",
        "        \n",
        "\n",
        "\n",
        "\n",
        "        temp_list.append(np.std(posterior_samples[:,1]))\n",
        "        \n",
        "    std_err_list.append(np.mean(temp_list))\n",
        "    \n",
        "plt.figure()\n",
        "plt.plot(corr, std_err_list)\n",
        "plt.xlabel('correlation')\n",
        "plt.ylabel('std dev b_fat')\n",
        "plt.show()"
      ],
      "execution_count": null,
      "outputs": []
    },
    {
      "cell_type": "markdown",
      "metadata": {
        "id": "R3ASepeDo0H1"
      },
      "source": [
        "# Exercise 2  (Statistical Rethinking, McElreath et al, Chapter 6)"
      ]
    },
    {
      "cell_type": "markdown",
      "metadata": {
        "id": "GDWXiOLfo0H1"
      },
      "source": [
        "**1) Using the *Milk* dataset  of the previous exercise, fit four different models for describing the kcal.per.g data :**\n",
        "\n",
        "- One with both neocortex and log_mass\n",
        "- One with neocortex\n",
        "- One with log_mass\n",
        "- One with no predictor (an intercept only)\n",
        "\n",
        "**For each of this model, you will compute their WAIC with standard error (SE), dWAIC with standard error (dSE), pWAIC, and the weight criteria. What can you conclude by analyzing these numbers ? You will present the results in a table.**\n",
        "\n",
        "We denote by neocortex the variable necortex.perc / 100.\n",
        "\n",
        "dWAIC is the difference between each WAIC and the lowest WAIC among the models.\n",
        " \n",
        "The standard error (SE) of a score S is given by:\n",
        "\n",
        "$$\n",
        "SE = \\sqrt{Npoints * var(S)}\n",
        "$$\n",
        "\n",
        "The weight criteria is the *Akaike weight* which is given for model i by the formula:\n",
        "\n",
        "$$w_i = \\frac{\\exp(-0.5dWAIC_i)}{\\sum_j \\exp(-0.5dWAIC_j)}$$"
      ]
    },
    {
      "cell_type": "code",
      "metadata": {
        "id": "K-R7XupUo0H1"
      },
      "source": [
        "data['log_mass'] = np.log(data['mass'])\n",
        "data['neocortex'] = data['neocortex.perc'] / 100"
      ],
      "execution_count": null,
      "outputs": []
    },
    {
      "cell_type": "code",
      "metadata": {
        "id": "CSaAukDco0H2"
      },
      "source": [
        "expr = 'kcal.per.g ~ neocortex + log_mass'\n",
        "\n",
        "N = 5000\n",
        "\n",
        "\n",
        "\n",
        "\n",
        "\n",
        "waic_vect_model1 = \n",
        "waic_model1 = \n",
        "p_waic_model1 = \n",
        "se_model1 = \n",
        "\n",
        "print(waic_model1)\n",
        "print(p_waic_model1)\n",
        "print(se_model1)"
      ],
      "execution_count": null,
      "outputs": []
    },
    {
      "cell_type": "code",
      "metadata": {
        "id": "JIDn6oAgo0H2"
      },
      "source": [
        ""
      ],
      "execution_count": null,
      "outputs": []
    },
    {
      "cell_type": "code",
      "metadata": {
        "id": "ezgbjhJKo0H3"
      },
      "source": [
        ""
      ],
      "execution_count": null,
      "outputs": []
    },
    {
      "cell_type": "code",
      "metadata": {
        "id": "yPXxqzZvo0H3"
      },
      "source": [
        ""
      ],
      "execution_count": null,
      "outputs": []
    },
    {
      "cell_type": "code",
      "metadata": {
        "id": "7-tpvVSoo0H3"
      },
      "source": [
        "waic = np.array([waic_model1, waic_model2, waic_model3, waic_model4])\n",
        "waic_vect = np.array([waic_vect_model1, waic_vect_model2, waic_vect_model3, waic_vect_model4])\n",
        "p_waic = np.array([p_waic_model1, p_waic_model2, p_waic_model3, p_waic_model4])\n",
        "se = np.array([se_model1, se_model2, se_model3, se_model4])\n",
        "\n",
        "d_waic = np.zeros(waic.shape)\n",
        "weights = np.zeros(waic.shape)\n",
        "d_se = np.zeros(waic.shape)\n",
        "\n",
        "\n",
        "summary_stats = [waic, p_waic, d_waic, weights, se, d_se]\n",
        "summary_stats = pd.DataFrame(summary_stats).transpose()\n",
        "summary_stats.columns = ['WAIC', 'pWAIC', 'dWAIC', 'weight', 'SE', 'd_SE']\n",
        "summary_stats.index = ['model1', 'model2', 'model3', 'model4']\n",
        "#summary_stats.rename(index=list(names), inplace=True)\n",
        "print(summary_stats)"
      ],
      "execution_count": null,
      "outputs": []
    },
    {
      "cell_type": "code",
      "metadata": {
        "id": "pqcdfm6_o0H3"
      },
      "source": [
        "samples = np.random.normal(loc=5.17, scale=7.46, size=100000)\n",
        "print(np.sum(samples<0.)/len(samples))"
      ],
      "execution_count": null,
      "outputs": []
    },
    {
      "cell_type": "markdown",
      "metadata": {
        "id": "CkbapZJno0H3"
      },
      "source": [
        "**2) In order to better intepret the results of question 2, analyze the posterior estimates of the slope parameters for the different models. Present the results using box plots.**"
      ]
    },
    {
      "cell_type": "code",
      "metadata": {
        "id": "JQHOKJ3Lo0H3"
      },
      "source": [
        ""
      ],
      "execution_count": null,
      "outputs": []
    },
    {
      "cell_type": "markdown",
      "metadata": {
        "id": "dnt7sY5uo0H4"
      },
      "source": [
        "# Exercise 3\n",
        "\n",
        "In this exercise we will show how to use the Laplace approximation by deriving the equations on an example."
      ]
    },
    {
      "cell_type": "markdown",
      "metadata": {
        "id": "dHXY4F5Zo0H4"
      },
      "source": [
        "Consider a random variable $\\theta$ following a uniform distribution on [0, 1]. Let's consider a dummy experiment in which two outcomes are possible (success and failure). The experiment is made n times with k successes. The experiments are independent from each other. The probability of success is given by $\\theta$. We will denote by y the random variable describing the number of successes. \n",
        "\n",
        "**1) Write the data likelihood and the posterior distribution $p(\\theta|y)$ (up to constant).**"
      ]
    },
    {
      "cell_type": "markdown",
      "metadata": {
        "id": "7poz1e2fo0H4"
      },
      "source": [
        "**2) Estimate the posterior distribution $p(\\theta|y)$ using the Laplace approximation. You will derive the computations yourself.**"
      ]
    },
    {
      "cell_type": "markdown",
      "metadata": {
        "id": "8Kmyk5vGo0H4"
      },
      "source": [
        "**3) Plot the posterior pdf of $\\theta$ obtained with the Laplace approximation and the true posterior.**\n"
      ]
    },
    {
      "cell_type": "code",
      "metadata": {
        "id": "11NJb4DUo0H4"
      },
      "source": [
        ""
      ],
      "execution_count": null,
      "outputs": []
    },
    {
      "cell_type": "code",
      "metadata": {
        "id": "s_ofMG1so0H5"
      },
      "source": [
        ""
      ],
      "execution_count": null,
      "outputs": []
    },
    {
      "cell_type": "code",
      "metadata": {
        "id": "aLkb_dJco0H5"
      },
      "source": [
        ""
      ],
      "execution_count": null,
      "outputs": []
    }
  ]
}