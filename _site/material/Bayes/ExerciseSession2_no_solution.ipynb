{
 "cells": [
  {
   "cell_type": "code",
   "execution_count": 47,
   "metadata": {
    "collapsed": true
   },
   "outputs": [],
   "source": [
    "import numpy as np\n",
    "import pandas as pd\n",
    "import scipy \n",
    "import matplotlib.pyplot as plt \n",
    "from scipy.stats import norm, binom, uniform\n",
    "from scipy.special import logsumexp\n",
    "\n",
    "%run ../tools.py"
   ]
  },
  {
   "cell_type": "markdown",
   "metadata": {},
   "source": [
    "# Exercise 1 (Statistical Rethinking, McElreath et al, Chapter 5)\n"
   ]
  },
  {
   "cell_type": "code",
   "execution_count": 3,
   "metadata": {},
   "outputs": [
    {
     "name": "stdout",
     "output_type": "stream",
     "text": [
      "Index(['Unnamed: 0', 'clade', 'species', 'kcal.per.g', 'perc.fat',\n",
      "       'perc.protein', 'perc.lactose', 'mass', 'neocortex.perc'],\n",
      "      dtype='object')\n"
     ]
    }
   ],
   "source": [
    "data = pd.read_csv('../milk_clean.csv',sep=',')\n",
    "print(data.columns)"
   ]
  },
  {
   "cell_type": "markdown",
   "metadata": {},
   "source": [
    "\n",
    "**1) Analyze the relationship of milk energy with respect to percentage fat and percentage lactose through two independent linear regressions. Comment.**"
   ]
  },
  {
   "cell_type": "markdown",
   "metadata": {},
   "source": [
    "**2) What happens if we regress kcal.per.g with respect to both perc.fat and perc.lactose ?**"
   ]
  },
  {
   "cell_type": "markdown",
   "metadata": {},
   "source": [
    "**3) Can you explain the differences observed between the results of questions 1 and 2 ?**"
   ]
  },
  {
   "cell_type": "markdown",
   "metadata": {},
   "source": [
    "**4) Study the effect of correlation between predictors**\n",
    "\n",
    "To answer this question you will create a dummy variable whose correlation with perc.fat varies. Then you will fit many linear regressions (let's say 500) using these two variables and observe the effect on the mean standard deviation of b_fat."
   ]
  },
  {
   "cell_type": "markdown",
   "metadata": {},
   "source": [
    "# Exercise 2  (Statistical Rethinking, McElreath et al, Chapter 6)"
   ]
  },
  {
   "cell_type": "markdown",
   "metadata": {},
   "source": [
    "**1) Using the *Milk* dataset  of the previous exercise, fit four different models for describing the kcal.per.g data :**\n",
    "\n",
    "- One with both neocortex and log_mass\n",
    "- One with neocortex\n",
    "- One with log_mass\n",
    "- One with no predictor (an intercept only)\n",
    "\n",
    "**For each of this model, you will compute their WAIC with standard error (SE), dWAIC with standard error (dSE), pWAIC, and the weight criteria. What can you conclude by analyzing these numbers ? You will present the results in a table.**\n",
    "\n",
    "We denote by neocortex the variable necortex.perc / 100.\n",
    "\n",
    "dWAIC is the difference between each WAIC and the lowest WAIC among the models.\n",
    " \n",
    "The standard error (SE) of a score S is given by:\n",
    "\n",
    "$$\n",
    "SE = \\sqrt{Npoints * var(S)}\n",
    "$$\n",
    "\n",
    "The weight criteria is the *Akaike weight* which is given for model i by the formula:\n",
    "\n",
    "$$w_i = \\frac{\\exp(-0.5dWAIC_i)}{\\sum_j \\exp(-0.5dWAIC_j)}$$"
   ]
  },
  {
   "cell_type": "code",
   "execution_count": 10,
   "metadata": {
    "collapsed": true
   },
   "outputs": [],
   "source": [
    "data['log_mass'] = np.log(data['mass'])\n",
    "data['neocortex'] = data['neocortex.perc'] / 100"
   ]
  },
  {
   "cell_type": "markdown",
   "metadata": {},
   "source": [
    "**2) In order to better intepret the results of question 2, analyze the posterior estimates of the slope parameters for the different models. Present the results using box plots.**"
   ]
  },
  {
   "cell_type": "markdown",
   "metadata": {},
   "source": [
    "# Exercise 3"
   ]
  },
  {
   "cell_type": "markdown",
   "metadata": {},
   "source": [
    "Consider a random variable $\\theta$ following a uniform distribution on [0, 1]. Let's consider a dummy experiment in which two outcomes are possible (success and failure). The experiment is made n times with k successes. The experiments are independent from each other. The probability of success is given by $\\theta$. We will denote by y the random variable describing the number of successes. \n",
    "\n",
    "**1) Write the data likelihood and the posterior distribution $p(\\theta|y)$ (up to constant).**"
   ]
  },
  {
   "cell_type": "markdown",
   "metadata": {},
   "source": [
    "**2) Estimate the posterior distribution $p(\\theta|y)$ using the Laplace approximation. You will derive the computations yourself.**"
   ]
  },
  {
   "cell_type": "markdown",
   "metadata": {},
   "source": [
    "For any probability density function (pdf) that is smooth and well-peaked around its point of maxima, Laplace proposed to approximate it by a normal pdf. To do so he used a 2-term Taylor expansion trick around the local maxima of the log-pdf. Let denote $g(\\theta) = \\log p(\\theta|y)$ and $\\theta_0$ its maximum.\n",
    "\n",
    "Following the Taylor expansion we can write:\n",
    "$$\n",
    "g(\\theta) = g(\\theta_0) + g'(\\theta_0)(\\theta - \\theta_0) + \\frac{1}{2}g''(\\theta_0)(\\theta - \\theta_0)^2.\n",
    "$$\n",
    "\n",
    "We know g reaches a local maxima in $\\theta_0$, therefore $g'(\\theta_0) = 0$ and :\n",
    "\n",
    "$$\n",
    "g(\\theta) = g(\\theta_0) + \\frac{1}{2}g''(\\theta_0)(\\theta - \\theta_0)^2.\n",
    "$$\n",
    "\n",
    "If we exponentiate this expression we obtain :\n",
    "\n",
    "$$\n",
    "\\exp (g(\\theta)) = p(\\theta|y) = \\exp(g(\\theta_0)) exp(\\frac{1}{2}g''(\\theta_0)(\\theta - \\theta_0)^2).\n",
    "$$\n",
    "\n",
    "This can be identified to a Gaussian with mean $\\theta_0$ and variance $-\\frac{1}{g''(\\theta_0)}$."
   ]
  },
  {
   "cell_type": "markdown",
   "metadata": {},
   "source": [
    "**3) Plot the posterior pdf of $\\theta$ obtained with the Laplace approximation and the true posterior.**\n"
   ]
  }
 ],
 "metadata": {
  "kernelspec": {
   "display_name": "Python3.6",
   "language": "python",
   "name": "python3.6"
  },
  "language_info": {
   "codemirror_mode": {
    "name": "ipython",
    "version": 3
   },
   "file_extension": ".py",
   "mimetype": "text/x-python",
   "name": "python",
   "nbconvert_exporter": "python",
   "pygments_lexer": "ipython3",
   "version": "3.6.9"
  },
  "widgets": {
   "application/vnd.jupyter.widget-state+json": {
    "state": {},
    "version_major": 1,
    "version_minor": 0
   }
  }
 },
 "nbformat": 4,
 "nbformat_minor": 2
}
