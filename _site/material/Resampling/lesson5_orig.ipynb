{
 "cells": [
  {
   "cell_type": "markdown",
   "metadata": {},
   "source": [
    "# Cross-validation techniques"
   ]
  },
  {
   "cell_type": "markdown",
   "metadata": {},
   "source": [
    "This lesson focuses on the practical implementation of cross-validation approaches for model performance quantification. Most of the material is based on the scikit-learn page (https://scikit-learn.org/stable/modules/cross_validation.html).\n",
    "\n",
    "Similarly as in bootstrap, cross-validation assesses the quality of a model (e.g. the bias and the variance) by only using the available data.  Instead of resampling our data with replacement, the model is trained on a subset of our data sampled _without replacement_. The testing of the model is then performed on the hold-out subset of the data not used for training.\n",
    "\n",
    "We have seen how this procedure an be easily implemented via the $\\mbox{np.random.choice}$ function."
   ]
  },
  {
   "cell_type": "code",
   "execution_count": 1,
   "metadata": {
    "jupyter": {
     "outputs_hidden": false
    }
   },
   "outputs": [
    {
     "name": "stdout",
     "output_type": "stream",
     "text": [
      "The size of X is: (150, 4)\n",
      "The size of the target is: (150,)\n"
     ]
    }
   ],
   "source": [
    "import numpy as np\n",
    "import matplotlib.pyplot as plt\n",
    "from sklearn import datasets\n",
    "\n",
    "iris = datasets.load_iris()\n",
    "print(\"The size of X is: \" + str(iris.data.shape) + \"\\nThe size of the target is: \" + str(iris.target.shape))\n"
   ]
  },
  {
   "cell_type": "code",
   "execution_count": 2,
   "metadata": {
    "jupyter": {
     "outputs_hidden": false
    }
   },
   "outputs": [
    {
     "name": "stdout",
     "output_type": "stream",
     "text": [
      "Training indices:\n",
      "[  0   2   4   5   6   8  11  12  13  15  17  19  22  23  24  25  26  27\n",
      "  28  33  34  35  36  37  38  39  42  43  45  47  48  50  55  58  62  63\n",
      "  64  65  67  68  70  72  73  74  75  76  77  78  79  81  83  84  85  86\n",
      "  90  91  92  94  95 100 101 102 104 105 107 108 110 111 114 115 119 122\n",
      " 123 124 125 126 127 128 129 130 131 134 135 136 137 141 142 143 144 149]\n",
      "Testing indices:\n",
      "[  1   3   7   9  10  14  16  18  20  21  29  30  31  32  40  41  44  46\n",
      "  49  51  52  53  54  56  57  59  60  61  66  69  71  80  82  87  88  89\n",
      "  93  96  97  98  99 103 106 109 112 113 116 117 118 120 121 132 133 138\n",
      " 139 140 145 146 147 148]\n",
      "The training dimension is: (90, 4)\n",
      "The testing dimension is: (60, 4)\n"
     ]
    }
   ],
   "source": [
    "# We choose to perform training on 60% of the data\n",
    "hold_out = 0.4\n",
    "len_training = int((1-hold_out) * iris.data.shape[0])\n",
    "\n",
    "training_index = np.random.choice(range(iris.data.shape[0]), len_training, replace=False)\n",
    "testing_index = np.setdiff1d(range(iris.data.shape[0]),training_index, assume_unique=True)\n",
    "\n",
    "print(\"Training indices:\\n\" + str(np.sort(training_index)))\n",
    "print(\"Testing indices:\\n\" + str(np.sort(testing_index)))\n",
    "\n",
    "X_train = iris.data[training_index,:]\n",
    "y_train = iris.target[training_index]\n",
    "\n",
    "X_test = iris.data[testing_index,:]\n",
    "y_test = iris.target[testing_index]\n",
    "\n",
    "\n",
    "print(\"The training dimension is: \" + str(X_train.shape))\n",
    "print(\"The testing dimension is: \" + str(X_test.shape))\n"
   ]
  },
  {
   "cell_type": "code",
   "execution_count": 3,
   "metadata": {
    "jupyter": {
     "outputs_hidden": false
    }
   },
   "outputs": [
    {
     "name": "stdout",
     "output_type": "stream",
     "text": [
      "The training dimension is: (90, 4)\n",
      "The testing dimension is: (60, 4)\n"
     ]
    }
   ],
   "source": [
    "from sklearn.model_selection import train_test_split\n",
    "\n",
    "## Equivalent sklearn command\n",
    "X_train, X_test, y_train, y_test = train_test_split(iris.data, iris.target, test_size=0.4, random_state=412123)\n",
    "\n",
    "print(\"The training dimension is: \" + str(X_train.shape))\n",
    "print(\"The testing dimension is: \" + str(X_test.shape))"
   ]
  },
  {
   "cell_type": "markdown",
   "metadata": {},
   "source": [
    "$\\textbf{Exercise.}$ Choose a classifier and compute training and testing accuracy for this data."
   ]
  },
  {
   "cell_type": "code",
   "execution_count": 4,
   "metadata": {
    "jupyter": {
     "outputs_hidden": false
    }
   },
   "outputs": [
    {
     "name": "stdout",
     "output_type": "stream",
     "text": [
      "The training accuracy is: 0.966666666667\n",
      "The testing accuracy is: 0.95\n"
     ]
    }
   ],
   "source": [
    "from sklearn.neighbors import KNeighborsClassifier\n",
    "\n",
    "model = KNeighborsClassifier(n_neighbors=2)\n",
    "model.fit(X_train, y_train)\n",
    "\n",
    "print(\"The training accuracy is: \" + str(model.score(X_train, y_train)))\n",
    "print(\"The testing accuracy is: \" +  str(model.score(X_test, y_test)))"
   ]
  },
  {
   "cell_type": "markdown",
   "metadata": {},
   "source": [
    "The obtained testing performance is however biased by the specific choice of the training/testing split. If we perform a different split we would probably get different results:"
   ]
  },
  {
   "cell_type": "code",
   "execution_count": 5,
   "metadata": {
    "jupyter": {
     "outputs_hidden": false
    }
   },
   "outputs": [
    {
     "name": "stdout",
     "output_type": "stream",
     "text": [
      "The training accuracy is: 0.988888888889\n",
      "The testing accuracy is: 0.933333333333\n"
     ]
    }
   ],
   "source": [
    "X_train, X_test, y_train, y_test = train_test_split(iris.data, iris.target, test_size =0.4, random_state=43)\n",
    "model.fit(X_train, y_train)\n",
    "\n",
    "print(\"The training accuracy is: \" + str(model.score(X_train, y_train)))\n",
    "print(\"The testing accuracy is: \" +  str(model.score(X_test, y_test)))\n"
   ]
  },
  {
   "cell_type": "markdown",
   "metadata": {},
   "source": [
    "Taking inspiration from the bootstrap technique, we can iterate over different samples of the data to obtain an estimator of the mean performance of our model. This approach is for example at the basis of _k-fold cross validation_. We split the data in _k_ __non overlapping__ smaller sets:\n",
    "\n",
    "- we train the model on $k-1$ subsets\n",
    "- we test it on the hold-out set\n",
    "\n"
   ]
  },
  {
   "cell_type": "markdown",
   "metadata": {},
   "source": [
    "$\\textbf{Exercise.}$ Write a routine to perform k-fold cross validation on the given data."
   ]
  },
  {
   "cell_type": "code",
   "execution_count": 63,
   "metadata": {
    "jupyter": {
     "outputs_hidden": false
    }
   },
   "outputs": [
    {
     "name": "stdout",
     "output_type": "stream",
     "text": [
      "Each fold size is : 30\n",
      "\n",
      "Hold out indices: 0,29\n",
      "Current accuracy: 0.966666666667\n",
      "Hold out indices: 30,59\n",
      "Current accuracy: 0.933333333333\n",
      "Hold out indices: 60,89\n",
      "Current accuracy: 0.866666666667\n",
      "Hold out indices: 90,119\n",
      "Current accuracy: 0.866666666667\n",
      "Hold out indices: 120,149\n",
      "Current accuracy: 1.0\n"
     ]
    },
    {
     "data": {
      "image/png": "[encoded data removed]",
      "text/plain": [
       "<matplotlib.figure.Figure at 0x1a135da358>"
      ]
     },
     "metadata": {},
     "output_type": "display_data"
    },
    {
     "name": "stdout",
     "output_type": "stream",
     "text": [
      "The average accuracy from 5-fold cross validation is: 0.926666666667\n"
     ]
    }
   ],
   "source": [
    "model = KNeighborsClassifier(n_neighbors=2)\n",
    "np.random.seed(2123)\n",
    "\n",
    "data_idx = range(iris.data.shape[0])\n",
    "\n",
    "## Implementing k-fold cross-validation\n",
    "k = 5\n",
    "fold_size = int(len(iris.target)/k)\n",
    "\n",
    "## randomly shuffling the data indices\n",
    "data_idx = np.arange(iris.data.shape[0])\n",
    "np.random.shuffle(data_idx)\n",
    "\n",
    "shuffled_data = iris.data[data_idx,:]\n",
    "shuffled_target = iris.target[data_idx]\n",
    "\n",
    "print(\"Each fold size is : \" + str(fold_size) + \"\\n\")\n",
    "\n",
    "accuracy = []\n",
    "\n",
    "for i in range(k):\n",
    "    print(\"Hold out indices: \" + str(i*fold_size) + \",\" + str((i+1)*fold_size-1))\n",
    "    hold_out_idx = range(i*fold_size, (i+1)*fold_size)\n",
    "    \n",
    "    training_idx = np.setdiff1d(range(iris.data.shape[0]),hold_out_idx, assume_unique=True)\n",
    "    \n",
    "    X_train = shuffled_data[training_idx,:]\n",
    "    y_train = shuffled_target[training_idx]\n",
    "\n",
    "    X_test = shuffled_data[hold_out_idx,:]\n",
    "    y_test = shuffled_target[hold_out_idx]\n",
    "\n",
    "    model.fit(X_train, y_train)\n",
    "    accuracy.append(model.score(X_test, y_test))\n",
    "    print('Current accuracy: ' + str(model.score(X_test, y_test)))\n",
    "\n",
    "plt.hist(accuracy)\n",
    "plt.title(\"Accuracy across the \" + str(k) + \"-folds\")\n",
    "plt.show()\n",
    "\n",
    "print(\"The average accuracy from \" + str(k) + \"-fold cross validation is: \" + str(np.mean(accuracy)))\n",
    "    "
   ]
  },
  {
   "cell_type": "code",
   "execution_count": 7,
   "metadata": {
    "jupyter": {
     "outputs_hidden": false
    }
   },
   "outputs": [
    {
     "name": "stdout",
     "output_type": "stream",
     "text": [
      "The accuracy from 5-fold cross validation is: \n",
      "[ 1.          0.93333333  1.          0.93333333  0.86666667  1.\n",
      "  0.86666667  0.93333333  1.          1.        ]\n",
      "The average accuracy from 5-fold cross validation is: 0.953333333333\n"
     ]
    }
   ],
   "source": [
    "from sklearn.model_selection import cross_val_score\n",
    "\n",
    "sklearn_accuracy = cross_val_score(model, iris.data, iris.target, scoring = 'accuracy', cv=10)\n",
    "\n",
    "print(\"The accuracy from \" + str(k) + \"-fold cross validation is: \\n\" + str(sklearn_accuracy))\n",
    "\n",
    "print(\"The average accuracy from \" + str(k) + \"-fold cross validation is: \" + str(np.mean(sklearn_accuracy)))"
   ]
  },
  {
   "cell_type": "markdown",
   "metadata": {},
   "source": [
    "K-fold cross-validation can be also repeated several times, and the average cross-validation accuracy can be reported. "
   ]
  },
  {
   "cell_type": "code",
   "execution_count": 8,
   "metadata": {
    "jupyter": {
     "outputs_hidden": false
    }
   },
   "outputs": [
    {
     "name": "stdout",
     "output_type": "stream",
     "text": [
      "TRAIN: [0 1] TEST: [2 3]\n",
      "TRAIN: [2 3] TEST: [0 1]\n",
      "TRAIN: [1 2] TEST: [0 3]\n",
      "TRAIN: [0 3] TEST: [1 2]\n"
     ]
    }
   ],
   "source": [
    "from sklearn.model_selection import RepeatedKFold\n",
    "\n",
    "X = np.array([[1, 2], [3, 4], [1, 2], [3, 4]])\n",
    "y = np.array([0, 0, 1, 1])\n",
    "\n",
    "rkf = RepeatedKFold(n_splits=2, n_repeats=2, random_state=2652124)\n",
    "for train_index, test_index in rkf.split(X):\n",
    "    print(\"TRAIN:\", train_index, \"TEST:\", test_index)\n",
    "    X_train, X_test = X[train_index], X[test_index]\n",
    "    y_train, y_test = y[train_index], y[test_index]"
   ]
  },
  {
   "cell_type": "markdown",
   "metadata": {},
   "source": [
    "$\\mathbf{Exercise.}$ Write a repeated K-fold strategy for the iris dataset."
   ]
  },
  {
   "cell_type": "markdown",
   "metadata": {},
   "source": [
    "## Leave one out\n",
    "\n",
    "We have seen during the previous lesson that removing a single point from the dataset can have a drastic impact on the modeling variability. This fact motivates another standard cross-validation strategy called _leave one out_ (LOO). In LOO the model is trained on a subset of the data containing all but a single data point. The testing is performed on the single hold-out point. We therefore obtain  $\\mbox{N_sample}$ predictions.\n",
    "\n",
    "In terms of accuracy, LOO often results in high variance as an estimator for the test error. Intuitively, since $(\\mbox{N_sample-1})$ samples are used to build each model, models constructed from folds are virtually identical to each other and to the model built from the entire training set."
   ]
  },
  {
   "cell_type": "markdown",
   "metadata": {},
   "source": [
    "$\\textbf{Exercise.}$ Write a LOO routine for this data."
   ]
  },
  {
   "cell_type": "code",
   "execution_count": 9,
   "metadata": {
    "jupyter": {
     "outputs_hidden": false
    }
   },
   "outputs": [
    {
     "data": {
      "image/png": "[encoded data removed]",
      "text/plain": [
       "<matplotlib.figure.Figure at 0x10cd4da58>"
      ]
     },
     "metadata": {},
     "output_type": "display_data"
    },
    {
     "name": "stdout",
     "output_type": "stream",
     "text": [
      "The average LOO accuracy is: 0.946021505376\n"
     ]
    }
   ],
   "source": [
    "loo_accuracy = []\n",
    "\n",
    "model = KNeighborsClassifier(n_neighbors=2)\n",
    "\n",
    "for i in range(iris.data.shape[0]):\n",
    "    training_index = np.setdiff1d(range(iris.data.shape[0]),i, assume_unique=True)\n",
    "    X_train = iris.data[training_index,:]\n",
    "    y_train = iris.target[training_index]\n",
    "    \n",
    "    model.fit(X_train, y_train)\n",
    "    \n",
    "    X_test = iris.data[i,:]\n",
    "    y_test = iris.target[i]\n",
    "    \n",
    "    accuracy.append(model.score([X_test], [y_test]))\n",
    "    \n",
    "\n",
    "plt.hist(accuracy, bins=30)\n",
    "plt.title('LOO accuracy histogram')\n",
    "plt.show()\n",
    "\n",
    "print('The average LOO accuracy is: ' + str(np.mean(accuracy)))\n",
    " "
   ]
  },
  {
   "cell_type": "code",
   "execution_count": 10,
   "metadata": {
    "jupyter": {
     "outputs_hidden": false
    }
   },
   "outputs": [
    {
     "data": {
      "image/png": "[encoded data removed]",
      "text/plain": [
       "<matplotlib.figure.Figure at 0x109fa6048>"
      ]
     },
     "metadata": {},
     "output_type": "display_data"
    },
    {
     "name": "stdout",
     "output_type": "stream",
     "text": [
      "The average LOO accuracy with sklearn is: 0.946021505376\n"
     ]
    }
   ],
   "source": [
    "## Sklearn implementation\n",
    "\n",
    "##Note: ``LeaveOneOut()`` is equivalent to ``KFold(n_splits=n)``\n",
    "\n",
    "from sklearn.model_selection import LeaveOneOut\n",
    "\n",
    "loo = LeaveOneOut()\n",
    "model = KNeighborsClassifier(n_neighbors=2)\n",
    "\n",
    "loo_accuracy_sklearn = []\n",
    "for train, test in loo.split(iris.data):\n",
    "    \n",
    "    model.fit(iris.data[train,:], iris.target[train])\n",
    "    loo_accuracy.append(model.score(iris.data[test,:], iris.target[test]))\n",
    "    \n",
    "\n",
    "plt.hist(accuracy, bins=30)\n",
    "plt.title('LOO accuracy histogram with sklearn')\n",
    "plt.show()\n",
    "\n",
    "print('The average LOO accuracy with sklearn is: ' + str(np.mean(accuracy)))"
   ]
  },
  {
   "cell_type": "markdown",
   "metadata": {},
   "source": [
    "## Receiving Operator Characteristic (ROC) \n",
    "\n",
    "ROC curves are typically computed by evaluating the false positive rate and the true positive rate, plotted respectively on the X and Y axis. Remember that both True positive rate and false positive rate take values in [0,1]. An optimal classifier whould ideally keep the false positive rate as low as possible (ideally zero), and the true positive rate as large as possible (ideally one). Therefore, the maximum value of the area defined by the ROC curve (area under the curve - AUC -) is 1, which is the area of a square of side equal to 1. In general the area under the ROC curve takes values in [0,1] too, the larger the better.\n",
    "\n",
    "We recall from lesson 2:\n",
    "\n",
    "- Accuracy: quantifies the overall number of correct predictions\n",
    "$$ ACC = \\frac{\\mbox{True Positives} + \\mbox{True negatives}}{\\mbox{Total sample size}}$$\n",
    "\n",
    "\n",
    "- Precision (positive predictive value): quantifies the number of correct predictions among all the positive predictions\n",
    "$$ PRECISION = \\frac{\\mbox{True Positives}}{\\mbox{True Positives} + \\mbox{False Positives} } $$\n",
    "\n",
    "\n",
    "- Recall (true positive rate, or sensitivity): quantifies the number of correct predictions among all the positive data\n",
    "$$ RECALL = \\frac{\\mbox{True Positives}}{\\mbox{True Positives} + \\mbox{False Negatives} } $$\n",
    "\n",
    "\n",
    "- Specificity (true negative rate): quantifies the number of correct predictions among all the negative data\n",
    "$$ SPEC = \\frac{\\mbox{True Negatives}}{\\mbox{False Positives} + \\mbox{True Negatives} } $$\n",
    "\n"
   ]
  },
  {
   "cell_type": "code",
   "execution_count": 69,
   "metadata": {
    "jupyter": {
     "outputs_hidden": false
    }
   },
   "outputs": [
    {
     "data": {
      "image/png": "[encoded data removed]",
      "text/plain": [
       "<matplotlib.figure.Figure at 0x1a136b5a90>"
      ]
     },
     "metadata": {},
     "output_type": "display_data"
    },
    {
     "name": "stdout",
     "output_type": "stream",
     "text": [
      "Original shape of X: (100, 4)\n",
      "New shape of X: (100, 804)\n"
     ]
    }
   ],
   "source": [
    "import numpy as np\n",
    "from scipy import interp\n",
    "\n",
    "from sklearn import svm, datasets\n",
    "from sklearn.metrics import roc_curve, auc\n",
    "from sklearn.model_selection import StratifiedKFold\n",
    "\n",
    "# #############################################################################\n",
    "# Data IO and generation\n",
    "\n",
    "# Import the data\n",
    "iris = datasets.load_iris()\n",
    "X = iris.data\n",
    "y = iris.target\n",
    "X, y = X[y != 2], y[y != 2]\n",
    "\n",
    "n_samples, n_features = X.shape\n",
    "\n",
    "plt.hist(y)\n",
    "plt.title('Classes histogram')\n",
    "plt.show()\n",
    "\n",
    "# Add noisy features\n",
    "random_state = np.random.RandomState(0)\n",
    "\n",
    "print('Original shape of X: ' + str(X.shape))\n",
    "X = np.c_[X, random_state.randn(n_samples, 200 * n_features)]\n",
    "print('New shape of X: ' + str(X.shape))\n"
   ]
  },
  {
   "cell_type": "code",
   "execution_count": 73,
   "metadata": {
    "jupyter": {
     "outputs_hidden": false
    }
   },
   "outputs": [
    {
     "name": "stdout",
     "output_type": "stream",
     "text": [
      "fpr: [ 0.  0.  1.]\n",
      "tpr: [ 0.02  1.    1.  ]\n",
      "tpr: [ 0.98065668  0.98058311  0.0187426 ]\n"
     ]
    },
    {
     "data": {
      "image/png": "[encoded data removed]",
      "text/plain": [
       "<matplotlib.figure.Figure at 0x1a1509fdd8>"
      ]
     },
     "metadata": {},
     "output_type": "display_data"
    }
   ],
   "source": [
    "# #############################################################################\n",
    "# Classification and ROC analysis\n",
    "classifier = svm.SVC(kernel='linear', probability=True,\n",
    "                     random_state=random_state)\n",
    "\n",
    "#Evaluating the classifier on the full data sample\n",
    "probas_ = classifier.fit(X, y)\n",
    "\n",
    "probas_ = classifier.predict_proba(X)\n",
    "\n",
    "#print(\"Probabilistic predictions:\\n\" + str(probas_))\n",
    "\n",
    "fpr, tpr, thresholds = roc_curve(y, probas_[:,1])\n",
    "\n",
    "print('fpr: ' + str(fpr))\n",
    "print('tpr: ' + str(tpr))\n",
    "print('tpr: ' + str(thresholds))\n",
    "\n",
    "area_under_the_curve = auc(fpr, tpr)\n",
    "\n",
    "plt.scatter(fpr,tpr)\n",
    "plt.xlim([-0.1,1.1])\n",
    "plt.xlabel('False positive rate')\n",
    "plt.ylim([-0.1,1.1])\n",
    "plt.ylabel('True positive rate')\n",
    "plt.title('fpr vs tpr\\nthe estimated area is: ' + str(area_under_the_curve))\n",
    "plt.show()\n"
   ]
  },
  {
   "cell_type": "code",
   "execution_count": 77,
   "metadata": {
    "jupyter": {
     "outputs_hidden": false
    }
   },
   "outputs": [
    {
     "data": {
      "image/png": "[encoded data removed]",
      "text/plain": [
       "<matplotlib.figure.Figure at 0x1a136b5fd0>"
      ]
     },
     "metadata": {},
     "output_type": "display_data"
    },
    {
     "name": "stdout",
     "output_type": "stream",
     "text": [
      "The estimated tpr for fold 0: \n",
      "[ 0.          0.44444444  0.44444444  0.44444444  0.44444444  0.44444444\n",
      "  0.44444444  0.44444444  0.44444444  0.44444444  0.44444444  0.55555556\n",
      "  0.55555556  0.55555556  0.55555556  0.55555556  0.55555556  0.55555556\n",
      "  0.55555556  0.55555556  0.55555556  0.55555556  0.55555556  0.55555556\n",
      "  0.55555556  0.55555556  0.55555556  0.55555556  0.55555556  0.55555556\n",
      "  0.55555556  0.55555556  0.55555556  0.77777778  0.77777778  0.77777778\n",
      "  0.77777778  0.77777778  0.77777778  0.77777778  0.77777778  0.77777778\n",
      "  0.77777778  0.77777778  1.          1.          1.          1.          1.\n",
      "  1.          1.          1.          1.          1.          1.          1.\n",
      "  1.          1.          1.          1.          1.          1.          1.\n",
      "  1.          1.          1.          1.          1.          1.          1.\n",
      "  1.          1.          1.          1.          1.          1.          1.\n",
      "  1.          1.          1.          1.          1.          1.          1.\n",
      "  1.          1.          1.          1.          1.          1.          1.\n",
      "  1.          1.          1.          1.          1.          1.          1.\n",
      "  1.          1.        ]\n"
     ]
    }
   ],
   "source": [
    "# Within a cross-validation loop\n",
    "# Run classifier with cross-validation and plot ROC curves\n",
    "\n",
    "cv = StratifiedKFold(n_splits=6)\n",
    "\n",
    "roc_sample = []\n",
    "aucs = []\n",
    "mean_fpr = np.linspace(0, 1, 100)\n",
    "i = 0\n",
    "\n",
    "for train, test in cv.split(X, y):\n",
    "    probas_ = classifier.fit(X[train], y[train]).predict_proba(X[test])\n",
    "    # Compute ROC curve and area under the curve\n",
    "    fpr, tpr, thresholds = roc_curve(y[test], probas_[:, 1])\n",
    "    roc_sample.append(interp(mean_fpr, fpr, tpr))\n",
    "    # We impose the ROC curve to start from 0\n",
    "    roc_sample[-1][0] = 0.0\n",
    "    # Compute the area under the curve\n",
    "    roc_auc = auc(fpr, tpr)\n",
    "    aucs.append(roc_auc)\n",
    "    # Plotting the ROC curve\n",
    "    plt.plot(fpr, tpr, lw=1, alpha=0.3,\n",
    "             label='ROC fold %d (AUC = %0.2f)' % (i, roc_auc))\n",
    "\n",
    "    i += 1\n",
    "\n",
    "plt.legend()\n",
    "plt.show()\n",
    "\n",
    "print('The estimated tpr for fold 0: ')\n",
    "print(roc_sample[0])"
   ]
  },
  {
   "cell_type": "code",
   "execution_count": 14,
   "metadata": {
    "jupyter": {
     "outputs_hidden": false
    }
   },
   "outputs": [
    {
     "data": {
      "image/png": "[encoded data removed]",
      "text/plain": [
       "<matplotlib.figure.Figure at 0x1a13223400>"
      ]
     },
     "metadata": {},
     "output_type": "display_data"
    }
   ],
   "source": [
    "# Summarizing the cross-validation results\n",
    "\n",
    "# Adding diagonal line of random classification \n",
    "plt.plot([0, 1], [0, 1], linestyle='--', lw=2, color='r',\n",
    "         label='Chance', alpha=.8)\n",
    "\n",
    "# Computing mean and std for the curves\n",
    "mean_tpr = np.mean(roc_sample, axis=0)\n",
    "std_tpr = np.std(roc_sample, axis=0)\n",
    "\n",
    "# We impose the end point of the average ROC to be equal to 1\n",
    "mean_tpr[-1] = 1.0\n",
    "\n",
    "# Computing the AUC of the average curves\n",
    "mean_auc = auc(mean_fpr, mean_tpr)\n",
    "# Computing the std of the AUCs \n",
    "std_auc = np.std(aucs)\n",
    "\n",
    "plt.plot(mean_fpr, mean_tpr, color='b',\n",
    "         label=r'Mean ROC (AUC = %0.2f $\\pm$ %0.2f)' % (mean_auc, std_auc),\n",
    "         lw=2, alpha=.8)\n",
    "\n",
    "\n",
    "# Nice plot of curve with std\n",
    "tprs_upper = np.minimum(mean_tpr + std_tpr, 1)\n",
    "tprs_lower = np.maximum(mean_tpr - std_tpr, 0)\n",
    "plt.fill_between(mean_fpr, tprs_lower, tprs_upper, color='grey', alpha=.2,\n",
    "                 label=r'$\\pm$ 1 std. dev.')\n",
    "\n",
    "plt.xlim([-0.05, 1.05])\n",
    "plt.ylim([-0.05, 1.05])\n",
    "plt.xlabel('False Positive Rate')\n",
    "plt.ylabel('True Positive Rate')\n",
    "plt.title('Receiver operating characteristic example')\n",
    "plt.legend(loc=\"lower right\")\n",
    "plt.show()"
   ]
  },
  {
   "cell_type": "markdown",
   "metadata": {},
   "source": [
    "## Stratification"
   ]
  },
  {
   "cell_type": "markdown",
   "metadata": {},
   "source": [
    "When the data is unbalanced, k-fold cross-validation may pose problems of biased accuracy quantification"
   ]
  },
  {
   "cell_type": "code",
   "execution_count": 15,
   "metadata": {
    "jupyter": {
     "outputs_hidden": false
    }
   },
   "outputs": [
    {
     "name": "stdout",
     "output_type": "stream",
     "text": [
      "*** Training ***\n",
      "Elements of class 0: 0.88\n",
      "Elements of class 1: 0.12\n",
      "*** Testing ***\n",
      "Elements of class 0: 0.94\n",
      "Elements of class 1: 0.06\n"
     ]
    }
   ],
   "source": [
    "from sklearn.datasets import make_classification\n",
    "from sklearn.metrics import precision_score, recall_score\n",
    "from sklearn.metrics import recall_score\n",
    "\n",
    "\n",
    "X, y = make_classification(n_samples = 100, n_features=2, n_redundant=0, n_informative=2, \\\n",
    "                           random_state=0, n_clusters_per_class=1, weights = [0.9])\n",
    "\n",
    "\n",
    "model = KNeighborsClassifier(n_neighbors=5)\n",
    "\n",
    "X_train, X_test, y_train, y_test = train_test_split(X, y, test_size=0.5, random_state=43)\n",
    "clf = model.fit(X_train, y_train)\n",
    "\n",
    "print(\"*** Training ***\")\n",
    "print(\"Elements of class 0: \" + str(np.sum(y_train==0)/len(y_train)))\n",
    "print(\"Elements of class 1: \" + str(np.sum(y_train==1)/len(y_train)))\n",
    "\n",
    "print(\"*** Testing ***\")\n",
    "print(\"Elements of class 0: \" + str(np.sum(y_test==0)/len(y_test)))\n",
    "print(\"Elements of class 1: \" + str(np.sum(y_test==1)/len(y_test)))\n",
    "\n",
    "\n",
    "\n"
   ]
  },
  {
   "cell_type": "markdown",
   "metadata": {},
   "source": [
    "We observe that the classes are not equally represented in training and testing data. This may pose a problem in the evaluation of the classifier, as the performance is not evaluated on the data with same distribution. For this reason, we would like to keep the proportion of classes constant across data split. This operation is called _stratified k-fold_.\n"
   ]
  },
  {
   "cell_type": "markdown",
   "metadata": {},
   "source": [
    "$\\textbf{Exercise.}$ Write a routine for stratified k-fold cross-validation."
   ]
  },
  {
   "cell_type": "code",
   "execution_count": 16,
   "metadata": {
    "jupyter": {
     "outputs_hidden": false
    }
   },
   "outputs": [
    {
     "name": "stdout",
     "output_type": "stream",
     "text": [
      "We need to train with 4 samples from class 1, and 45 samples from class 0.\n",
      "*** Training ***\n",
      "Elements of class 0: 0.918367346939\n",
      "Elements of class 1: 0.0816326530612\n",
      "*** Testing ***\n",
      "Elements of class 0: 0.901960784314\n",
      "Elements of class 1: 0.0980392156863\n"
     ]
    }
   ],
   "source": [
    "ratio = np.sum(y==1)/len(y)\n",
    "test_size = 0.5 * len(y)\n",
    "\n",
    "pos_test_size = int(ratio*test_size)\n",
    "neg_test_size = int((1-ratio) * test_size)\n",
    "\n",
    "print(\"We need to train with \" + str(pos_test_size) + \" samples from class 1, and \" + str(neg_test_size) + \\\n",
    "      \" samples from class 0.\")\n",
    "\n",
    "idx_pos_train = np.random.choice(np.where(y==1)[0], pos_test_size, replace = True)\n",
    "idx_neg_train = np.random.choice(np.where(y==0)[0], neg_test_size, replace = True)\n",
    "\n",
    "train_indices = np.concatenate([idx_pos_train,idx_neg_train])\n",
    "\n",
    "y_train = y[train_indices]\n",
    "X_train = X[train_indices,:]\n",
    "\n",
    "idx_pos_test = np.setdiff1d(np.where(y==1)[0],idx_pos_train, assume_unique = True)\n",
    "idx_neg_test = np.setdiff1d(np.where(y==0)[0], idx_neg_train, assume_unique = True)\n",
    "\n",
    "test_indices = np.concatenate([idx_pos_test,idx_neg_test])\n",
    "y_test = y[test_indices]\n",
    "X_test = X[test_indices,:]\n",
    "\n",
    "\n",
    "print(\"*** Training ***\")\n",
    "print(\"Elements of class 0: \" + str(np.sum(y_train==0)/len(y_train)))\n",
    "print(\"Elements of class 1: \" + str(np.sum(y_train==1)/len(y_train)))\n",
    "\n",
    "print(\"*** Testing ***\")\n",
    "print(\"Elements of class 0: \" + str(np.sum(y_test==0)/len(y_test)))\n",
    "print(\"Elements of class 1: \" + str(np.sum(y_test==1)/len(y_test)))"
   ]
  },
  {
   "cell_type": "code",
   "execution_count": 17,
   "metadata": {
    "jupyter": {
     "outputs_hidden": false
    }
   },
   "outputs": [
    {
     "name": "stdout",
     "output_type": "stream",
     "text": [
      "\n",
      "[ 1  2  3  6  7  8  9 10 11] [0 4 5]\n",
      "*** Training ***\n",
      "Elements of class 0: 0.333333333333\n",
      "Elements of class 1: 0.666666666667\n",
      "*** Testing ***\n",
      "Elements of class 0: 0.333333333333\n",
      "Elements of class 1: 0.666666666667\n",
      "\n",
      "[ 0  2  3  4  5  8  9 10 11] [1 6 7]\n",
      "*** Training ***\n",
      "Elements of class 0: 0.333333333333\n",
      "Elements of class 1: 0.666666666667\n",
      "*** Testing ***\n",
      "Elements of class 0: 0.333333333333\n",
      "Elements of class 1: 0.666666666667\n",
      "\n",
      "[ 0  1  3  4  5  6  7 10 11] [2 8 9]\n",
      "*** Training ***\n",
      "Elements of class 0: 0.333333333333\n",
      "Elements of class 1: 0.666666666667\n",
      "*** Testing ***\n",
      "Elements of class 0: 0.333333333333\n",
      "Elements of class 1: 0.666666666667\n",
      "\n",
      "[0 1 2 4 5 6 7 8 9] [ 3 10 11]\n",
      "*** Training ***\n",
      "Elements of class 0: 0.333333333333\n",
      "Elements of class 1: 0.666666666667\n",
      "*** Testing ***\n",
      "Elements of class 0: 0.333333333333\n",
      "Elements of class 1: 0.666666666667\n"
     ]
    }
   ],
   "source": [
    "from sklearn.model_selection import StratifiedKFold\n",
    "\n",
    "X = np.ones(12)\n",
    "y = np.array([0, 0, 0, 0, 1, 1, 1, 1, 1, 1, 1, 1])\n",
    "\n",
    "skf = StratifiedKFold(n_splits=4)\n",
    "for train, test in skf.split(X, y):\n",
    "    print(\"\\n%s %s\" % (train, test))\n",
    "    print(\"*** Training ***\")\n",
    "    print(\"Elements of class 0: \" + str(np.sum(y[train]==0)/len(y[train])))\n",
    "    print(\"Elements of class 1: \" + str(np.sum(y[train]==1)/len(y[train])))\n",
    "\n",
    "    print(\"*** Testing ***\")\n",
    "    print(\"Elements of class 0: \" + str(np.sum(y[test]==0)/len(y[test])))\n",
    "    print(\"Elements of class 1: \" + str(np.sum(y[test]==1)/len(y[test])))"
   ]
  },
  {
   "cell_type": "markdown",
   "metadata": {},
   "source": [
    "The problem of unbalanced data is critical when assessing a classification metric. We recall that the accuracy is defined as: \n",
    "\n",
    "$$ ACC = \\frac{\\mbox{True Positives} + \\mbox{True negatives}}{\\mbox{Total sample size}}.$$\n",
    "\n",
    "If there is unbalance in the data, for example the positive class represents 90% of the population, a classifier predicting constantly positive will lead to an accuracy of $.9$ without however correctly predicting any of the samples of the negative class. This may represent a serious issue, for example in _fraud detection_ problems, where we are interested in predicting classes which are very rare (the frauds).\n"
   ]
  },
  {
   "cell_type": "code",
   "execution_count": 78,
   "metadata": {
    "jupyter": {
     "outputs_hidden": false
    }
   },
   "outputs": [
    {
     "name": "stdout",
     "output_type": "stream",
     "text": [
      "Accuracy:\n",
      "    (tp + tn)/tot: 0.945\n"
     ]
    }
   ],
   "source": [
    "X, y = make_classification(n_samples = 400, n_features=2, n_redundant=0, n_informative=2, \\\n",
    "                           random_state=0, n_clusters_per_class=1, weights = [0.90])\n",
    "\n",
    "\n",
    "clf = svm.SVC(kernel='linear', probability=True,\n",
    "                     random_state=random_state)\n",
    "\n",
    "skf = StratifiedKFold(n_splits=2)\n",
    "\n",
    "X_train, X_test, y_train, y_test = train_test_split(X, y, test_size=0.5, random_state=43, stratify = y)\n",
    "clf = clf.fit(X_train, y_train)\n",
    "\n",
    "\n",
    "print(\"Accuracy:\\n    (tp + tn)/tot: \" + str(clf.score(X_test, y_test)))"
   ]
  },
  {
   "cell_type": "markdown",
   "metadata": {},
   "source": [
    "In this case, better metrics are the Precision (false positive rate) and Recall (false negative rate):"
   ]
  },
  {
   "cell_type": "code",
   "execution_count": 79,
   "metadata": {
    "jupyter": {
     "outputs_hidden": false
    }
   },
   "outputs": [
    {
     "name": "stdout",
     "output_type": "stream",
     "text": [
      "\n",
      " *** False positive and False negative rates ***\n",
      "Precision\n",
      "    tp / (tp + fp)): 0.47619047619\n",
      "Recall\n",
      "    tp / (tp + fn): 1.0\n"
     ]
    }
   ],
   "source": [
    "print(\"\\n *** False positive and False negative rates ***\")\n",
    "\n",
    "P = precision_score(clf.predict(X_test), y_test)\n",
    "R = recall_score(clf.predict(X_test), y_test)\n",
    "\n",
    "print(\"Precision\\n    tp / (tp + fp)): \" + str(P))\n",
    "print(\"Recall\\n    tp / (tp + fn): \" + str(R))\n",
    "\n"
   ]
  },
  {
   "cell_type": "markdown",
   "metadata": {},
   "source": [
    "These quantities are also related to the F1 score, which is defined as the harmonic mean of precision and recall:\n",
    "$$ F1 = 2\\frac{Prec * Rec}{Prec + Rec}$$\n"
   ]
  },
  {
   "cell_type": "code",
   "execution_count": 60,
   "metadata": {
    "jupyter": {
     "outputs_hidden": false
    }
   },
   "outputs": [
    {
     "name": "stdout",
     "output_type": "stream",
     "text": [
      "F1: 0.645161290323\n"
     ]
    }
   ],
   "source": [
    "print(\"F1: \" + str(2*P*R/(P+R)))"
   ]
  },
  {
   "cell_type": "markdown",
   "metadata": {},
   "source": [
    "In the unbalanced case, the ROC AUC is also not appropriate for the quantification of the performance:"
   ]
  },
  {
   "cell_type": "code",
   "execution_count": 80,
   "metadata": {
    "jupyter": {
     "outputs_hidden": false
    }
   },
   "outputs": [
    {
     "data": {
      "image/png": "[encoded data removed]",
      "text/plain": [
       "<matplotlib.figure.Figure at 0x1a15101400>"
      ]
     },
     "metadata": {},
     "output_type": "display_data"
    }
   ],
   "source": [
    "cv = StratifiedKFold(n_splits=6)\n",
    "roc_sample = []\n",
    "aucs = []\n",
    "mean_fpr = np.linspace(0, 1, 100)\n",
    "i = 0\n",
    "\n",
    "for train, test in cv.split(X, y):\n",
    "    probas_ = clf.fit(X[train], y[train]).predict_proba(X[test])\n",
    "    # Compute ROC curve and area under the curve\n",
    "    fpr, tpr, thresholds = roc_curve(y[test], probas_[:, 1])\n",
    "    roc_sample.append(interp(mean_fpr, fpr, tpr))\n",
    "    # We impose the ROC curve to start from 0\n",
    "    roc_sample[-1][0] = 0.0\n",
    "    # Compute the area under the curve\n",
    "    roc_auc = auc(fpr, tpr)\n",
    "    aucs.append(roc_auc)\n",
    "    # Plotting the ROC curve\n",
    "    plt.plot(fpr, tpr, lw=1, alpha=0.3,\n",
    "             label='ROC fold %d (AUC = %0.2f)' % (i, roc_auc))\n",
    "\n",
    "    i += 1\n",
    "\n",
    "plt.legend()\n",
    "plt.title(\"Average AUC = \" + str(np.mean(aucs)))\n",
    "plt.show()\n"
   ]
  },
  {
   "cell_type": "code",
   "execution_count": 82,
   "metadata": {
    "jupyter": {
     "outputs_hidden": false
    }
   },
   "outputs": [
    {
     "data": {
      "image/png": "[encoded data removed]",
      "text/plain": [
       "<matplotlib.figure.Figure at 0x1a15106438>"
      ]
     },
     "metadata": {},
     "output_type": "display_data"
    }
   ],
   "source": [
    "from sklearn.metrics import precision_recall_curve\n",
    "from sklearn.metrics import average_precision_score\n",
    "\n",
    "avg_pr = []\n",
    "mean_R = np.linspace(0, 1, 100)\n",
    "\n",
    "for train, test in cv.split(X, y):\n",
    "    probas_ = clf.fit(X[train], y[train]).predict_proba(X[test])\n",
    "    # Compute ROC curve and area under the curve\n",
    "    P, R, thresholds = precision_recall_curve(y[test], probas_[:, 1])\n",
    "\n",
    "    average_precision = average_precision_score(y[test], probas_[:, 1])\n",
    "    avg_pr.append(average_precision)\n",
    "    # Plotting the ROC curve\n",
    "    plt.plot(R, P, lw=1, alpha=0.3,\n",
    "             label='average PR fold %d  = %0.2f' % (i, average_precision))\n",
    "\n",
    "    i += 1\n",
    "\n",
    "plt.legend()\n",
    "plt.title(\"Average PR = \" + str(np.mean(avg_pr)))\n",
    "plt.show()\n",
    "\n"
   ]
  },
  {
   "cell_type": "markdown",
   "metadata": {},
   "source": [
    "## Data leakeage"
   ]
  },
  {
   "cell_type": "code",
   "execution_count": 23,
   "metadata": {
    "jupyter": {
     "outputs_hidden": false
    }
   },
   "outputs": [
    {
     "data": {
      "image/png": "[encoded data removed]",
      "text/plain": [
       "<matplotlib.figure.Figure at 0x1a130c5710>"
      ]
     },
     "metadata": {},
     "output_type": "display_data"
    }
   ],
   "source": [
    "from sklearn import datasets\n",
    "from sklearn import preprocessing\n",
    "from sklearn.datasets import make_moons, make_circles, make_classification\n",
    "\n",
    "\n",
    "digits = datasets.load_digits()\n",
    "\n",
    "# To apply an classifier on this data, we need to flatten the image, to\n",
    "# turn the data in a (samples, feature) matrix:\n",
    "\n",
    "n_samples = len(digits.images)\n",
    "X = digits.images.reshape((n_samples, -1))\n",
    "y = digits.target\n",
    "\n",
    "\n",
    "plt.figure(figsize=(30,20))\n",
    "for i in range(16):\n",
    "    plt.subplot(4,4,i+1)\n",
    "    plt.imshow(digits.images[i])\n",
    "    plt.title('Digit ' + str(y[i]))\n",
    "plt.show()\n",
    "\n"
   ]
  },
  {
   "cell_type": "code",
   "execution_count": 24,
   "metadata": {
    "jupyter": {
     "outputs_hidden": false
    }
   },
   "outputs": [
    {
     "name": "stdout",
     "output_type": "stream",
     "text": [
      "0.972222222222\n"
     ]
    }
   ],
   "source": [
    "from sklearn import preprocessing\n",
    "\n",
    "### Tentative cross validation pipeline\n",
    "\n",
    "## Defining a random seed\n",
    "seed = np.random.randint(0,1e5)\n",
    "\n",
    "## Digits intensities are standardized\n",
    "scaler = preprocessing.StandardScaler().fit(X)\n",
    "X_transformed = scaler.transform(X)\n",
    "\n",
    "## We define training and testing data\n",
    "X_train, X_test, y_train, y_test = train_test_split(X_transformed, y, test_size=0.2, random_state=seed)\n",
    "\n",
    "## The model is fit on the training data\n",
    "#clf = svm.SVC(C=0.1).fit(X_train, y_train)\n",
    "model = KNeighborsClassifier(n_neighbors=5)\n",
    "clf = model.fit(X_train, y_train)\n",
    "    \n",
    "## The model is tested on the testing data\n",
    "print(str(clf.score(X_test, y_test) )) "
   ]
  },
  {
   "cell_type": "code",
   "execution_count": 25,
   "metadata": {
    "jupyter": {
     "outputs_hidden": false
    }
   },
   "outputs": [
    {
     "name": "stdout",
     "output_type": "stream",
     "text": [
      "0.969444444444\n"
     ]
    }
   ],
   "source": [
    "## New cross validation pipeline \n",
    "\n",
    "## We define training and testing data \n",
    "X_train, X_test, y_train, y_test = train_test_split(X, y, test_size=0.2, random_state=seed)\n",
    "\n",
    "## Only the training data is standardized\n",
    "scaler = preprocessing.StandardScaler().fit(X_train)\n",
    "X_train_transformed = scaler.transform(X_train)\n",
    "\n",
    "## The model is fit on the training data\n",
    "#clf = svm.SVC(C=0.1).fit(X_train_transformed, y_train)\n",
    "model = KNeighborsClassifier(n_neighbors=5)\n",
    "clf = model.fit(X_train_transformed, y_train)\n",
    "    \n",
    "## The testing data is standardized based on the statistics of the training data\n",
    "X_test_transformed = scaler.transform(X_test)\n",
    "\n",
    "## The model is tested on the standardized testing data\n",
    "print(str(clf.score(X_test_transformed, y_test)))"
   ]
  },
  {
   "cell_type": "code",
   "execution_count": null,
   "metadata": {
    "collapsed": true,
    "jupyter": {
     "outputs_hidden": true
    }
   },
   "outputs": [],
   "source": []
  },
  {
   "cell_type": "markdown",
   "metadata": {},
   "source": [
    "When performing cross-validation we need to pay special attention in not biasing the results with data manipulation. This issue can happen for example when some preprocessing is applied on the _joint_ training and testing data. In this case, the operation may bias the data splits, as they are not independent anymore. This problem is known as _data leakeage_."
   ]
  }
 ],
 "metadata": {
  "kernelspec": {
   "display_name": "Python 3",
   "language": "python",
   "name": "python3"
  },
  "language_info": {
   "codemirror_mode": {
    "name": "ipython",
    "version": 3
   },
   "file_extension": ".py",
   "mimetype": "text/x-python",
   "name": "python",
   "nbconvert_exporter": "python",
   "pygments_lexer": "ipython3",
   "version": "3.6.9"
  }
 },
 "nbformat": 4,
 "nbformat_minor": 4
}
