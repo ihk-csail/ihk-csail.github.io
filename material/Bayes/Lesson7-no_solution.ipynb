{
 "cells": [
  {
   "cell_type": "markdown",
   "metadata": {},
   "source": [
    "## Comparing Bayesian Models: The Widely Applicable Information Criterion\n",
    "   \n",
    "The Widely Applicable Information Criterion (WAIC) is an information criterion (such as AIC or BIC) that can be used in Bayesian models. The interesting aspect of the WAIC is that it is completely based on the likelihood of the posterior predictions. To compute the WAIC we have simply to be able to compute samples from the posterior, no matter which kind of posterior we are working with.\n",
    "\n",
    "Let's $y_i$ be a target point in the training sample, we define $Pr(y_i)$ the average likelihood of the point under our model. This means that for each combination of posterior parameters of our model we can compute the associated likelihood of the point, and then average across all the likelihoods. This quantity is called *log-pointwise-predictive-density* (lppd):\n",
    "\n",
    "$$ lppd = \\sum_{i=1}^N \\log[Pr(y_i)]. $$\n",
    "\n",
    "This is the equivalent of the deviance that is computed when computing the AIC. \n",
    "While *lppd* accounts for model fit, the second part of WAIC should penalize model complexity. Instead of computing the number of parameters, as in AIC or BIC, WAIC computed the variance $V(y_i)$ of the log-likelihood associated to each data point. In practice, we compute the likelihood of $y_i$ for each combination of parameters from our posterior, and then we compute the variance of these quantities. We therefore define the effective number of parameters $p_{WAIC}$ as:\n",
    "\n",
    "$$ p_{WAIC} = \\sum_{i=1}^N V(y_i) .$$\n",
    "\n",
    "WAIC is finally defined as \n",
    "\n",
    "$$ WAIC = -2 (lppd - p_{WAIC}) $$\n",
    "\n"
   ]
  },
  {
   "cell_type": "code",
   "execution_count": 1,
   "metadata": {},
   "outputs": [
    {
     "data": {
      "text/plain": [
       "<matplotlib.collections.PathCollection at 0x121c9ea20>"
      ]
     },
     "execution_count": 1,
     "metadata": {},
     "output_type": "execute_result"
    },
    {
     "data": {
      "image/png": "[encoded data removed]",
      "text/plain": [
       "<Figure size 432x288 with 1 Axes>"
      ]
     },
     "metadata": {
      "needs_background": "light"
     },
     "output_type": "display_data"
    }
   ],
   "source": [
    "import numpy as np\n",
    "import pandas as pd\n",
    "import matplotlib.pyplot as plt\n",
    "\n",
    "N = 20\n",
    "noise = 0.3\n",
    "x = np.linspace(0,1,N)\n",
    "y = np.sin(x*3) + noise * np.random.randn(N)\n",
    "\n",
    "data_synth = pd.DataFrame({'x' : x, 'y' : y})\n",
    "\n",
    "plt.scatter(x,y)"
   ]
  },
  {
   "cell_type": "code",
   "execution_count": 2,
   "metadata": {},
   "outputs": [
    {
     "name": "stdout",
     "output_type": "stream",
     "text": [
      "      fun: 17.951698006818404\n",
      " hess_inv: array([[1.16588731e-02, 3.17626901e-05],\n",
      "       [3.17626901e-05, 5.90582217e-03]])\n",
      "      jac: array([ 0.00000000e+00, -2.38418579e-07])\n",
      "  message: 'Optimization terminated successfully.'\n",
      "     nfev: 42\n",
      "      nit: 9\n",
      "     njev: 14\n",
      "   status: 0\n",
      "  success: True\n",
      "        x: array([0.57943025, 0.48259373])\n",
      "      fun: 19.942970747680416\n",
      " hess_inv: array([[ 0.04195083, -0.06193286,  0.00029927],\n",
      "       [-0.06193286,  0.12323082, -0.00036581],\n",
      "       [ 0.00029927, -0.00036581,  0.00551345]])\n",
      "      jac: array([ 5.00679016e-06,  2.14576721e-06, -2.86102295e-06])\n",
      "  message: 'Optimization terminated successfully.'\n",
      "     nfev: 72\n",
      "      nit: 14\n",
      "     njev: 18\n",
      "   status: 0\n",
      "  success: True\n",
      "        x: array([0.39825017, 0.36254844, 0.46982752])\n"
     ]
    },
    {
     "name": "stderr",
     "output_type": "stream",
     "text": [
      "/Users/mlorenzi/miniconda3/lib/python3.6/site-packages/scipy/optimize/_numdiff.py:497: RuntimeWarning: invalid value encountered in subtract\n",
      "  df = fun(x) - f0\n"
     ]
    },
    {
     "name": "stdout",
     "output_type": "stream",
     "text": [
      "      fun: 15.305185776902478\n",
      " hess_inv: array([[ 3.66428942e-02, -1.40830296e-01,  1.13649047e-01,\n",
      "         5.64830671e-04],\n",
      "       [-1.40830296e-01,  7.71557039e-01, -7.17210853e-01,\n",
      "        -3.42092635e-03],\n",
      "       [ 1.13649047e-01, -7.17210853e-01,  7.17089660e-01,\n",
      "         3.21198339e-03],\n",
      "       [ 5.64830671e-04, -3.42092635e-03,  3.21198339e-03,\n",
      "         2.48583568e-03]])\n",
      "      jac: array([1.19209290e-07, 2.38418579e-07, 0.00000000e+00, 7.15255737e-07])\n",
      "  message: 'Optimization terminated successfully.'\n",
      "     nfev: 137\n",
      "      nit: 18\n",
      "     njev: 27\n",
      "   status: 0\n",
      "  success: True\n",
      "        x: array([-0.22556158,  4.33411567, -3.98050206,  0.31724293])\n"
     ]
    },
    {
     "name": "stderr",
     "output_type": "stream",
     "text": [
      "/Users/mlorenzi/miniconda3/lib/python3.6/site-packages/scipy/optimize/_numdiff.py:497: RuntimeWarning: invalid value encountered in subtract\n",
      "  df = fun(x) - f0\n"
     ]
    },
    {
     "name": "stdout",
     "output_type": "stream",
     "text": [
      "      fun: 17.65182568007667\n",
      " hess_inv: array([[ 4.20494583e-02, -2.16966436e-01,  3.20802570e-01,\n",
      "        -1.43619112e-01,  1.02528247e-03],\n",
      "       [-2.16966436e-01,  1.96935821e+00, -4.00316260e+00,\n",
      "         2.27933004e+00, -9.56191896e-03],\n",
      "       [ 3.20802570e-01, -4.00316260e+00,  9.73405738e+00,\n",
      "        -6.25571576e+00,  1.96267263e-02],\n",
      "       [-1.43619112e-01,  2.27933004e+00, -6.25571576e+00,\n",
      "         4.34199873e+00, -1.11986334e-02],\n",
      "       [ 1.02528247e-03, -9.56191896e-03,  1.96267263e-02,\n",
      "        -1.11986334e-02,  2.52546033e-03]])\n",
      "      jac: array([-7.15255737e-07, -4.76837158e-07, -2.38418579e-07, -4.76837158e-07,\n",
      "       -4.29153442e-06])\n",
      "  message: 'Optimization terminated successfully.'\n",
      "     nfev: 238\n",
      "      nit: 31\n",
      "     njev: 39\n",
      "   status: 0\n",
      "  success: True\n",
      "        x: array([-0.18437669,  3.67254921, -2.16705188, -1.25704141,  0.31908672])\n",
      "      fun: 20.163152785156548\n",
      " hess_inv: array([[ 3.80558434e-02, -1.97312679e-01,  2.35542841e-01,\n",
      "         8.80394593e-03, -8.39801211e-02,  6.35104176e-04],\n",
      "       [-1.97312679e-01,  1.82878297e+00, -3.24644084e+00,\n",
      "         9.51127900e-01,  6.94430776e-01, -7.00016160e-03],\n",
      "       [ 2.35542841e-01, -3.24644084e+00,  8.53527919e+00,\n",
      "        -6.85949829e+00,  1.22855426e+00,  7.26559997e-03],\n",
      "       [ 8.80394593e-03,  9.51127900e-01, -6.85949829e+00,\n",
      "         1.27941025e+01, -6.98643554e+00,  7.68269685e-03],\n",
      "       [-8.39801211e-02,  6.94430776e-01,  1.22855426e+00,\n",
      "        -6.98643554e+00,  5.37186423e+00, -8.50849630e-03],\n",
      "       [ 6.35104176e-04, -7.00016160e-03,  7.26559997e-03,\n",
      "         7.68269685e-03, -8.50849630e-03,  2.57605521e-03]])\n",
      "      jac: array([-5.24520874e-06, -1.66893005e-06, -9.53674316e-07, -9.53674316e-07,\n",
      "       -4.76837158e-07, -1.43051147e-06])\n",
      "  message: 'Optimization terminated successfully.'\n",
      "     nfev: 294\n",
      "      nit: 35\n",
      "     njev: 42\n",
      "   status: 0\n",
      "  success: True\n",
      "        x: array([-0.19350173,  3.73924717, -2.06527995, -1.85982676,  0.46132148,\n",
      "        0.31812735])\n"
     ]
    },
    {
     "name": "stderr",
     "output_type": "stream",
     "text": [
      "/Users/mlorenzi/miniconda3/lib/python3.6/site-packages/scipy/optimize/_numdiff.py:497: RuntimeWarning: invalid value encountered in subtract\n",
      "  df = fun(x) - f0\n",
      "/Users/mlorenzi/miniconda3/lib/python3.6/site-packages/scipy/optimize/_numdiff.py:497: RuntimeWarning: invalid value encountered in subtract\n",
      "  df = fun(x) - f0\n"
     ]
    },
    {
     "name": "stdout",
     "output_type": "stream",
     "text": [
      "      fun: 22.581191321324816\n",
      " hess_inv: array([[ 4.27950610e-02, -2.22110435e-01,  2.39953989e-01,\n",
      "         6.13887885e-02, -9.02695410e-02, -3.50728977e-02,\n",
      "         1.15538769e-03],\n",
      "       [-2.22110435e-01,  1.94143524e+00, -3.45213591e+00,\n",
      "         8.54762090e-01,  1.18637357e+00, -2.52624182e-01,\n",
      "        -7.86771969e-03],\n",
      "       [ 2.39953989e-01, -3.45213591e+00,  9.86046713e+00,\n",
      "        -7.51997636e+00, -1.95658542e+00,  2.75583663e+00,\n",
      "         8.55835140e-03],\n",
      "       [ 6.13887885e-02,  8.54762090e-01, -7.51997636e+00,\n",
      "         1.39490861e+01, -6.19846255e+00, -1.27671768e+00,\n",
      "        -2.66896782e-04],\n",
      "       [-9.02695410e-02,  1.18637357e+00, -1.95658542e+00,\n",
      "        -6.19846255e+00,  1.52434877e+01, -8.20903917e+00,\n",
      "         1.72496073e-02],\n",
      "       [-3.50728977e-02, -2.52624182e-01,  2.75583663e+00,\n",
      "        -1.27671768e+00, -8.20903917e+00,  7.25963650e+00,\n",
      "        -1.95185107e-02],\n",
      "       [ 1.15538769e-03, -7.86771969e-03,  8.55835140e-03,\n",
      "        -2.66896782e-04,  1.72496073e-02, -1.95185107e-02,\n",
      "         2.32217056e-03]])\n",
      "      jac: array([ 5.72204590e-06,  2.62260437e-06,  2.38418579e-06,  1.43051147e-06,\n",
      "        9.53674316e-07,  1.19209290e-06, -4.29153442e-06])\n",
      "  message: 'Optimization terminated successfully.'\n",
      "     nfev: 331\n",
      "      nit: 33\n",
      "     njev: 41\n",
      "   status: 0\n",
      "  success: True\n",
      "        x: array([-0.20134215,  3.68967806, -1.53653033, -2.12933484, -1.04597804,\n",
      "        1.34497359,  0.31590424])\n"
     ]
    },
    {
     "name": "stderr",
     "output_type": "stream",
     "text": [
      "/Users/mlorenzi/miniconda3/lib/python3.6/site-packages/scipy/optimize/_numdiff.py:497: RuntimeWarning: invalid value encountered in subtract\n",
      "  df = fun(x) - f0\n"
     ]
    },
    {
     "name": "stdout",
     "output_type": "stream",
     "text": [
      "      fun: 24.953231173658438\n",
      " hess_inv: array([[ 4.33601993e-02, -2.18235403e-01,  2.41877213e-01,\n",
      "         5.27722067e-02, -9.49491215e-02, -3.04732034e-02,\n",
      "         1.83913748e-03,  7.83068009e-04],\n",
      "       [-2.18235403e-01,  1.96978984e+00, -3.57829957e+00,\n",
      "         3.15249249e-01,  2.27436485e+00,  1.15868059e-02,\n",
      "        -7.41239360e-01, -2.91392088e-03],\n",
      "       [ 2.41877213e-01, -3.57829957e+00,  9.61882598e+00,\n",
      "        -3.65865554e+00, -7.69496496e+00,  2.50153924e+00,\n",
      "         2.58254367e+00,  4.62517661e-04],\n",
      "       [ 5.27722067e-02,  3.15249249e-01, -3.65865554e+00,\n",
      "         4.65637538e+00,  3.51987837e+00, -6.01316567e+00,\n",
      "         1.02711735e+00,  3.22022479e-03],\n",
      "       [-9.49491215e-02,  2.27436485e+00, -7.69496496e+00,\n",
      "         3.51987837e+00,  8.15433923e+00, -3.46273689e+00,\n",
      "        -2.79800952e+00,  4.07411859e-03],\n",
      "       [-3.04732034e-02,  1.15868059e-02,  2.50153924e+00,\n",
      "        -6.01316567e+00, -3.46273689e+00,  1.62644480e+01,\n",
      "        -9.26710024e+00,  2.75018696e-04],\n",
      "       [ 1.83913748e-03, -7.41239360e-01,  2.58254367e+00,\n",
      "         1.02711735e+00, -2.79800952e+00, -9.26710024e+00,\n",
      "         9.42865238e+00, -7.36232619e-03],\n",
      "       [ 7.83068009e-04, -2.91392088e-03,  4.62517661e-04,\n",
      "         3.22022479e-03,  4.07411859e-03,  2.75018696e-04,\n",
      "        -7.36232619e-03,  2.11836675e-03]])\n",
      "      jac: array([-7.15255737e-06, -3.33786011e-06,  3.33786011e-06, -9.05990601e-06,\n",
      "        7.39097595e-06, -3.09944153e-06, -9.53674316e-07, -3.81469727e-06])\n",
      "  message: 'Optimization terminated successfully.'\n",
      "     nfev: 416\n",
      "      nit: 35\n",
      "     njev: 46\n",
      "   status: 0\n",
      "  success: True\n",
      "        x: array([-0.19925398,  3.53692289, -1.02713808, -1.9075633 , -1.67495866,\n",
      "       -0.31899349,  1.75479965,  0.31351421])\n"
     ]
    },
    {
     "name": "stderr",
     "output_type": "stream",
     "text": [
      "/Users/mlorenzi/miniconda3/lib/python3.6/site-packages/scipy/optimize/_numdiff.py:497: RuntimeWarning: invalid value encountered in subtract\n",
      "  df = fun(x) - f0\n"
     ]
    },
    {
     "name": "stdout",
     "output_type": "stream",
     "text": [
      "      fun: 27.329799756054854\n",
      " hess_inv: array([[ 3.94244180e-02, -2.10501696e-01,  2.76028083e-01,\n",
      "        -5.29802759e-05, -5.19503648e-02, -7.09170508e-02,\n",
      "        -3.65357975e-02,  4.97775369e-02,  1.44322066e-03],\n",
      "       [-2.10501696e-01,  2.15824709e+00, -4.36115815e+00,\n",
      "         1.13166509e+00,  1.37045017e+00,  9.33291297e-01,\n",
      "         1.02636242e-01, -1.09404580e+00, -7.36510944e-03],\n",
      "       [ 2.76028083e-01, -4.36115815e+00,  1.24558230e+01,\n",
      "        -7.64534839e+00, -3.40051554e+00, -5.01852001e-01,\n",
      "         9.15392163e-01,  2.28543004e+00,  1.01556994e-02],\n",
      "       [-5.29802759e-05,  1.13166509e+00, -7.64534839e+00,\n",
      "         1.35853826e+01, -4.81789645e+00, -4.17684643e+00,\n",
      "         5.20157893e-01,  1.36272296e+00,  8.19471042e-04],\n",
      "       [-5.19503648e-02,  1.37045017e+00, -3.40051554e+00,\n",
      "        -4.81789645e+00,  1.37718391e+01, -3.83754769e-01,\n",
      "        -7.97857076e+00,  1.33919332e+00, -1.78645844e-02],\n",
      "       [-7.09170508e-02,  9.33291297e-01, -5.01852001e-01,\n",
      "        -4.17684643e+00, -3.83754769e-01,  7.29161534e+00,\n",
      "         4.14384103e+00, -7.27913411e+00,  6.38740990e-03],\n",
      "       [-3.65357975e-02,  1.02636242e-01,  9.15392163e-01,\n",
      "         5.20157893e-01, -7.97857076e+00,  4.14384103e+00,\n",
      "         8.27721382e+00, -5.85597408e+00,  1.52175726e-02],\n",
      "       [ 4.97775369e-02, -1.09404580e+00,  2.28543004e+00,\n",
      "         1.36272296e+00,  1.33919332e+00, -7.27913411e+00,\n",
      "        -5.85597408e+00,  9.35861956e+00, -7.01756430e-03],\n",
      "       [ 1.44322066e-03, -7.36510944e-03,  1.01556994e-02,\n",
      "         8.19471042e-04, -1.78645844e-02,  6.38740990e-03,\n",
      "         1.52175726e-02, -7.01756430e-03,  2.33366798e-03]])\n",
      "      jac: array([-2.38418579e-07, -4.76837158e-07,  2.38418579e-07,  2.38418579e-07,\n",
      "        0.00000000e+00,  4.76837158e-07,  0.00000000e+00,  7.15255737e-07,\n",
      "       -4.76837158e-07])\n",
      "  message: 'Optimization terminated successfully.'\n",
      "     nfev: 543\n",
      "      nit: 45\n",
      "     njev: 54\n",
      "   status: 0\n",
      "  success: True\n",
      "        x: array([-0.19188873,  3.37950162, -0.72487747, -1.54105906, -1.73532577,\n",
      "       -1.06143053,  0.23940171,  1.83770496,  0.31154806])\n",
      "      fun: 29.739184303899744\n",
      " hess_inv: array([[ 4.08374938e-02, -1.95552989e-01,  2.42713050e-01,\n",
      "         8.12641557e-03, -6.51414507e-02, -7.88996713e-02,\n",
      "        -3.42965602e-02,  1.72062993e-02,  6.80295853e-02,\n",
      "        -3.93631689e-04],\n",
      "       [-1.95552989e-01,  1.94310662e+00, -3.88688926e+00,\n",
      "         8.36630343e-01,  1.32480206e+00,  9.89974992e-01,\n",
      "         2.49725047e-01, -3.62158925e-01, -9.31943789e-01,\n",
      "        -1.19082200e-03],\n",
      "       [ 2.42713050e-01, -3.88688926e+00,  1.11638697e+01,\n",
      "        -6.47585586e+00, -3.91107323e+00, -3.20943556e-01,\n",
      "         1.37996852e+00,  1.23620738e+00,  6.48421472e-01,\n",
      "         1.33959374e-03],\n",
      "       [ 8.12641557e-03,  8.36630343e-01, -6.47585586e+00,\n",
      "         1.03801850e+01,  1.15365952e+00, -5.11821602e+00,\n",
      "        -4.78016587e+00, -5.75841500e-01,  4.58916734e+00,\n",
      "        -5.69548561e-03],\n",
      "       [-6.51414507e-02,  1.32480206e+00, -3.91107323e+00,\n",
      "         1.15365952e+00,  3.36097349e+00, -1.88202943e+00,\n",
      "         1.52573701e+00,  1.57013257e+00, -3.17113591e+00,\n",
      "         3.85584010e-03],\n",
      "       [-7.88996713e-02,  9.89974992e-01, -3.20943556e-01,\n",
      "        -5.11821602e+00, -1.88202943e+00,  1.42798380e+01,\n",
      "        -1.32677413e+00, -7.43562780e+00,  7.99408944e-01,\n",
      "         7.52931748e-03],\n",
      "       [-3.42965602e-02,  2.49725047e-01,  1.37996852e+00,\n",
      "        -4.78016587e+00,  1.52573701e+00, -1.32677413e+00,\n",
      "         6.02051168e+00,  3.46108227e+00, -6.55353896e+00,\n",
      "         6.59822251e-03],\n",
      "       [ 1.72062993e-02, -3.62158925e-01,  1.23620738e+00,\n",
      "        -5.75841500e-01,  1.57013257e+00, -7.43562780e+00,\n",
      "         3.46108227e+00,  6.52445978e+00, -4.38692550e+00,\n",
      "        -6.69029259e-04],\n",
      "       [ 6.80295853e-02, -9.31943789e-01,  6.48421472e-01,\n",
      "         4.58916734e+00, -3.17113591e+00,  7.99408944e-01,\n",
      "        -6.55353896e+00, -4.38692550e+00,  9.14466695e+00,\n",
      "        -1.22656554e-02],\n",
      "       [-3.93631689e-04, -1.19082200e-03,  1.33959374e-03,\n",
      "        -5.69548561e-03,  3.85584010e-03,  7.52931748e-03,\n",
      "         6.59822251e-03, -6.69029259e-04, -1.22656554e-02,\n",
      "         2.21959078e-03]])\n",
      "      jac: array([-1.43051147e-06, -1.66893005e-06, -9.53674316e-07, -1.43051147e-06,\n",
      "        0.00000000e+00, -7.15255737e-07, -4.76837158e-07, -4.76837158e-07,\n",
      "       -7.15255737e-07,  4.52995300e-06])\n",
      "  message: 'Optimization terminated successfully.'\n",
      "     nfev: 539\n",
      "      nit: 40\n",
      "     njev: 49\n",
      "   status: 0\n",
      "  success: True\n",
      "        x: array([-0.18404169,  3.26658742, -0.61425345, -1.22973083, -1.56243168,\n",
      "       -1.26535212, -0.46465805,  0.58708261,  1.69978041,  0.31027175])\n"
     ]
    }
   ],
   "source": [
    "%run tools.py\n",
    "\n",
    "degree = 9\n",
    "likelihood = 'gaussian'\n",
    "\n",
    "models = []\n",
    "\n",
    "for i in range(degree):\n",
    "    \n",
    "    data_poly = pd.DataFrame({'y' : y})\n",
    "\n",
    "    priors = []\n",
    "\n",
    "    prior_a_mean = 0\n",
    "    prior_a_sigma = 5\n",
    "    prior_a = ['gaussian', [prior_a_mean, prior_a_sigma]]\n",
    "\n",
    "    priors.append(prior_a)\n",
    "    \n",
    "    if i > 0:\n",
    "        expr = 'y ~ '\n",
    "        for k in range(1,i+1):\n",
    "            if k>1:\n",
    "                expr = expr + '+'\n",
    "            prior_param_mean = 0\n",
    "            prior_param_sigma = 5\n",
    "            prior_param = ['gaussian', [prior_param_mean, prior_param_sigma]]\n",
    "            priors.append(prior_param)\n",
    "            data_poly['x'+str(k)] = x**k\n",
    "            expr = expr + 'x' + str(k)\n",
    "\n",
    "    sigma_inf = 0.1\n",
    "    sigma_sup = 5\n",
    "    prior_sigma_unif = [sigma_inf, sigma_sup]\n",
    "    prior_sigma = ['uniform', prior_sigma_unif]\n",
    "\n",
    "    priors.append(prior_sigma)\n",
    "    \n",
    "    if i > 0:\n",
    "        models.append(laplace_solution_regression(expr, data_poly, likelihood, priors))\n",
    "    else:\n",
    "        models.append(laplace_solution([1,1],[],data_poly['y'], likelihood, priors))   "
   ]
  },
  {
   "cell_type": "code",
   "execution_count": 3,
   "metadata": {},
   "outputs": [
    {
     "data": {
      "image/png": "[encoded data removed]",
      "text/plain": [
       "<Figure size 432x288 with 9 Axes>"
      ]
     },
     "metadata": {
      "needs_background": "light"
     },
     "output_type": "display_data"
    }
   ],
   "source": [
    "N_samp = 50\n",
    "\n",
    "for i in range(degree):\n",
    "    plt.subplot(int(float(degree)/3)+1,3,i+1)\n",
    "\n",
    "    samples = post_sample_Laplace(models[i], N_samp)\n",
    "    for l in range(N_samp):\n",
    "        if i>0:\n",
    "            pred = np.sum([x**k * samples[l,k] for k in range(i+1)],0)\n",
    "        else:\n",
    "            pred = x**0 * samples[l,0]\n",
    "        plt.plot(x,pred, color = 'black', alpha = 0.02)\n",
    "    \n",
    "    plt.scatter(x,y)\n",
    "    plt.title('degree ' + str(i))    \n",
    "    plt.subplots_adjust(top=3, bottom=0.001, left=0.10, right=1.95, hspace=0.25,wspace=0.35)"
   ]
  },
  {
   "cell_type": "code",
   "execution_count": 4,
   "metadata": {},
   "outputs": [
    {
     "data": {
      "image/png": "[encoded data removed]",
      "text/plain": [
       "<Figure size 432x288 with 1 Axes>"
      ]
     },
     "metadata": {
      "needs_background": "light"
     },
     "output_type": "display_data"
    }
   ],
   "source": [
    "import scipy\n",
    "\n",
    "WAIC = []\n",
    "\n",
    "N_samp = 1000\n",
    "\n",
    "for i in range(degree):\n",
    "    lppd = 0\n",
    "    p_waic = 0\n",
    "    samples = post_sample_Laplace(models[i], N_samp)\n",
    "    for k,target in enumerate(y):\n",
    "        log_p = []\n",
    "        for l in range(len(samples)):\n",
    "            if i>0:\n",
    "                pred = np.sum([x[k]**j * samples[l,j] for j in range(i+1)],0)\n",
    "                log_p.append(norm.logpdf(target,pred,samples[l][-1]))\n",
    "            else:\n",
    "                pred = x[k]**0 * samples[l,0]\n",
    "                log_p.append(norm.logpdf(target,pred,samples[l][-1]))\n",
    "    \n",
    "        lppd += scipy.special.logsumexp(log_p) - np.log(len(log_p))\n",
    "        p_waic += np.var(log_p)\n",
    "    \n",
    "#    print(lppd, p_waic)\n",
    "    \n",
    "    WAIC.append(-2*( lppd - p_waic))   \n",
    "\n",
    "plt.plot(range(degree),WAIC)\n",
    "plt.xticks(range(degree))\n",
    "plt.xlabel('polynomial degree')\n",
    "plt.ylabel('WAIC')\n",
    "plt.show()"
   ]
  },
  {
   "cell_type": "markdown",
   "metadata": {},
   "source": [
    "**Exercise.** Compare a polynomial model of order 1 to the polynomial model of order 4 with Stan"
   ]
  },
  {
   "cell_type": "code",
   "execution_count": 5,
   "metadata": {},
   "outputs": [],
   "source": [
    "import pystan\n",
    "from pystan.constants import MAX_UINT"
   ]
  },
  {
   "cell_type": "code",
   "execution_count": 6,
   "metadata": {},
   "outputs": [
    {
     "name": "stderr",
     "output_type": "stream",
     "text": [
      "INFO:pystan:COMPILING THE C++ CODE FOR MODEL anon_model_f099d5d39952dc79827a33676111323f NOW.\n"
     ]
    }
   ],
   "source": [
    "poly_model_1_code = \"\"\"\n",
    "data {\n",
    "    int<lower=1> N;\n",
    "    vector[N] y;\n",
    "    vector[N] x1;\n",
    "    real mu_a;\n",
    "    real<lower=0> std_a;\n",
    "    real mu_b1;\n",
    "    real<lower=0> std_b1;\n",
    "}\n",
    "parameters {\n",
    "    real a;\n",
    "    real b1;\n",
    "    real<lower=1e-4> sigma;\n",
    "}\n",
    "transformed parameters {\n",
    "    vector[N] mu;\n",
    "    mu = a + b1 * x1 ; \n",
    "}\n",
    "model {\n",
    "    b1 ~ normal(mu_b1, std_b1);\n",
    "    a ~ normal(mu_a, std_a);\n",
    "    y ~ normal(mu, sigma);\n",
    "}\n",
    "\"\"\"\n",
    "model2 = pystan.StanModel(model_code = poly_model_1_code)"
   ]
  },
  {
   "cell_type": "code",
   "execution_count": 7,
   "metadata": {},
   "outputs": [],
   "source": [
    "data_poly1 = pd.DataFrame({'x1' : x, 'y' : y})"
   ]
  },
  {
   "cell_type": "code",
   "execution_count": 8,
   "metadata": {},
   "outputs": [],
   "source": [
    "seed = np.random.randint(0, MAX_UINT, size=1)[0]\n",
    "\n",
    "mu_a = 0\n",
    "std_a = 3\n",
    "\n",
    "mu_b1 = 0\n",
    "std_b1 = 2"
   ]
  },
  {
   "cell_type": "code",
   "execution_count": 9,
   "metadata": {},
   "outputs": [],
   "source": [
    "fit2 = model2.sampling(data=\n",
    "                        dict(x1 = data_poly1.x1, \n",
    "                             y = data_poly1.y, \n",
    "                             mu_a = mu_a, \n",
    "                             std_a = std_a, \n",
    "                             mu_b1 = mu_b1, \n",
    "                             std_b1 = std_b1, \n",
    "                             N = N), \n",
    "                       seed=seed, iter=2000, chains=4)"
   ]
  },
  {
   "cell_type": "code",
   "execution_count": 10,
   "metadata": {},
   "outputs": [
    {
     "data": {
      "text/plain": [
       "Inference for Stan model: anon_model_f099d5d39952dc79827a33676111323f.\n",
       "4 chains, each with iter=2000; warmup=1000; thin=1; \n",
       "post-warmup draws per chain=1000, total post-warmup draws=4000.\n",
       "\n",
       "         mean se_mean     sd   2.5%    25%    50%    75%  97.5%  n_eff   Rhat\n",
       "a        0.42  5.8e-3   0.23  -0.03   0.28   0.42   0.57   0.88   1606    1.0\n",
       "b1       0.33  9.7e-3   0.39  -0.44   0.09   0.33   0.59   1.12   1633    1.0\n",
       "sigma    0.54  2.4e-3    0.1   0.38   0.46   0.52   0.59   0.77   1763    1.0\n",
       "mu[1]    0.42  5.8e-3   0.23  -0.03   0.28   0.42   0.57   0.88   1606    1.0\n",
       "mu[2]    0.44  5.3e-3   0.21   0.01    0.3   0.44   0.57   0.86   1638    1.0\n",
       "mu[3]    0.45  4.8e-3    0.2   0.07   0.33   0.45   0.58   0.85   1684    1.0\n",
       "mu[4]    0.47  4.3e-3   0.18   0.11   0.36   0.47   0.59   0.84   1751    1.0\n",
       "mu[5]    0.49  3.9e-3   0.17   0.16   0.38   0.49    0.6   0.82   1849    1.0\n",
       "mu[6]    0.51  3.4e-3   0.15    0.2   0.41    0.5   0.61   0.81   1996    1.0\n",
       "mu[7]    0.52  3.0e-3   0.14   0.25   0.43   0.52   0.62   0.81   2219    1.0\n",
       "mu[8]    0.54  2.6e-3   0.13   0.28   0.46   0.54   0.63   0.81   2556    1.0\n",
       "mu[9]    0.56  2.3e-3   0.13   0.31   0.48   0.56   0.64   0.81   3056    1.0\n",
       "mu[10]   0.58  2.0e-3   0.12   0.34   0.49   0.57   0.66   0.82   3643    1.0\n",
       "mu[11]   0.59  1.9e-3   0.12   0.35   0.51   0.59   0.68   0.83   4191    1.0\n",
       "mu[12]   0.61  1.9e-3   0.13   0.36   0.53   0.61    0.7   0.86   4474    1.0\n",
       "mu[13]   0.63  2.0e-3   0.13   0.37   0.54   0.63   0.72    0.9   4377    1.0\n",
       "mu[14]   0.65  2.2e-3   0.14   0.37   0.55   0.64   0.74   0.93   4037    1.0\n",
       "mu[15]   0.66  2.5e-3   0.15   0.36   0.56   0.66   0.76   0.97   3643    1.0\n",
       "mu[16]   0.68  2.9e-3   0.17   0.35   0.57   0.68   0.79   1.01   3294    1.0\n",
       "mu[17]    0.7  3.3e-3   0.18   0.35   0.58    0.7   0.81   1.05   3015    1.0\n",
       "mu[18]   0.72  3.7e-3    0.2   0.33   0.59   0.72   0.84    1.1   2797    1.0\n",
       "mu[19]   0.73  4.1e-3   0.21   0.32    0.6   0.73   0.87   1.16   2629    1.0\n",
       "mu[20]   0.75  4.6e-3   0.23    0.3   0.61   0.75    0.9   1.21   2498    1.0\n",
       "lp__      2.7    0.04   1.31   -0.6   2.06   3.03   3.67    4.2   1326    1.0\n",
       "\n",
       "Samples were drawn using NUTS at Thu Nov 25 11:43:50 2021.\n",
       "For each parameter, n_eff is a crude measure of effective sample size,\n",
       "and Rhat is the potential scale reduction factor on split chains (at \n",
       "convergence, Rhat=1)."
      ]
     },
     "execution_count": 10,
     "metadata": {},
     "output_type": "execute_result"
    }
   ],
   "source": [
    "fit2"
   ]
  },
  {
   "cell_type": "code",
   "execution_count": 11,
   "metadata": {},
   "outputs": [],
   "source": [
    "lppd = 0\n",
    "p_waic = 0\n",
    "samples = fit2.extract()\n",
    "for k,target in enumerate(y):\n",
    "    log_p = []\n",
    "    for l in range(len(samples['a'])):\n",
    "            pred = samples['a'][l] + samples['b1'][l] * x[k] \n",
    "            log_p.append(norm.logpdf(target,pred,samples['sigma'][l]))    \n",
    "    lppd += scipy.special.logsumexp(log_p) - np.log(len(log_p))\n",
    "    p_waic += np.var(log_p)"
   ]
  },
  {
   "cell_type": "code",
   "execution_count": 12,
   "metadata": {},
   "outputs": [
    {
     "data": {
      "text/plain": [
       "32.7772747533502"
      ]
     },
     "execution_count": 12,
     "metadata": {},
     "output_type": "execute_result"
    }
   ],
   "source": [
    "WAIC2 = (-2 * (lppd - p_waic))\n",
    "WAIC2"
   ]
  },
  {
   "cell_type": "markdown",
   "metadata": {},
   "source": [
    "Complete for polynomial of degree 4 and compare the fit:"
   ]
  },
  {
   "cell_type": "code",
   "execution_count": null,
   "metadata": {},
   "outputs": [],
   "source": []
  },
  {
   "cell_type": "markdown",
   "metadata": {},
   "source": [
    "# Bayesian classification\n",
    "\n",
    "\n",
    "In simple terms, classification implies estimating the probability of an observation to belong to a certain class, such as positive or negative, or 0 or 1. The classical model for estimating such as probability is the Binomial model:\n",
    "\n",
    "$$ p(y) \\sim Binomial(n,p), $$\n",
    "\n",
    "where $y$ is the number of positive cases, $n$ is the total number of trials, and $p$ is the probability of a case being positive.  \n",
    "\n",
    "As for linear regression our likelihood model was Gaussian, here our likelihood model will be Binomial. In linear regression, we were parameterizing the mean of the Gaussian model as a linear combination of the predictors:\n",
    "\n",
    "$$ y_i \\sim \\mathcal{N}(\\mu_i, \\sigma),$$\n",
    "$$ \\mu_i = a + b x_i.$$\n",
    "\n",
    "In the Binomial model, we parameterize the probability $p$ as a linear combination of the predictors:\n",
    "\n",
    "$$y_i \\sim Binomial(n, p_i)$$\n",
    "$$f(p_i) = a + b x_i.$$\n",
    "\n",
    "There are some issues to take into account. Since the probability $p_i$ must be greater than 0 and lower than 1, by parameterizing it directly with a linear model we will incour into problems, as this would not guarantee that the linear combination is bounded in the interval $[0,1]$. Therefore we need to *link* the probability $p_i$ to the linear model through some clever parameterization, called *link function*. A classical link function is called *logit* function, and is defined with respect to the log-odds:\n",
    "\n",
    "$$f(p_i) = logit(p_i) = \\log(odds(p_i)) = \\log(\\frac{p_i}{1-p_i}).$$\n",
    "\n",
    "The odds is the ratio between probability of the outcome being positive and probability of being negative. Therefore is goes from 0 ($p_i=0$) to infinity ($p_i=1$). By taking the log, we transform the odds into a quantity that can range from $-\\infty$ to $\\infty$, a perfect variable to be described by a linear model.\n",
    "We rewrite our Binomial link function:\n",
    "\n",
    "$$ \\log(\\frac{p_i}{1-p_i}) = a + b x_i,$$\n",
    "\n",
    "and we derive:\n",
    "\n",
    "$$\\frac{p_i}{1-p_i} = \\exp(a + b x_i),$$\n",
    "$$p_i = \\frac{\\exp(a + b x_i)}{1 + \\exp(a + b x_i)}. $$\n",
    "\n",
    "\n"
   ]
  },
  {
   "cell_type": "code",
   "execution_count": 13,
   "metadata": {},
   "outputs": [
    {
     "data": {
      "image/png": "[encoded data removed]",
      "text/plain": [
       "<Figure size 432x288 with 1 Axes>"
      ]
     },
     "metadata": {
      "needs_background": "light"
     },
     "output_type": "display_data"
    }
   ],
   "source": [
    "a = 0.1\n",
    "b = 0.5\n",
    "\n",
    "x_i = np.linspace(-10,10)\n",
    "\n",
    "p_i = np.exp(a+b*x_i)/(1+np.exp(a+b*x_i))\n",
    "\n",
    "plt.plot(x_i,p_i)\n",
    "plt.xlabel('x_i')\n",
    "plt.ylabel('p_i')\n",
    "plt.show()\n",
    "\n"
   ]
  },
  {
   "cell_type": "markdown",
   "metadata": {},
   "source": [
    "We recognize that the link function creates a non-linear association between $x_i$ and $p_i$, where $p_i$ is indeed bounded by 0 and 1. Importantly, although the association is linear, a unit increase in $x$ does not correspond anymore to a unit increase in the output. The magnitude of the association depends on the value of $x$ itself, and is greater in correspondence of the maximum slope of the curve. \n",
    "\n",
    "This kind of model is called *logistic regression*. "
   ]
  },
  {
   "cell_type": "markdown",
   "metadata": {},
   "source": [
    "## Example: Logistic regression for predicting Alzheimer's disease"
   ]
  },
  {
   "cell_type": "code",
   "execution_count": 14,
   "metadata": {},
   "outputs": [
    {
     "name": "stdout",
     "output_type": "stream",
     "text": [
      "   RID  APOE4  DX   AGE  WholeBrain.bl           ICV  norm_brain\n",
      "0    2    0.0   0  74.3      1229738.0  1.984657e+06   -0.907716\n",
      "1    3    1.0   1  81.3      1129834.0  1.920691e+06   -1.508346\n",
      "3    5    0.0   0  73.7      1116633.0  1.640766e+06    0.258629\n",
      "5    7    1.0   1  75.4       875798.0  1.353519e+06   -0.382669\n",
      "6    8    0.0   0  84.5       948684.0  1.396068e+06    0.239182\n"
     ]
    }
   ],
   "source": [
    "data = pd.read_csv('adni_data')\n",
    "pd.set_option('mode.chained_assignment', None) \n",
    "\n",
    "data_ct_ad = data.query('DX == 1 | DX == 3') \n",
    "data_ct_ad['DX'] = data_ct_ad['DX'].map({1: 0, 3: 1})\n",
    "\n",
    "data_ct_ad['norm_brain'] = data_ct_ad['WholeBrain.bl']/data_ct_ad['ICV']\n",
    "data_ct_ad['norm_brain'] = (data_ct_ad['norm_brain'] - np.mean(data_ct_ad['norm_brain']))/np.std(data_ct_ad['norm_brain'])\n",
    "data_ct_ad.dropna(inplace = True)\n",
    "\n",
    "\n",
    "print(data_ct_ad[:5])"
   ]
  },
  {
   "cell_type": "code",
   "execution_count": 15,
   "metadata": {},
   "outputs": [
    {
     "name": "stderr",
     "output_type": "stream",
     "text": [
      "INFO:pystan:COMPILING THE C++ CODE FOR MODEL anon_model_412ab0b943fbbb6e1bdcf98b815ee879 NOW.\n"
     ]
    }
   ],
   "source": [
    "binomial_model_code = \"\"\"\n",
    "data {\n",
    "  int<lower=1> N;\n",
    "  int y[N];\n",
    "  real x[N];\n",
    "  real mu_a;\n",
    "  real<lower=0> std_a;\n",
    "  real mu_b;\n",
    "  real<lower=0> std_b;\n",
    "}\n",
    "parameters {\n",
    "  real a;\n",
    "  real b;\n",
    "}\n",
    "transformed parameters {\n",
    "  vector[N] p_i;\n",
    "  for (i in 1:N) {\n",
    "    p_i[i] = exp(a + b * x[i])/(1 + exp(a + b * x[i])); \n",
    "    }\n",
    "}\n",
    "model {\n",
    "  b ~ normal(mu_b, std_b);\n",
    "  a ~ normal(mu_a, std_a);\n",
    "  y ~ binomial(1, p_i);\n",
    "}\n",
    "\"\"\"\n",
    "model = pystan.StanModel(model_code = binomial_model_code)"
   ]
  },
  {
   "cell_type": "code",
   "execution_count": 16,
   "metadata": {},
   "outputs": [],
   "source": [
    "data_to_stan = dict(x = data_ct_ad['norm_brain'], y = data_ct_ad['DX'], \n",
    "                    mu_a = 0, std_a = 10, mu_b = 0, std_b = 10, N = len(data_ct_ad['DX']))\n",
    "\n",
    "fit = model.sampling(data = data_to_stan, seed = int(1), iter=4000, chains=4)"
   ]
  },
  {
   "cell_type": "code",
   "execution_count": 17,
   "metadata": {},
   "outputs": [
    {
     "data": {
      "text/plain": [
       "{'n_eff': True,\n",
       " 'Rhat': True,\n",
       " 'divergence': True,\n",
       " 'treedepth': True,\n",
       " 'energy': True}"
      ]
     },
     "execution_count": 17,
     "metadata": {},
     "output_type": "execute_result"
    }
   ],
   "source": [
    "pystan.check_hmc_diagnostics(fit)"
   ]
  },
  {
   "cell_type": "code",
   "execution_count": 18,
   "metadata": {},
   "outputs": [
    {
     "name": "stderr",
     "output_type": "stream",
     "text": [
      "WARNING:pystan:Truncated summary with the 'fit.__repr__' method. For the full summary use 'print(fit)'\n"
     ]
    },
    {
     "data": {
      "text/plain": [
       "\n",
       "Warning: Shown data is truncated to 100 parameters\n",
       "For the full summary use 'print(fit)'\n",
       "\n",
       "Inference for Stan model: anon_model_412ab0b943fbbb6e1bdcf98b815ee879.\n",
       "4 chains, each with iter=4000; warmup=2000; thin=1; \n",
       "post-warmup draws per chain=2000, total post-warmup draws=8000.\n",
       "\n",
       "          mean se_mean     sd   2.5%    25%    50%    75%  97.5%  n_eff   Rhat\n",
       "a        -0.58  1.1e-3   0.08  -0.74  -0.64  -0.58  -0.52  -0.42   5297    1.0\n",
       "b        -1.15  1.3e-3    0.1  -1.35  -1.22  -1.15  -1.09  -0.97   5705    1.0\n",
       "p_i[1]    0.61  2.9e-4   0.03   0.57    0.6   0.61   0.63   0.66   7508    1.0\n",
       "p_i[2]    0.76  3.2e-4   0.03    0.7   0.74   0.76   0.78   0.81   7273    1.0\n",
       "p_i[3]    0.29  2.7e-4   0.02   0.26   0.28   0.29   0.31   0.33   5007    1.0\n",
       "p_i[4]    0.47  2.6e-4   0.02   0.43   0.45   0.47   0.48   0.51   6146    1.0\n",
       "p_i[5]     0.3  2.7e-4   0.02   0.26   0.28    0.3   0.31   0.34   5025    1.0\n",
       "p_i[6]     0.2  2.7e-4   0.02   0.17   0.19    0.2   0.22   0.24   4848    1.0\n",
       "p_i[7]     0.3  2.7e-4   0.02   0.27   0.29    0.3   0.31   0.34   5039    1.0\n",
       "p_i[8]    0.57  2.8e-4   0.02   0.52   0.55   0.57   0.59   0.62   7315    1.0\n",
       "p_i[9]    0.24  2.8e-4   0.02   0.21   0.23   0.24   0.25   0.28   4889    1.0\n",
       "p_i[10]   0.46  2.6e-4   0.02   0.42   0.45   0.46   0.48   0.51   6142    1.0\n",
       "p_i[11]   0.31  2.7e-4   0.02   0.27   0.29   0.31   0.32   0.35   5066    1.0\n",
       "p_i[12]   0.22  2.8e-4   0.02   0.18    0.2   0.22   0.23   0.26   4857    1.0\n",
       "p_i[13]   0.38  2.6e-4   0.02   0.34   0.36   0.38   0.39   0.41   5401    1.0\n",
       "p_i[14]   0.49  2.6e-4   0.02   0.45   0.47   0.49    0.5   0.53   6419    1.0\n",
       "p_i[15]   0.26  2.7e-4   0.02   0.23   0.25   0.26   0.28    0.3   4925    1.0\n",
       "p_i[16]    0.2  2.7e-4   0.02   0.16   0.18    0.2   0.21   0.23   4846    1.0\n",
       "p_i[17]   0.68  3.1e-4   0.03   0.63   0.66   0.68    0.7   0.73   7522    1.0\n",
       "p_i[18]   0.49  2.6e-4   0.02   0.45   0.47   0.49    0.5   0.53   6424    1.0\n",
       "p_i[19]   0.63  3.0e-4   0.03   0.58   0.62   0.63   0.65   0.68   7540    1.0\n",
       "p_i[20]   0.35  2.6e-4   0.02   0.31   0.34   0.35   0.36   0.39   5241    1.0\n",
       "p_i[21]   0.75  3.2e-4   0.03    0.7   0.73   0.75   0.77    0.8   7300    1.0\n",
       "p_i[22]   0.65  3.0e-4   0.03    0.6   0.63   0.65   0.67    0.7   7555    1.0\n",
       "p_i[23]    0.2  2.7e-4   0.02   0.17   0.19    0.2   0.21   0.24   4847    1.0\n",
       "p_i[24]   0.19  2.7e-4   0.02   0.15   0.17   0.18    0.2   0.22   4846    1.0\n",
       "p_i[25]   0.24  2.8e-4   0.02    0.2   0.23   0.24   0.25   0.28   4887    1.0\n",
       "p_i[26]   0.58  2.8e-4   0.02   0.53   0.56   0.58    0.6   0.63   7385    1.0\n",
       "p_i[27]   0.39  2.6e-4   0.02   0.35   0.38   0.39    0.4   0.43   5495    1.0\n",
       "p_i[28]   0.24  2.8e-4   0.02    0.2   0.22   0.24   0.25   0.27   4880    1.0\n",
       "p_i[29]    0.3  2.7e-4   0.02   0.26   0.29    0.3   0.31   0.34   5026    1.0\n",
       "p_i[30]   0.26  2.7e-4   0.02   0.22   0.24   0.26   0.27    0.3   4913    1.0\n",
       "p_i[31]    0.3  2.7e-4   0.02   0.26   0.29    0.3   0.31   0.34   5026    1.0\n",
       "p_i[32]    0.2  2.7e-4   0.02   0.16   0.18    0.2   0.21   0.24   4846    1.0\n",
       "p_i[33]   0.69  3.1e-4   0.03   0.63   0.67   0.69   0.71   0.74   7504    1.0\n",
       "p_i[34]   0.61  2.9e-4   0.02   0.56   0.59   0.61   0.62   0.66   7489    1.0\n",
       "p_i[35]   0.58  2.8e-4   0.02   0.54   0.57   0.58    0.6   0.63   7394    1.0\n",
       "p_i[36]    0.7  3.1e-4   0.03   0.65   0.68    0.7   0.72   0.75   7472    1.0\n",
       "p_i[37]   0.47  2.6e-4   0.02   0.43   0.46   0.47   0.49   0.51   6242    1.0\n",
       "p_i[38]   0.52  2.7e-4   0.02   0.48   0.51   0.53   0.54   0.57   6895    1.0\n",
       "p_i[39]   0.51  2.6e-4   0.02   0.47   0.49   0.51   0.52   0.55   6714    1.0\n",
       "p_i[40]   0.24  2.8e-4   0.02   0.21   0.23   0.24   0.26   0.28   4891    1.0\n",
       "p_i[41]   0.55  2.7e-4   0.02   0.51   0.54   0.55   0.57    0.6   7168    1.0\n",
       "p_i[42]   0.12  2.4e-4   0.02   0.09    0.1   0.12   0.13   0.15   4918    1.0\n",
       "p_i[43]   0.82  3.1e-4   0.03   0.77    0.8   0.82   0.84   0.87   7031    1.0\n",
       "p_i[44]   0.58  2.8e-4   0.02   0.53   0.56   0.58    0.6   0.63   7382    1.0\n",
       "p_i[45]   0.24  2.8e-4   0.02    0.2   0.23   0.24   0.25   0.28   4886    1.0\n",
       "p_i[46]   0.79  3.2e-4   0.03   0.74   0.77   0.79   0.81   0.84   7150    1.0\n",
       "p_i[47]    0.4  2.6e-4   0.02   0.36   0.39    0.4   0.41   0.44   5563    1.0\n",
       "p_i[48]   0.43  2.6e-4   0.02    0.4   0.42   0.43   0.45   0.47   5856    1.0\n",
       "p_i[49]   0.64  3.0e-4   0.03   0.59   0.62   0.64   0.66   0.69   7546    1.0\n",
       "p_i[50]   0.67  3.1e-4   0.03   0.62   0.65   0.67   0.69   0.72   7553    1.0\n",
       "p_i[51]   0.59  2.8e-4   0.02   0.54   0.57   0.59   0.61   0.64   7432    1.0\n",
       "p_i[52]    0.7  3.1e-4   0.03   0.65   0.68    0.7   0.72   0.75   7472    1.0\n",
       "p_i[53]   0.16  2.6e-4   0.02   0.12   0.15   0.16   0.17    0.2   4860    1.0\n",
       "p_i[54]   0.56  2.7e-4   0.02   0.52   0.55   0.56   0.58   0.61   7275    1.0\n",
       "p_i[55]   0.42  2.6e-4   0.02   0.38   0.41   0.42   0.43   0.46   5733    1.0\n",
       "p_i[56]   0.48  2.6e-4   0.02   0.44   0.47   0.48    0.5   0.52   6351    1.0\n",
       "p_i[57]   0.56  2.7e-4   0.02   0.52   0.55   0.56   0.58   0.61   7273    1.0\n",
       "p_i[58]   0.31  2.7e-4   0.02   0.27    0.3   0.31   0.32   0.35   5071    1.0\n",
       "p_i[59]    0.4  2.6e-4   0.02   0.37   0.39    0.4   0.42   0.44   5581    1.0\n",
       "p_i[60]   0.46  2.6e-4   0.02   0.42   0.44   0.46   0.47    0.5   6069    1.0\n",
       "p_i[61]   0.51  2.6e-4   0.02   0.46   0.49   0.51   0.52   0.55   6667    1.0\n",
       "p_i[62]   0.43  2.6e-4   0.02   0.39   0.41   0.43   0.44   0.47   5793    1.0\n",
       "p_i[63]   0.21  2.8e-4   0.02   0.17    0.2   0.21   0.22   0.25   4850    1.0\n",
       "p_i[64]   0.41  2.6e-4   0.02   0.38    0.4   0.41   0.43   0.45   5685    1.0\n",
       "p_i[65]   0.46  2.6e-4   0.02   0.42   0.45   0.46   0.48    0.5   6140    1.0\n",
       "p_i[66]   0.85  3.0e-4   0.02   0.79   0.83   0.85   0.86   0.89   6929    1.0\n",
       "p_i[67]   0.52  2.7e-4   0.02   0.48   0.51   0.52   0.54   0.57   6869    1.0\n",
       "p_i[68]   0.24  2.8e-4   0.02   0.21   0.23   0.24   0.26   0.28   4891    1.0\n",
       "p_i[69]    0.5  2.6e-4   0.02   0.46   0.49    0.5   0.52   0.54   6614    1.0\n",
       "p_i[70]   0.82  3.1e-4   0.03   0.76    0.8   0.82   0.83   0.86   7058    1.0\n",
       "p_i[71]   0.66  3.0e-4   0.03   0.61   0.64   0.66   0.68   0.71   7555    1.0\n",
       "p_i[72]   0.15  2.6e-4   0.02   0.12   0.14   0.15   0.16   0.19   4870    1.0\n",
       "p_i[73]    0.5  2.6e-4   0.02   0.46   0.49    0.5   0.52   0.54   6607    1.0\n",
       "p_i[74]   0.54  2.7e-4   0.02    0.5   0.53   0.54   0.56   0.59   7068    1.0\n",
       "p_i[75]   0.45  2.6e-4   0.02   0.41   0.44   0.45   0.47   0.49   6040    1.0\n",
       "p_i[76]   0.27  2.7e-4   0.02   0.23   0.25   0.27   0.28    0.3   4929    1.0\n",
       "p_i[77]   0.55  2.7e-4   0.02   0.51   0.54   0.55   0.57    0.6   7167    1.0\n",
       "p_i[78]   0.66  3.0e-4   0.03   0.61   0.64   0.66   0.68   0.71   7556    1.0\n",
       "p_i[79]   0.71  3.2e-4   0.03   0.66    0.7   0.72   0.73   0.77   7427    1.0\n",
       "p_i[80]   0.75  3.2e-4   0.03   0.69   0.73   0.75   0.77    0.8   7323    1.0\n",
       "p_i[81]   0.46  2.6e-4   0.02   0.42   0.44   0.46   0.47   0.49   6054    1.0\n",
       "p_i[82]    0.8  3.2e-4   0.03   0.74   0.78    0.8   0.82   0.85   7131    1.0\n",
       "p_i[83]   0.25  2.8e-4   0.02   0.21   0.23   0.25   0.26   0.28   4894    1.0\n",
       "p_i[84]   0.65  3.0e-4   0.03    0.6   0.63   0.65   0.67    0.7   7553    1.0\n",
       "p_i[85]   0.61  2.9e-4   0.03   0.57    0.6   0.62   0.63   0.66   7510    1.0\n",
       "p_i[86]   0.28  2.7e-4   0.02   0.24   0.26   0.28   0.29   0.31   4950    1.0\n",
       "p_i[87]   0.61  2.9e-4   0.02   0.56   0.59   0.61   0.63   0.66   7501    1.0\n",
       "p_i[88]   0.51  2.6e-4   0.02   0.46   0.49   0.51   0.52   0.55   6674    1.0\n",
       "p_i[89]   0.26  2.7e-4   0.02   0.23   0.25   0.26   0.27    0.3   4919    1.0\n",
       "p_i[90]   0.41  2.6e-4   0.02   0.37   0.39   0.41   0.42   0.45   5624    1.0\n",
       "p_i[91]    0.7  3.1e-4   0.03   0.64   0.68    0.7   0.72   0.75   7474    1.0\n",
       "p_i[92]   0.24  2.8e-4   0.02    0.2   0.22   0.23   0.25   0.27   4879    1.0\n",
       "p_i[93]    0.3  2.7e-4   0.02   0.26   0.29    0.3   0.31   0.34   5030    1.0\n",
       "p_i[94]   0.66  3.0e-4   0.03   0.61   0.64   0.66   0.68   0.71   7556    1.0\n",
       "p_i[95]    0.4  2.6e-4   0.02   0.36   0.39    0.4   0.42   0.44   5578    1.0\n",
       "p_i[96]    0.2  2.7e-4   0.02   0.16   0.19    0.2   0.21   0.24   4846    1.0\n",
       "p_i[97]   0.64  3.0e-4   0.03   0.59   0.62   0.64   0.66   0.69   7546    1.0\n",
       "lp__    -460.1    0.02   0.96 -462.6 -460.5 -459.8 -459.4 -459.1   3915    1.0\n",
       "\n",
       "Samples were drawn using NUTS at Thu Nov 25 11:44:49 2021.\n",
       "For each parameter, n_eff is a crude measure of effective sample size,\n",
       "and Rhat is the potential scale reduction factor on split chains (at \n",
       "convergence, Rhat=1)."
      ]
     },
     "execution_count": 18,
     "metadata": {},
     "output_type": "execute_result"
    }
   ],
   "source": [
    "fit"
   ]
  },
  {
   "cell_type": "code",
   "execution_count": 19,
   "metadata": {},
   "outputs": [
    {
     "name": "stdout",
     "output_type": "stream",
     "text": [
      "Baseline probability of disease: \n",
      "\n",
      "5%  : 0.32821071829907084\n",
      "50% : 0.35875565350752264\n",
      "95% : 0.3906763259016573\n",
      "Probability increase for unit decrease in standardized brain volume (parameter \"a\" at lowest quantile): \n",
      "\n",
      "5%  : 0.5695465298457103\n",
      "50% : 0.6073349409823633\n",
      "95% : 0.6464387666690923\n"
     ]
    }
   ],
   "source": [
    "est_a = fit.extract()['a']\n",
    "quantiles_a = np.quantile(est_a, [0.05, 0.5, 0.95])\n",
    "\n",
    "est_b = fit.extract()['b']\n",
    "quantiles_b = np.quantile(est_b, [0.05, 0.5, 0.95])\n",
    "\n",
    "logistic_a_50 = np.exp(quantiles_a[1])/(1 + np.exp(quantiles_a[1]))\n",
    "logistic_a_5 = np.exp(quantiles_a[0])/(1 + np.exp(quantiles_a[0]))\n",
    "logistic_a_95 = np.exp(quantiles_a[2])/(1 + np.exp(quantiles_a[2]))\n",
    "\n",
    "print('Baseline probability of disease: \\n')\n",
    "print('5%  :', logistic_a_5)\n",
    "print('50% :', logistic_a_50)\n",
    "print('95% :', logistic_a_95)\n",
    "\n",
    "\n",
    "logistic_b_95 = np.exp(quantiles_a[0] - quantiles_b[0])/(1 + np.exp(quantiles_a[0] - quantiles_b[0]))\n",
    "logistic_b_50 = np.exp(quantiles_a[0] - quantiles_b[1])/(1 + np.exp(quantiles_a[0] - quantiles_b[1]))\n",
    "logistic_b_5 = np.exp(quantiles_a[0] - quantiles_b[2])/(1 + np.exp(quantiles_a[0] - quantiles_b[2]))\n",
    "\n",
    "\n",
    "print('Probability increase for unit decrease in standardized brain volume (parameter \"a\" at lowest quantile): \\n')\n",
    "print('5%  :', logistic_b_5)\n",
    "print('50% :', logistic_b_50)\n",
    "print('95% :', logistic_b_95)"
   ]
  },
  {
   "cell_type": "code",
   "execution_count": 20,
   "metadata": {},
   "outputs": [],
   "source": [
    "p_i = fit.extract()['p_i']\n",
    "\n",
    "lppd = []\n",
    "pwaic = []\n",
    "for k in range(len(data_ct_ad)):\n",
    "    id_log_lik = []\n",
    "    for i in range(1000):\n",
    "        p = p_i[i,k]\n",
    "        id_log_lik.append(scipy.stats.binom.logpmf(data_ct_ad['DX'].values[k], 1, p))\n",
    "    lppd.append(scipy.special.logsumexp(id_log_lik) - np.log(len(id_log_lik)))\n",
    "    pwaic.append(np.var(id_log_lik))\n",
    "\n",
    "waic = -2 * (np.sum(lppd) -np.sum(pwaic))"
   ]
  },
  {
   "cell_type": "markdown",
   "metadata": {},
   "source": [
    "What happens when we include another predictor, for example the presence of the genetic mutation APOE4?"
   ]
  },
  {
   "cell_type": "code",
   "execution_count": 21,
   "metadata": {},
   "outputs": [
    {
     "name": "stderr",
     "output_type": "stream",
     "text": [
      "INFO:pystan:COMPILING THE C++ CODE FOR MODEL anon_model_c0ba10ec4a771726050e0f42751936e2 NOW.\n"
     ]
    }
   ],
   "source": [
    "binomial_model_two_pred_code = \"\"\"\n",
    "data {\n",
    "  int<lower=1> N;\n",
    "  int y[N];\n",
    "  real x_b[N];\n",
    "  real x_g[N];\n",
    "  real mu_a;\n",
    "  real<lower=0> std_a;\n",
    "  real mu_b;\n",
    "  real<lower=0> std_b;\n",
    "  real mu_c;\n",
    "  real<lower=0> std_c;\n",
    "}\n",
    "parameters {\n",
    "  real a;\n",
    "  real b;\n",
    "  real c;\n",
    "}\n",
    "transformed parameters {\n",
    "  vector[N] p_i;\n",
    "  for (i in 1:N) {\n",
    "    p_i[i] = exp(a + b * x_b[i] + c * x_g[i])/(1 + exp(a + b * x_b[i] + c * x_g[i])); \n",
    "    }\n",
    "}\n",
    "model {\n",
    "  a ~ normal(mu_a, std_a);\n",
    "  b ~ normal(mu_b, std_b);\n",
    "  c ~ normal(mu_c, std_c);\n",
    "  y ~ binomial(1, p_i);\n",
    "}\n",
    "\"\"\"\n",
    "model = pystan.StanModel(model_code = binomial_model_two_pred_code)"
   ]
  },
  {
   "cell_type": "code",
   "execution_count": 22,
   "metadata": {},
   "outputs": [],
   "source": [
    "data_to_stan = dict(x_b = data_ct_ad['norm_brain'], x_g = data_ct_ad['APOE4'], \n",
    "                    y = data_ct_ad['DX'], \n",
    "                    mu_a = 0, std_a = 10, mu_b = 0, std_b = 10,  mu_c = 0, std_c = 10, \n",
    "                    N = len(data_ct_ad['DX']))\n",
    "\n",
    "fit_apoe = model.sampling(data = data_to_stan, seed = int(1), iter=4000, chains=4)"
   ]
  },
  {
   "cell_type": "code",
   "execution_count": 23,
   "metadata": {},
   "outputs": [
    {
     "name": "stderr",
     "output_type": "stream",
     "text": [
      "WARNING:pystan:Truncated summary with the 'fit.__repr__' method. For the full summary use 'print(fit)'\n"
     ]
    },
    {
     "data": {
      "text/plain": [
       "\n",
       "Warning: Shown data is truncated to 100 parameters\n",
       "For the full summary use 'print(fit)'\n",
       "\n",
       "Inference for Stan model: anon_model_c0ba10ec4a771726050e0f42751936e2.\n",
       "4 chains, each with iter=4000; warmup=2000; thin=1; \n",
       "post-warmup draws per chain=2000, total post-warmup draws=8000.\n",
       "\n",
       "          mean se_mean     sd   2.5%    25%    50%    75%  97.5%  n_eff   Rhat\n",
       "a        -1.48  1.9e-3   0.13  -1.73  -1.56  -1.48  -1.39  -1.23   4428    1.0\n",
       "b        -1.25  1.5e-3   0.11  -1.47  -1.32  -1.25  -1.18  -1.04   5318    1.0\n",
       "c         1.58  2.2e-3   0.15   1.29   1.48   1.58   1.68   1.88   4723    1.0\n",
       "p_i[1]    0.41  4.3e-4   0.03   0.36   0.39   0.41   0.44   0.48   5487    1.0\n",
       "p_i[2]    0.88  2.5e-4   0.02   0.84   0.86   0.88   0.89   0.91   6547    1.0\n",
       "p_i[3]    0.14  2.6e-4   0.02   0.11   0.13   0.14   0.15   0.18   4373    1.0\n",
       "p_i[4]    0.64  2.7e-4   0.03   0.59   0.62   0.64   0.66   0.69   9721    1.0\n",
       "p_i[5]    0.15  2.6e-4   0.02   0.11   0.13   0.14   0.16   0.18   4374    1.0\n",
       "p_i[6]    0.32  3.3e-4   0.03   0.27    0.3   0.32   0.34   0.38   7764    1.0\n",
       "p_i[7]    0.15  2.6e-4   0.02   0.12   0.14   0.15   0.16   0.18   4376    1.0\n",
       "p_i[8]    0.74  2.8e-4   0.03   0.69   0.72   0.74   0.75   0.79   8180    1.0\n",
       "p_i[9]    0.38  3.1e-4   0.03   0.32   0.36   0.38    0.4   0.43   8521    1.0\n",
       "p_i[10]   0.27  3.4e-4   0.02   0.23   0.25   0.27   0.28   0.32   4761    1.0\n",
       "p_i[11]   0.15  2.6e-4   0.02   0.12   0.14   0.15   0.16   0.19   4379    1.0\n",
       "p_i[12]   0.34  3.3e-4   0.03   0.29   0.32   0.34   0.36    0.4   8022    1.0\n",
       "p_i[13]    0.2  3.0e-4   0.02   0.16   0.19    0.2   0.21   0.24   4476    1.0\n",
       "p_i[14]   0.66  2.7e-4   0.03   0.61   0.64   0.66   0.68   0.71   9374    1.0\n",
       "p_i[15]   0.12  2.4e-4   0.02    0.1   0.11   0.12   0.13   0.16   4373    1.0\n",
       "p_i[16]   0.09  2.0e-4   0.01   0.06   0.08   0.09   0.09   0.11   4419    1.0\n",
       "p_i[17]   0.49  4.7e-4   0.04   0.42   0.47   0.49   0.52   0.56   5765    1.0\n",
       "p_i[18]   0.29  3.5e-4   0.02   0.24   0.27   0.29    0.3   0.34   4859    1.0\n",
       "p_i[19]   0.44  4.4e-4   0.03   0.38   0.42   0.44   0.46    0.5   5581    1.0\n",
       "p_i[20]   0.84  3.8e-4   0.03   0.77   0.82   0.84   0.86   0.89   6569    1.0\n",
       "p_i[21]   0.59  5.1e-4   0.04   0.51   0.56   0.59   0.62   0.67   6010    1.0\n",
       "p_i[22]   0.46  4.5e-4   0.03   0.39   0.43   0.46   0.48   0.52   5648    1.0\n",
       "p_i[23]   0.09  2.0e-4   0.01   0.06   0.08   0.09    0.1   0.12   4416    1.0\n",
       "p_i[24]    0.3  3.4e-4   0.03   0.24   0.27   0.29   0.31   0.35   7424    1.0\n",
       "p_i[25]   0.11  2.3e-4   0.01   0.08    0.1   0.11   0.12   0.14   4386    1.0\n",
       "p_i[26]   0.38  4.1e-4   0.03   0.32   0.36   0.38    0.4   0.44   5327    1.0\n",
       "p_i[27]   0.21  3.0e-4   0.02   0.17    0.2   0.21   0.22   0.25   4509    1.0\n",
       "p_i[28]   0.11  2.2e-4   0.01   0.08    0.1   0.11   0.12   0.14   4390    1.0\n",
       "p_i[29]   0.15  2.6e-4   0.02   0.11   0.13   0.14   0.16   0.18   4374    1.0\n",
       "p_i[30]   0.12  2.4e-4   0.02   0.09   0.11   0.12   0.13   0.15   4375    1.0\n",
       "p_i[31]   0.15  2.6e-4   0.02   0.11   0.13   0.14   0.16   0.18   4375    1.0\n",
       "p_i[32]   0.09  2.0e-4   0.01   0.06   0.08   0.09    0.1   0.11   4418    1.0\n",
       "p_i[33]    0.5  4.8e-4   0.04   0.43   0.48    0.5   0.53   0.57   5789    1.0\n",
       "p_i[34]   0.77  2.8e-4   0.02   0.72   0.75   0.77   0.79   0.82   7735    1.0\n",
       "p_i[35]   0.75  2.8e-4   0.03    0.7   0.73   0.75   0.77    0.8   8008    1.0\n",
       "p_i[36]   0.96  1.4e-4   0.01   0.94   0.95   0.96   0.97   0.98   5734    1.0\n",
       "p_i[37]   0.65  2.7e-4   0.03    0.6   0.63   0.65   0.67    0.7   9596    1.0\n",
       "p_i[38]   0.32  3.7e-4   0.03   0.27    0.3   0.32   0.34   0.38   5040    1.0\n",
       "p_i[39]   0.91  2.5e-4   0.02   0.87    0.9   0.91   0.93   0.95   6129    1.0\n",
       "p_i[40]   0.11  2.3e-4   0.02   0.08    0.1   0.11   0.12   0.14   4384    1.0\n",
       "p_i[41]   0.92  2.2e-4   0.02   0.89   0.91   0.93   0.94   0.95   6031    1.0\n",
       "p_i[42]   0.05  1.4e-4 9.4e-3   0.03   0.04   0.05   0.05   0.07   4539    1.0\n",
       "p_i[43]   0.92  2.1e-4   0.02   0.88    0.9   0.92   0.93   0.95   6262    1.0\n",
       "p_i[44]   0.75  2.8e-4   0.03    0.7   0.73   0.75   0.76   0.79   8037    1.0\n",
       "p_i[45]   0.11  2.3e-4   0.01   0.08    0.1   0.11   0.12   0.14   4386    1.0\n",
       "p_i[46]   0.65  5.2e-4   0.04   0.56   0.62   0.65   0.67   0.72   6098    1.0\n",
       "p_i[47]   0.22  3.1e-4   0.02   0.18    0.2   0.22   0.23   0.26   4532    1.0\n",
       "p_i[48]   0.24  3.2e-4   0.02    0.2   0.23   0.24   0.26   0.29   4642    1.0\n",
       "p_i[49]   0.79  2.8e-4   0.02   0.75   0.78    0.8   0.81   0.84   7396    1.0\n",
       "p_i[50]   0.48  4.6e-4   0.04   0.41   0.45   0.48    0.5   0.55   5718    1.0\n",
       "p_i[51]   0.39  4.1e-4   0.03   0.33   0.37   0.39   0.41   0.45   5376    1.0\n",
       "p_i[52]   0.52  4.8e-4   0.04   0.44   0.49   0.52   0.54   0.59   5827    1.0\n",
       "p_i[53]   0.26  3.5e-4   0.03    0.2   0.24   0.25   0.27   0.31   6998    1.0\n",
       "p_i[54]   0.36  4.0e-4   0.03   0.31   0.34   0.36   0.38   0.42   5237    1.0\n",
       "p_i[55]   0.23  3.2e-4   0.02   0.19   0.22   0.23   0.25   0.28   4594    1.0\n",
       "p_i[56]   0.28  3.5e-4   0.02   0.24   0.27   0.28    0.3   0.33   4834    1.0\n",
       "p_i[57]   0.36  3.9e-4   0.03   0.31   0.34   0.36   0.38   0.42   5236    1.0\n",
       "p_i[58]   0.15  2.6e-4   0.02   0.12   0.14   0.15   0.16   0.19   4380    1.0\n",
       "p_i[59]   0.87  3.3e-4   0.03   0.81   0.85   0.87   0.88   0.91   6418    1.0\n",
       "p_i[60]   0.26  3.4e-4   0.02   0.22   0.25   0.26   0.28   0.31   4729    1.0\n",
       "p_i[61]   0.31  3.6e-4   0.03   0.26   0.29    0.3   0.32   0.36   4948    1.0\n",
       "p_i[62]   0.24  3.2e-4   0.02    0.2   0.22   0.24   0.25   0.28   4617    1.0\n",
       "p_i[63]   0.09  2.1e-4   0.01   0.07   0.08   0.09    0.1   0.12   4409    1.0\n",
       "p_i[64]   0.59  2.6e-4   0.03   0.54   0.57   0.59   0.61   0.64  10378    1.0\n",
       "p_i[65]   0.64  2.7e-4   0.03   0.59   0.62   0.64   0.66   0.69   9730    1.0\n",
       "p_i[66]   0.93  2.0e-4   0.02    0.9   0.92   0.93   0.94   0.96   6167    1.0\n",
       "p_i[67]   0.32  3.7e-4   0.03   0.27    0.3   0.32   0.34   0.37   5030    1.0\n",
       "p_i[68]   0.11  2.3e-4   0.02   0.08    0.1   0.11   0.12   0.14   4384    1.0\n",
       "p_i[69]    0.3  3.6e-4   0.03   0.25   0.28    0.3   0.32   0.35   4928    1.0\n",
       "p_i[70]   0.68  5.2e-4   0.04    0.6   0.65   0.68   0.71   0.76   6129    1.0\n",
       "p_i[71]   0.81  2.8e-4   0.02   0.76    0.8   0.81   0.83   0.86   7202    1.0\n",
       "p_i[72]   0.24  3.5e-4   0.03   0.19   0.22   0.24   0.26    0.3   6864    1.0\n",
       "p_i[73]    0.3  3.6e-4   0.03   0.25   0.28    0.3   0.32   0.35   4925    1.0\n",
       "p_i[74]   0.34  3.8e-4   0.03   0.29   0.32   0.34   0.36   0.39   5121    1.0\n",
       "p_i[75]   0.26  3.3e-4   0.02   0.22   0.24   0.26   0.28   0.31   4716    1.0\n",
       "p_i[76]   0.13  2.4e-4   0.02    0.1   0.11   0.13   0.14   0.16   4373    1.0\n",
       "p_i[77]   0.35  3.9e-4   0.03    0.3   0.33   0.35   0.37    0.4   5172    1.0\n",
       "p_i[78]   0.47  4.6e-4   0.03    0.4   0.44   0.47   0.49   0.54   5683    1.0\n",
       "p_i[79]   0.85  2.7e-4   0.02    0.8   0.83   0.85   0.86   0.89   6813    1.0\n",
       "p_i[80]   0.97  1.2e-4 8.8e-3   0.95   0.96   0.97   0.98   0.98   5656    1.0\n",
       "p_i[81]   0.63  2.7e-4   0.03   0.58   0.61   0.63   0.65   0.68   9872    1.0\n",
       "p_i[82]   0.65  5.2e-4   0.04   0.57   0.63   0.65   0.68   0.73   6106    1.0\n",
       "p_i[83]   0.38  3.1e-4   0.03   0.33   0.36   0.38    0.4   0.44   8606    1.0\n",
       "p_i[84]   0.45  4.5e-4   0.03   0.39   0.43   0.45   0.48   0.52   5634    1.0\n",
       "p_i[85]   0.42  4.3e-4   0.03   0.36   0.39   0.42   0.44   0.48   5490    1.0\n",
       "p_i[86]   0.13  2.5e-4   0.02    0.1   0.12   0.13   0.14   0.16   4371    1.0\n",
       "p_i[87]   0.77  2.8e-4   0.02   0.72   0.75   0.77   0.79   0.82   7685    1.0\n",
       "p_i[88]   0.31  3.6e-4   0.03   0.26   0.29   0.31   0.32   0.36   4951    1.0\n",
       "p_i[89]   0.12  2.4e-4   0.02   0.09   0.11   0.12   0.13   0.16   4374    1.0\n",
       "p_i[90]   0.22  3.1e-4   0.02   0.18   0.21   0.22   0.24   0.27   4554    1.0\n",
       "p_i[91]   0.84  2.7e-4   0.02   0.79   0.82   0.84   0.85   0.88   6924    1.0\n",
       "p_i[92]   0.11  2.2e-4   0.01   0.08    0.1   0.11   0.12   0.14   4390    1.0\n",
       "p_i[93]   0.15  2.6e-4   0.02   0.11   0.13   0.15   0.16   0.18   4375    1.0\n",
       "p_i[94]   0.47  4.6e-4   0.03    0.4   0.44   0.47   0.49   0.54   5682    1.0\n",
       "p_i[95]   0.57  2.6e-4   0.03   0.52   0.56   0.57   0.59   0.63  10476    1.0\n",
       "p_i[96]   0.09  2.0e-4   0.01   0.06   0.08   0.09    0.1   0.12   4417    1.0\n",
       "lp__    -389.7    0.02   1.21 -392.8 -390.2 -389.4 -388.8 -388.3   3424    1.0\n",
       "\n",
       "Samples were drawn using NUTS at Thu Nov 25 11:47:37 2021.\n",
       "For each parameter, n_eff is a crude measure of effective sample size,\n",
       "and Rhat is the potential scale reduction factor on split chains (at \n",
       "convergence, Rhat=1)."
      ]
     },
     "execution_count": 23,
     "metadata": {},
     "output_type": "execute_result"
    }
   ],
   "source": [
    "fit_apoe"
   ]
  },
  {
   "cell_type": "markdown",
   "metadata": {},
   "source": [
    "Is this model better fitting the diagnosis than the previous one?"
   ]
  },
  {
   "cell_type": "code",
   "execution_count": 24,
   "metadata": {},
   "outputs": [],
   "source": [
    "p_i = fit_apoe.extract()['p_i']\n",
    "\n",
    "lppd = []\n",
    "pwaic = []\n",
    "for k in range(len(data_ct_ad)):\n",
    "    id_log_lik = []\n",
    "    for i in range(1000):\n",
    "        p = p_i[i,k]\n",
    "        id_log_lik.append(scipy.stats.binom.logpmf(data_ct_ad['DX'].values[k], 1, p))\n",
    "    lppd.append(scipy.special.logsumexp(id_log_lik) - np.log(len(id_log_lik)))\n",
    "    pwaic.append(np.var(id_log_lik))\n",
    "\n",
    "waic_apoe = -2 * (np.sum(lppd) - np.sum(pwaic))"
   ]
  },
  {
   "cell_type": "code",
   "execution_count": 25,
   "metadata": {},
   "outputs": [
    {
     "data": {
      "text/plain": [
       "922.1536985905234"
      ]
     },
     "execution_count": 25,
     "metadata": {},
     "output_type": "execute_result"
    }
   ],
   "source": [
    "waic"
   ]
  },
  {
   "cell_type": "code",
   "execution_count": 26,
   "metadata": {},
   "outputs": [
    {
     "data": {
      "text/plain": [
       "782.3471489560841"
      ]
     },
     "execution_count": 26,
     "metadata": {},
     "output_type": "execute_result"
    }
   ],
   "source": [
    "waic_apoe"
   ]
  },
  {
   "cell_type": "code",
   "execution_count": null,
   "metadata": {},
   "outputs": [],
   "source": []
  }
 ],
 "metadata": {
  "kernelspec": {
   "display_name": "Python 3",
   "language": "python",
   "name": "python3"
  },
  "language_info": {
   "codemirror_mode": {
    "name": "ipython",
    "version": 3
   },
   "file_extension": ".py",
   "mimetype": "text/x-python",
   "name": "python",
   "nbconvert_exporter": "python",
   "pygments_lexer": "ipython3",
   "version": "3.6.13"
  }
 },
 "nbformat": 4,
 "nbformat_minor": 4
}
