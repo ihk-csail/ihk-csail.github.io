{
 "cells": [
  {
   "cell_type": "code",
   "execution_count": null,
   "metadata": {
    "id": "2V6ogtQ1o0Hf"
   },
   "outputs": [],
   "source": [
    "import numpy as np\n",
    "import pandas as pd\n",
    "import scipy \n",
    "import matplotlib.pyplot as plt \n",
    "from scipy.stats import norm, binom, uniform\n",
    "from scipy.special import logsumexp\n",
    "\n",
    "%run tools.py"
   ]
  },
  {
   "cell_type": "markdown",
   "metadata": {},
   "source": [
    "# Exercise 1"
   ]
  },
  {
   "cell_type": "markdown",
   "metadata": {},
   "source": [
    "In this exercice we are going to analyse the dipendence between height and weight in the *Howell* dataset (from lesson 5), and consider also individuals aged less than 18 years old.\n",
    "\n",
    "**1) Recover the *Howell* dataset, and plot weight (centered) vs height.**"
   ]
  },
  {
   "cell_type": "code",
   "execution_count": null,
   "metadata": {},
   "outputs": [],
   "source": []
  },
  {
   "cell_type": "markdown",
   "metadata": {},
   "source": [
    "**2) Investigate the relationship between weight and height. \n",
    "Which hypothesis is better supported by the data?**\n",
    "\n",
    "**- the relationship is linear**\n",
    "\n",
    "**- the relationship is quadratic**\n",
    "\n",
    "**Plot the average results.**"
   ]
  },
  {
   "cell_type": "code",
   "execution_count": null,
   "metadata": {},
   "outputs": [],
   "source": [
    "# linear model\n",
    "\n",
    "# Initializing the likelihood\n",
    "\n",
    "# Defining the prior with hyperparameters \n",
    "\n",
    "# Computing posterior samples\n",
    "\n",
    "# Plot the average results"
   ]
  },
  {
   "cell_type": "code",
   "execution_count": null,
   "metadata": {},
   "outputs": [],
   "source": [
    "# Quadratic model\n",
    "\n",
    "# Initializing the likelihood\n",
    "\n",
    "# Defining the prior with hyperparameters \n",
    "\n",
    "# Computing posterior samples\n",
    "\n",
    "# Plot the average results"
   ]
  },
  {
   "cell_type": "markdown",
   "metadata": {},
   "source": [
    "**3) Compute a 95\\% confidence interval for the parameters of the retained model.**"
   ]
  },
  {
   "cell_type": "code",
   "execution_count": null,
   "metadata": {},
   "outputs": [],
   "source": []
  },
  {
   "cell_type": "markdown",
   "metadata": {},
   "source": [
    "**4) Compute a 90\\% confidence interval for the prediction of the mean height for a person of 50 kg, and plot his predicted height distribution.**"
   ]
  },
  {
   "cell_type": "code",
   "execution_count": null,
   "metadata": {},
   "outputs": [],
   "source": []
  },
  {
   "cell_type": "markdown",
   "metadata": {},
   "source": [
    "**5) Estimate the posterior uncertainty of the prediction, accounting for the estimated regression noise.**"
   ]
  },
  {
   "cell_type": "code",
   "execution_count": null,
   "metadata": {},
   "outputs": [],
   "source": []
  },
  {
   "cell_type": "markdown",
   "metadata": {
    "id": "A6gkZy9Go0Hh"
   },
   "source": [
    "# Exercise 2 (Statistical Rethinking, McElreath et al, Chapter 5)\n"
   ]
  },
  {
   "cell_type": "code",
   "execution_count": null,
   "metadata": {
    "id": "L9hLgFqoo0Hh"
   },
   "outputs": [],
   "source": [
    "data = pd.read_csv('milk_clean.csv',sep=',')\n",
    "print(data.columns)"
   ]
  },
  {
   "cell_type": "markdown",
   "metadata": {
    "id": "nRY2xlLUo0Hj"
   },
   "source": [
    "\n",
    "**1) Analyze the relationship of milk energy with respect to percentage fat and percentage lactose through two independent linear regressions. Comment.**"
   ]
  },
  {
   "cell_type": "code",
   "execution_count": null,
   "metadata": {
    "id": "2UPxBy9lo0Hj"
   },
   "outputs": [],
   "source": [
    "# Relationship of milk energy with respect to percentage fat\n",
    "\n",
    "expr = 'kcal.per.g ~ perc.fat'\n",
    "\n",
    "# Initializing the likelihood\n",
    "\n",
    "# Defining the prior with hyperparameters \n",
    "\n",
    "# Regression"
   ]
  },
  {
   "cell_type": "code",
   "execution_count": null,
   "metadata": {
    "id": "fK-DGmEao0Hk"
   },
   "outputs": [],
   "source": [
    "# Relationship of milk energy with respect to percentage lactose\n"
   ]
  },
  {
   "cell_type": "markdown",
   "metadata": {
    "id": "_FZGf9nvo0Hk"
   },
   "source": [
    "**2) What happens if we regress kcal.per.g with respect to both perc.fat and perc.lactose ?**"
   ]
  },
  {
   "cell_type": "code",
   "execution_count": null,
   "metadata": {
    "id": "DQtOzm87o0Hk"
   },
   "outputs": [],
   "source": [
    "expr = "
   ]
  },
  {
   "cell_type": "markdown",
   "metadata": {
    "id": "3i118arRo0Hl"
   },
   "source": [
    "**3) Can you explain the differences observed between the results of questions 1 and 2 ?**"
   ]
  },
  {
   "cell_type": "code",
   "execution_count": null,
   "metadata": {
    "id": "6QipZ5rOo0Hm"
   },
   "outputs": [],
   "source": [
    "fields = ['kcal.per.g', 'perc.fat', 'perc.lactose']\n",
    "\n",
    "plt.figure(figsize=(8,8))\n",
    "\n",
    "for i, field in enumerate(fields):\n",
    "    \n",
    "    for j in range(len(fields)):\n",
    "    \n",
    "        plt.subplot(len(fields), len(fields), len(fields)*i + j + 1)\n",
    "        \n",
    "        if i==j:\n",
    "            plt.text(0.25,0.5, field, fontsize=15)\n",
    "            plt.xticks([])\n",
    "            plt.yticks([])\n",
    "        else:\n",
    "            plt.scatter(data[fields[j]],data[field])"
   ]
  },
  {
   "cell_type": "code",
   "execution_count": null,
   "metadata": {
    "id": "5KWbxp7Yo0Hm"
   },
   "outputs": [],
   "source": [
    "\n"
   ]
  },
  {
   "cell_type": "markdown",
   "metadata": {
    "id": "gUpGj8Vwo0Hm"
   },
   "source": [
    "**4) Study the effect of correlation between predictors**\n",
    "\n",
    "To answer this question you will create a dummy variable whose correlation with perc.fat varies. Then you will fit many linear regressions (let's say 10) using these two variables and observe the effect on the mean standard deviation of b_fat."
   ]
  },
  {
   "cell_type": "code",
   "execution_count": null,
   "metadata": {
    "id": "UshOzw4Lo0Hm",
    "scrolled": true
   },
   "outputs": [],
   "source": [
    "corr = np.linspace(0., 0.99, 10)\n",
    "print(corr)\n",
    "std_err_list = []\n",
    "\n",
    "for coeff in corr:\n",
    "    # Generate dummy variable with correlation coeff with perc.fat\n",
    "    data['x'] = \n",
    "\n",
    "    \n",
    "    \n",
    "    temp_list = []\n",
    "    \n",
    "    # In temp_list we are going to save std of posterior samples\n",
    "    for i in range(500):\n",
    "        # Relationship of milk energy with respect to both perc.fat and the dummy variable x\n",
    "        expr = 'kcal.per.g ~ perc.fat + x'\n",
    "\n",
    "        \n",
    "\n",
    "\n",
    "        posterior_samples = post_sample_Laplace(solution_regression, 500)\n",
    "        temp_list.append(np.std(posterior_samples[:,1]))\n",
    "        \n",
    "    std_err_list.append(np.mean(temp_list))\n",
    "    \n",
    "plt.figure()\n",
    "plt.plot(corr, std_err_list)\n",
    "plt.xlabel('correlation')\n",
    "plt.ylabel('std dev b_fat')\n",
    "plt.show()"
   ]
  },
  {
   "cell_type": "markdown",
   "metadata": {
    "id": "dnt7sY5uo0H4"
   },
   "source": [
    "# Exercise 3\n",
    "\n",
    "In this exercise we will show how to use the Laplace approximation by deriving the equations on an example."
   ]
  },
  {
   "cell_type": "markdown",
   "metadata": {
    "id": "dHXY4F5Zo0H4"
   },
   "source": [
    "Consider a random variable $\\theta$ following a uniform distribution on [0, 1]. Let's consider a dummy experiment in which two outcomes are possible (success and failure). The experiment is made n times with k successes. The experiments are independent from each other. The probability of success is given by $\\theta$. We will denote by y the random variable describing the number of successes. \n",
    "\n",
    "**1) Write the data likelihood and the posterior distribution $p(\\theta|y)$ (up to constant).**"
   ]
  },
  {
   "cell_type": "markdown",
   "metadata": {
    "id": "7poz1e2fo0H4"
   },
   "source": [
    "**2) Estimate the posterior distribution $p(\\theta|y)$ using the Laplace approximation. You will derive the computations yourself.**"
   ]
  },
  {
   "cell_type": "markdown",
   "metadata": {
    "id": "8Kmyk5vGo0H4"
   },
   "source": [
    "**3) Plot the posterior pdf of $\\theta$ obtained with the Laplace approximation and the true posterior.**\n"
   ]
  },
  {
   "cell_type": "code",
   "execution_count": null,
   "metadata": {
    "id": "11NJb4DUo0H4"
   },
   "outputs": [],
   "source": []
  },
  {
   "cell_type": "code",
   "execution_count": null,
   "metadata": {
    "id": "s_ofMG1so0H5"
   },
   "outputs": [],
   "source": []
  },
  {
   "cell_type": "code",
   "execution_count": null,
   "metadata": {
    "id": "aLkb_dJco0H5"
   },
   "outputs": [],
   "source": []
  }
 ],
 "metadata": {
  "colab": {
   "collapsed_sections": [],
   "name": "ExerciseSession2_no-solutions.ipynb",
   "provenance": [],
   "toc_visible": true
  },
  "kernelspec": {
   "display_name": "Python 3 (ipykernel)",
   "language": "python",
   "name": "python3"
  },
  "language_info": {
   "codemirror_mode": {
    "name": "ipython",
    "version": 3
   },
   "file_extension": ".py",
   "mimetype": "text/x-python",
   "name": "python",
   "nbconvert_exporter": "python",
   "pygments_lexer": "ipython3",
   "version": "3.9.12"
  }
 },
 "nbformat": 4,
 "nbformat_minor": 1
}
