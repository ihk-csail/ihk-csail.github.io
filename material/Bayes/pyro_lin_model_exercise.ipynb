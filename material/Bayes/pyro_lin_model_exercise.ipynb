{
 "cells": [
  {
   "cell_type": "code",
   "execution_count": null,
   "id": "9ef00fe7",
   "metadata": {},
   "outputs": [],
   "source": [
    "import torch\n",
    "import numpy as np\n",
    "import matplotlib.pyplot as plt\n",
    "import pyro\n"
   ]
  },
  {
   "cell_type": "markdown",
   "id": "03935960",
   "metadata": {},
   "source": [
    "# Practical exercises with VI"
   ]
  },
  {
   "cell_type": "markdown",
   "id": "cf23961e",
   "metadata": {},
   "source": [
    "1- Start from the example seen the last week in class. Extend it to estimate a posterior distribution for the variance"
   ]
  },
  {
   "cell_type": "code",
   "execution_count": null,
   "id": "615a9026",
   "metadata": {},
   "outputs": [],
   "source": [
    "sigma = pyro.sample(\"sigma\", dist.LogNormal(sigma_loc, torch.tensor(0.05)))"
   ]
  },
  {
   "cell_type": "markdown",
   "id": "cae87062",
   "metadata": {},
   "source": [
    "2- Consider the following linear regression problem. Find the posterior distribution for the regression parameters"
   ]
  },
  {
   "cell_type": "code",
   "execution_count": null,
   "id": "33759d30",
   "metadata": {},
   "outputs": [],
   "source": [
    "# Generate some synthetic data\n",
    "N = 100\n",
    "x = torch.randn(N, 1)\n",
    "w_true = 2.0\n",
    "b_true = 1.0\n",
    "noise_std = 0.5\n",
    "y = w_true * x + b_true + noise_std * torch.randn(N, 1)\n"
   ]
  },
  {
   "cell_type": "code",
   "execution_count": null,
   "id": "94d6dc01",
   "metadata": {},
   "outputs": [],
   "source": []
  }
 ],
 "metadata": {
  "kernelspec": {
   "display_name": "Python 3",
   "language": "python",
   "name": "python3"
  },
  "language_info": {
   "codemirror_mode": {
    "name": "ipython",
    "version": 3
   },
   "file_extension": ".py",
   "mimetype": "text/x-python",
   "name": "python",
   "nbconvert_exporter": "python",
   "pygments_lexer": "ipython3",
   "version": "3.6.13"
  }
 },
 "nbformat": 4,
 "nbformat_minor": 5
}
